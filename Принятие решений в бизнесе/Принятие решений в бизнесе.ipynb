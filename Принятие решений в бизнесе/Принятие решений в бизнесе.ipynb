{
 "cells": [
  {
   "cell_type": "markdown",
   "id": "d335b745",
   "metadata": {},
   "source": [
    "## Оглавление\n",
    "\n",
    "[1. Открытие файла с данными и изучение общей информации](#intro)\n",
    "\n",
    "[2. Предобработка данных](#intro1)\n",
    "\n",
    "  - [2.1 Стиль заголовков](#intro2)\n",
    "  - [2.2 Замена типа данных](#intro3)\n",
    "  - [2.3 Обработка дубликатов](#intro4)\n",
    "  - [2.4 Проверка деления трафика](#intro5)\n",
    "\n",
    "[3. Приоритизация гипотез](#intro6)\n",
    "\n",
    "[4. Анализ A/B-теста](#intro7)\n",
    "\n",
    "  - [4.1 Исследование кумулятивных метрик](#intro8)\n",
    "  - [4.2 Анализ выбросов и всплесков](#intro9)\n",
    "  - [4.3 Проверка данных на нормальность распределения](#intro10)\n",
    "  - [4.4 Расчет статистической значимости в метриках между группами](#intro11)\n",
    "  - [4.5 Решение по результатам теста](#intro12)\n",
    "\n",
    "[5. Общий вывод](#intro13)\n"
   ]
  },
  {
   "cell_type": "markdown",
   "id": "b0bc81a7",
   "metadata": {},
   "source": [
    "## Принятие решений в бизнесе"
   ]
  },
  {
   "cell_type": "markdown",
   "id": "bcd83241",
   "metadata": {},
   "source": [
    "Я, как аналитик, вместе с отделом маркетинга крупного интернет-магазина подготовили список гипотез для увеличения выручки. "
   ]
  },
  {
   "cell_type": "markdown",
   "id": "f693856b",
   "metadata": {},
   "source": [
    "### Задача.\n",
    "\n",
    "Необходимо приоритизировать гипотезы, запустить A/B-тест и проанализировать результаты."
   ]
  },
  {
   "cell_type": "markdown",
   "id": "b0df3efb",
   "metadata": {},
   "source": [
    "## 1. Открытие файла с данными и изучение общей информации               <a id='intro'></a>"
   ]
  },
  {
   "cell_type": "code",
   "execution_count": 1,
   "id": "2fd410f0",
   "metadata": {},
   "outputs": [],
   "source": [
    "import pandas as pd\n",
    "import numpy as np\n",
    "import datetime as dt\n",
    "import scipy.stats as st\n",
    "import matplotlib.pyplot as plt\n",
    "from datetime import datetime, timedelta\n",
    "import seaborn as sns\n",
    "import warnings\n",
    "warnings.filterwarnings(action='ignore')\n",
    "pd.set_option(\"max_colwidth\", 110)"
   ]
  },
  {
   "cell_type": "code",
   "execution_count": 2,
   "id": "c12aeff6",
   "metadata": {},
   "outputs": [],
   "source": [
    "try:\n",
    "    hypothesis = pd.read_csv('/datasets/hypothesis.csv', sep=',')\n",
    "except:\n",
    "    hypothesis = pd.read_csv('hypothesis.csv', sep=',')"
   ]
  },
  {
   "cell_type": "markdown",
   "id": "a03e77db",
   "metadata": {},
   "source": [
    "Выведем первые 5 строк датасета `hypothesis`"
   ]
  },
  {
   "cell_type": "code",
   "execution_count": 3,
   "id": "491e9f1c",
   "metadata": {},
   "outputs": [
    {
     "data": {
      "text/html": [
       "<div>\n",
       "<style scoped>\n",
       "    .dataframe tbody tr th:only-of-type {\n",
       "        vertical-align: middle;\n",
       "    }\n",
       "\n",
       "    .dataframe tbody tr th {\n",
       "        vertical-align: top;\n",
       "    }\n",
       "\n",
       "    .dataframe thead th {\n",
       "        text-align: right;\n",
       "    }\n",
       "</style>\n",
       "<table border=\"1\" class=\"dataframe\">\n",
       "  <thead>\n",
       "    <tr style=\"text-align: right;\">\n",
       "      <th></th>\n",
       "      <th>Hypothesis</th>\n",
       "      <th>Reach</th>\n",
       "      <th>Impact</th>\n",
       "      <th>Confidence</th>\n",
       "      <th>Efforts</th>\n",
       "    </tr>\n",
       "  </thead>\n",
       "  <tbody>\n",
       "    <tr>\n",
       "      <th>0</th>\n",
       "      <td>Добавить два новых канала привлечения трафика, что позволит привлекать на 30% больше пользователей</td>\n",
       "      <td>3</td>\n",
       "      <td>10</td>\n",
       "      <td>8</td>\n",
       "      <td>6</td>\n",
       "    </tr>\n",
       "    <tr>\n",
       "      <th>1</th>\n",
       "      <td>Запустить собственную службу доставки, что сократит срок доставки заказов</td>\n",
       "      <td>2</td>\n",
       "      <td>5</td>\n",
       "      <td>4</td>\n",
       "      <td>10</td>\n",
       "    </tr>\n",
       "    <tr>\n",
       "      <th>2</th>\n",
       "      <td>Добавить блоки рекомендаций товаров на сайт интернет магазина, чтобы повысить конверсию и средний чек заказа</td>\n",
       "      <td>8</td>\n",
       "      <td>3</td>\n",
       "      <td>7</td>\n",
       "      <td>3</td>\n",
       "    </tr>\n",
       "    <tr>\n",
       "      <th>3</th>\n",
       "      <td>Изменить структура категорий, что увеличит конверсию, т.к. пользователи быстрее найдут нужный товар</td>\n",
       "      <td>8</td>\n",
       "      <td>3</td>\n",
       "      <td>3</td>\n",
       "      <td>8</td>\n",
       "    </tr>\n",
       "    <tr>\n",
       "      <th>4</th>\n",
       "      <td>Изменить цвет фона главной страницы, чтобы увеличить вовлеченность пользователей</td>\n",
       "      <td>3</td>\n",
       "      <td>1</td>\n",
       "      <td>1</td>\n",
       "      <td>1</td>\n",
       "    </tr>\n",
       "  </tbody>\n",
       "</table>\n",
       "</div>"
      ],
      "text/plain": [
       "                                                                                                     Hypothesis  \\\n",
       "0            Добавить два новых канала привлечения трафика, что позволит привлекать на 30% больше пользователей   \n",
       "1                                     Запустить собственную службу доставки, что сократит срок доставки заказов   \n",
       "2  Добавить блоки рекомендаций товаров на сайт интернет магазина, чтобы повысить конверсию и средний чек заказа   \n",
       "3           Изменить структура категорий, что увеличит конверсию, т.к. пользователи быстрее найдут нужный товар   \n",
       "4                              Изменить цвет фона главной страницы, чтобы увеличить вовлеченность пользователей   \n",
       "\n",
       "   Reach  Impact  Confidence  Efforts  \n",
       "0      3      10           8        6  \n",
       "1      2       5           4       10  \n",
       "2      8       3           7        3  \n",
       "3      8       3           3        8  \n",
       "4      3       1           1        1  "
      ]
     },
     "execution_count": 3,
     "metadata": {},
     "output_type": "execute_result"
    }
   ],
   "source": [
    "hypothesis.head()"
   ]
  },
  {
   "cell_type": "markdown",
   "id": "c4193a53",
   "metadata": {},
   "source": [
    "Посмотрим общую информацию о данных в датасете `hypothesis`"
   ]
  },
  {
   "cell_type": "code",
   "execution_count": 4,
   "id": "53c9554c",
   "metadata": {},
   "outputs": [
    {
     "name": "stdout",
     "output_type": "stream",
     "text": [
      "<class 'pandas.core.frame.DataFrame'>\n",
      "RangeIndex: 9 entries, 0 to 8\n",
      "Data columns (total 5 columns):\n",
      " #   Column      Non-Null Count  Dtype \n",
      "---  ------      --------------  ----- \n",
      " 0   Hypothesis  9 non-null      object\n",
      " 1   Reach       9 non-null      int64 \n",
      " 2   Impact      9 non-null      int64 \n",
      " 3   Confidence  9 non-null      int64 \n",
      " 4   Efforts     9 non-null      int64 \n",
      "dtypes: int64(4), object(1)\n",
      "memory usage: 488.0+ bytes\n"
     ]
    }
   ],
   "source": [
    "hypothesis.info()"
   ]
  },
  {
   "cell_type": "markdown",
   "id": "79042053",
   "metadata": {},
   "source": [
    "Посмотрим процент пропусков по столбцам."
   ]
  },
  {
   "cell_type": "code",
   "execution_count": 5,
   "id": "0452ce97",
   "metadata": {},
   "outputs": [
    {
     "data": {
      "text/plain": [
       "Hypothesis    0.0\n",
       "Reach         0.0\n",
       "Impact        0.0\n",
       "Confidence    0.0\n",
       "Efforts       0.0\n",
       "dtype: float64"
      ]
     },
     "execution_count": 5,
     "metadata": {},
     "output_type": "execute_result"
    }
   ],
   "source": [
    "round((hypothesis.isna().mean()*100),2)"
   ]
  },
  {
   "cell_type": "markdown",
   "id": "d3672ccc",
   "metadata": {},
   "source": [
    "В таблице 5 столбцов. Есть такие типы данных как: `int64` и `object`. Пропусков значений в столбцах нет."
   ]
  },
  {
   "cell_type": "markdown",
   "id": "a72453cc",
   "metadata": {},
   "source": [
    "Согласно документации к данным:\n",
    "- `Hypothesis` — краткое описание гипотезы;\n",
    "- `Reach` — охват пользователей по 10-балльной шкале;\n",
    "- `Impact` — влияние на пользователей по 10-балльной шкале;\n",
    "- `Confidence` — уверенность в гипотезе по 10-балльной шкале;\n",
    "- `Efforts` — затраты ресурсов на проверку гипотезы по 10-балльной шкале."
   ]
  },
  {
   "cell_type": "markdown",
   "id": "fe4d0760",
   "metadata": {},
   "source": [
    "В названиях колонок видно нарушение стиля: строчные буквы сочетаются с прописными."
   ]
  },
  {
   "cell_type": "code",
   "execution_count": 6,
   "id": "1e8d6096",
   "metadata": {},
   "outputs": [],
   "source": [
    "try:\n",
    "    orders = pd.read_csv('/datasets/orders.csv', sep=',')\n",
    "except:\n",
    "    orders = pd.read_csv('orders.csv', sep=',')"
   ]
  },
  {
   "cell_type": "markdown",
   "id": "bdbc71a2",
   "metadata": {},
   "source": [
    "Выведем первые 5 строк датасета `orders`"
   ]
  },
  {
   "cell_type": "code",
   "execution_count": 7,
   "id": "dec6235d",
   "metadata": {},
   "outputs": [
    {
     "data": {
      "text/html": [
       "<div>\n",
       "<style scoped>\n",
       "    .dataframe tbody tr th:only-of-type {\n",
       "        vertical-align: middle;\n",
       "    }\n",
       "\n",
       "    .dataframe tbody tr th {\n",
       "        vertical-align: top;\n",
       "    }\n",
       "\n",
       "    .dataframe thead th {\n",
       "        text-align: right;\n",
       "    }\n",
       "</style>\n",
       "<table border=\"1\" class=\"dataframe\">\n",
       "  <thead>\n",
       "    <tr style=\"text-align: right;\">\n",
       "      <th></th>\n",
       "      <th>transactionId</th>\n",
       "      <th>visitorId</th>\n",
       "      <th>date</th>\n",
       "      <th>revenue</th>\n",
       "      <th>group</th>\n",
       "    </tr>\n",
       "  </thead>\n",
       "  <tbody>\n",
       "    <tr>\n",
       "      <th>0</th>\n",
       "      <td>3667963787</td>\n",
       "      <td>3312258926</td>\n",
       "      <td>2019-08-15</td>\n",
       "      <td>1650</td>\n",
       "      <td>B</td>\n",
       "    </tr>\n",
       "    <tr>\n",
       "      <th>1</th>\n",
       "      <td>2804400009</td>\n",
       "      <td>3642806036</td>\n",
       "      <td>2019-08-15</td>\n",
       "      <td>730</td>\n",
       "      <td>B</td>\n",
       "    </tr>\n",
       "    <tr>\n",
       "      <th>2</th>\n",
       "      <td>2961555356</td>\n",
       "      <td>4069496402</td>\n",
       "      <td>2019-08-15</td>\n",
       "      <td>400</td>\n",
       "      <td>A</td>\n",
       "    </tr>\n",
       "    <tr>\n",
       "      <th>3</th>\n",
       "      <td>3797467345</td>\n",
       "      <td>1196621759</td>\n",
       "      <td>2019-08-15</td>\n",
       "      <td>9759</td>\n",
       "      <td>B</td>\n",
       "    </tr>\n",
       "    <tr>\n",
       "      <th>4</th>\n",
       "      <td>2282983706</td>\n",
       "      <td>2322279887</td>\n",
       "      <td>2019-08-15</td>\n",
       "      <td>2308</td>\n",
       "      <td>B</td>\n",
       "    </tr>\n",
       "  </tbody>\n",
       "</table>\n",
       "</div>"
      ],
      "text/plain": [
       "   transactionId   visitorId        date  revenue group\n",
       "0     3667963787  3312258926  2019-08-15     1650     B\n",
       "1     2804400009  3642806036  2019-08-15      730     B\n",
       "2     2961555356  4069496402  2019-08-15      400     A\n",
       "3     3797467345  1196621759  2019-08-15     9759     B\n",
       "4     2282983706  2322279887  2019-08-15     2308     B"
      ]
     },
     "execution_count": 7,
     "metadata": {},
     "output_type": "execute_result"
    }
   ],
   "source": [
    "orders.head()"
   ]
  },
  {
   "cell_type": "markdown",
   "id": "6dfb8596",
   "metadata": {},
   "source": [
    "Посмотрим общую информацию о данных в датасете `orders`"
   ]
  },
  {
   "cell_type": "code",
   "execution_count": 8,
   "id": "c91ba3d5",
   "metadata": {},
   "outputs": [
    {
     "name": "stdout",
     "output_type": "stream",
     "text": [
      "<class 'pandas.core.frame.DataFrame'>\n",
      "RangeIndex: 1197 entries, 0 to 1196\n",
      "Data columns (total 5 columns):\n",
      " #   Column         Non-Null Count  Dtype \n",
      "---  ------         --------------  ----- \n",
      " 0   transactionId  1197 non-null   int64 \n",
      " 1   visitorId      1197 non-null   int64 \n",
      " 2   date           1197 non-null   object\n",
      " 3   revenue        1197 non-null   int64 \n",
      " 4   group          1197 non-null   object\n",
      "dtypes: int64(3), object(2)\n",
      "memory usage: 46.9+ KB\n"
     ]
    }
   ],
   "source": [
    "orders.info()"
   ]
  },
  {
   "cell_type": "markdown",
   "id": "cc6eb7af",
   "metadata": {},
   "source": [
    "Посмотрим процент пропусков по столбцам."
   ]
  },
  {
   "cell_type": "code",
   "execution_count": 9,
   "id": "08f8267b",
   "metadata": {},
   "outputs": [
    {
     "data": {
      "text/plain": [
       "transactionId    0.0\n",
       "visitorId        0.0\n",
       "date             0.0\n",
       "revenue          0.0\n",
       "group            0.0\n",
       "dtype: float64"
      ]
     },
     "execution_count": 9,
     "metadata": {},
     "output_type": "execute_result"
    }
   ],
   "source": [
    "round((orders.isna().mean()*100),2)"
   ]
  },
  {
   "cell_type": "markdown",
   "id": "d5864573",
   "metadata": {},
   "source": [
    "В таблице 5 столбцов. Есть такие типы данных как: `int64` и `object`. Пропусков значений в столбцах нет."
   ]
  },
  {
   "cell_type": "markdown",
   "id": "cf3dee30",
   "metadata": {},
   "source": [
    "Согласно документации к данным:\n",
    "- `transactionId` — идентификатор заказа;\n",
    "- `visitorId` — идентификатор пользователя, совершившего заказ;\n",
    "- `date` — дата, когда был совершён заказ;\n",
    "- `revenue` — выручка заказа;\n",
    "- `group` — группа A/B-теста, в которую попал заказ."
   ]
  },
  {
   "cell_type": "markdown",
   "id": "0768a323",
   "metadata": {},
   "source": [
    "В названиях колонок видны три нарушения стиля:\n",
    "1. Строчные буквы сочетаются с прописными;\n",
    "2. В названиях примененен стиль CamelCase('верблюжийРегистр')"
   ]
  },
  {
   "cell_type": "code",
   "execution_count": 10,
   "id": "d92ca5f2",
   "metadata": {},
   "outputs": [],
   "source": [
    "try:\n",
    "    visitors = pd.read_csv('/datasets/visitors.csv', sep=',')\n",
    "except:\n",
    "    visitors = pd.read_csv('visitors.csv', sep=',')"
   ]
  },
  {
   "cell_type": "markdown",
   "id": "9330ae6f",
   "metadata": {},
   "source": [
    "Выведем первые 5 строк датасета `visitors`"
   ]
  },
  {
   "cell_type": "code",
   "execution_count": 11,
   "id": "b2d3ba07",
   "metadata": {},
   "outputs": [
    {
     "data": {
      "text/html": [
       "<div>\n",
       "<style scoped>\n",
       "    .dataframe tbody tr th:only-of-type {\n",
       "        vertical-align: middle;\n",
       "    }\n",
       "\n",
       "    .dataframe tbody tr th {\n",
       "        vertical-align: top;\n",
       "    }\n",
       "\n",
       "    .dataframe thead th {\n",
       "        text-align: right;\n",
       "    }\n",
       "</style>\n",
       "<table border=\"1\" class=\"dataframe\">\n",
       "  <thead>\n",
       "    <tr style=\"text-align: right;\">\n",
       "      <th></th>\n",
       "      <th>date</th>\n",
       "      <th>group</th>\n",
       "      <th>visitors</th>\n",
       "    </tr>\n",
       "  </thead>\n",
       "  <tbody>\n",
       "    <tr>\n",
       "      <th>0</th>\n",
       "      <td>2019-08-01</td>\n",
       "      <td>A</td>\n",
       "      <td>719</td>\n",
       "    </tr>\n",
       "    <tr>\n",
       "      <th>1</th>\n",
       "      <td>2019-08-02</td>\n",
       "      <td>A</td>\n",
       "      <td>619</td>\n",
       "    </tr>\n",
       "    <tr>\n",
       "      <th>2</th>\n",
       "      <td>2019-08-03</td>\n",
       "      <td>A</td>\n",
       "      <td>507</td>\n",
       "    </tr>\n",
       "    <tr>\n",
       "      <th>3</th>\n",
       "      <td>2019-08-04</td>\n",
       "      <td>A</td>\n",
       "      <td>717</td>\n",
       "    </tr>\n",
       "    <tr>\n",
       "      <th>4</th>\n",
       "      <td>2019-08-05</td>\n",
       "      <td>A</td>\n",
       "      <td>756</td>\n",
       "    </tr>\n",
       "  </tbody>\n",
       "</table>\n",
       "</div>"
      ],
      "text/plain": [
       "         date group  visitors\n",
       "0  2019-08-01     A       719\n",
       "1  2019-08-02     A       619\n",
       "2  2019-08-03     A       507\n",
       "3  2019-08-04     A       717\n",
       "4  2019-08-05     A       756"
      ]
     },
     "execution_count": 11,
     "metadata": {},
     "output_type": "execute_result"
    }
   ],
   "source": [
    "visitors.head()"
   ]
  },
  {
   "cell_type": "markdown",
   "id": "17a1380a",
   "metadata": {},
   "source": [
    "Посмотрим общую информацию о данных в датасете `visitors`"
   ]
  },
  {
   "cell_type": "code",
   "execution_count": 12,
   "id": "a92e8b5b",
   "metadata": {},
   "outputs": [
    {
     "name": "stdout",
     "output_type": "stream",
     "text": [
      "<class 'pandas.core.frame.DataFrame'>\n",
      "RangeIndex: 62 entries, 0 to 61\n",
      "Data columns (total 3 columns):\n",
      " #   Column    Non-Null Count  Dtype \n",
      "---  ------    --------------  ----- \n",
      " 0   date      62 non-null     object\n",
      " 1   group     62 non-null     object\n",
      " 2   visitors  62 non-null     int64 \n",
      "dtypes: int64(1), object(2)\n",
      "memory usage: 1.6+ KB\n"
     ]
    }
   ],
   "source": [
    "visitors.info()"
   ]
  },
  {
   "cell_type": "markdown",
   "id": "8ac84b92",
   "metadata": {},
   "source": [
    "Посмотрим процент пропусков по столбцам."
   ]
  },
  {
   "cell_type": "code",
   "execution_count": 13,
   "id": "f7f86574",
   "metadata": {},
   "outputs": [
    {
     "data": {
      "text/plain": [
       "date        0.0\n",
       "group       0.0\n",
       "visitors    0.0\n",
       "dtype: float64"
      ]
     },
     "execution_count": 13,
     "metadata": {},
     "output_type": "execute_result"
    }
   ],
   "source": [
    "round((visitors.isna().mean()*100),2)"
   ]
  },
  {
   "cell_type": "markdown",
   "id": "5fad34bc",
   "metadata": {},
   "source": [
    "В таблице 3 столбца. Есть такие типы данных как: `int64` и `object`. Пропусков значений в столбцах нет."
   ]
  },
  {
   "cell_type": "markdown",
   "id": "4d92f891",
   "metadata": {},
   "source": [
    "Согласно документации к данным:\n",
    "- `date` — дата;\n",
    "- `group` — группа A/B-теста;\n",
    "- `visitors` — количество пользователей в указанную дату в указанной группе A/B-теста"
   ]
  },
  {
   "cell_type": "markdown",
   "id": "1887f0b5",
   "metadata": {},
   "source": [
    "### Вывод"
   ]
  },
  {
   "cell_type": "markdown",
   "id": "759c9bb8",
   "metadata": {},
   "source": [
    "Для исследования доступны 3 таблицы. \n",
    "\n",
    "Пропусков в датасетах не обнаружено, в названиях колонок двух таблиц имеются нарушения стиля, предварительно можно утверждать, что данных достаточно для нашего исследования."
   ]
  },
  {
   "cell_type": "markdown",
   "id": "e6584156",
   "metadata": {},
   "source": [
    "## 2. Предобработка данных                                                                <a id='intro1'></a>   "
   ]
  },
  {
   "cell_type": "markdown",
   "id": "24dcce2a",
   "metadata": {},
   "source": [
    "### 2.1 Стиль заголовков                                                                                                       <a id='intro2'></a>"
   ]
  },
  {
   "cell_type": "markdown",
   "id": "a050b642",
   "metadata": {},
   "source": [
    "Приведем названия столбцов в датасетах `hypothesis`, `orders` в соответствие с хорошим стилем с помощью методов `set_axis` и `str.lower`:\n",
    "* несколько слов в названии запишем в «змеином_регистре»,\n",
    "* все символы сделаем строчными"
   ]
  },
  {
   "cell_type": "code",
   "execution_count": 14,
   "id": "5e42368e",
   "metadata": {},
   "outputs": [
    {
     "data": {
      "text/plain": [
       "Index(['hypothesis', 'reach', 'impact', 'confidence', 'efforts'], dtype='object')"
      ]
     },
     "execution_count": 14,
     "metadata": {},
     "output_type": "execute_result"
    }
   ],
   "source": [
    "hypothesis.columns = hypothesis.columns.str.lower()\n",
    "hypothesis.columns"
   ]
  },
  {
   "cell_type": "code",
   "execution_count": 15,
   "id": "e3bd5abd",
   "metadata": {},
   "outputs": [
    {
     "data": {
      "text/plain": [
       "Index(['transaction_id', 'visitor_id', 'date', 'revenue', 'group'], dtype='object')"
      ]
     },
     "execution_count": 15,
     "metadata": {},
     "output_type": "execute_result"
    }
   ],
   "source": [
    "orders.set_axis(['transaction_id', 'visitor_id', 'date', 'revenue', 'group'], axis='columns', inplace=True)\n",
    "orders.columns"
   ]
  },
  {
   "cell_type": "markdown",
   "id": "9ca76486",
   "metadata": {},
   "source": [
    "### 2.2 Замена типа данных                                                                                                        <a id='intro3'></a>"
   ]
  },
  {
   "cell_type": "code",
   "execution_count": 16,
   "id": "f2bd4e29",
   "metadata": {},
   "outputs": [
    {
     "name": "stdout",
     "output_type": "stream",
     "text": [
      "Тип данных столбцов в датасете orders\n",
      "transaction_id             int64\n",
      "visitor_id                 int64\n",
      "date              datetime64[ns]\n",
      "revenue                    int64\n",
      "group                     object\n",
      "dtype: object\n",
      "\n",
      "Тип данных столбцов в датасете visitors\n",
      "date        datetime64[ns]\n",
      "group               object\n",
      "visitors             int64\n",
      "dtype: object\n",
      "\n"
     ]
    }
   ],
   "source": [
    "for data, df in [('orders', orders), ('visitors',visitors)]:\n",
    "    df['date'] = pd.to_datetime(df['date'])\n",
    "    print(f'Тип данных столбцов в датасете {data}')\n",
    "    print(df.dtypes)\n",
    "    print()"
   ]
  },
  {
   "cell_type": "markdown",
   "id": "349e32b0",
   "metadata": {},
   "source": [
    "### 2.3 Обработка дубликатов                                                                            <a id='intro4'></a>"
   ]
  },
  {
   "cell_type": "markdown",
   "id": "7df22d93",
   "metadata": {},
   "source": [
    "Подсчитаем количество строк-дубликатов датасета `hypothesis`. "
   ]
  },
  {
   "cell_type": "code",
   "execution_count": 17,
   "id": "929ea01b",
   "metadata": {},
   "outputs": [
    {
     "data": {
      "text/plain": [
       "0"
      ]
     },
     "execution_count": 17,
     "metadata": {},
     "output_type": "execute_result"
    }
   ],
   "source": [
    "hypothesis.duplicated().sum()"
   ]
  },
  {
   "cell_type": "markdown",
   "id": "9bfbbe51",
   "metadata": {},
   "source": [
    "Подсчитаем количество строк-дубликатов датасета `orders`. "
   ]
  },
  {
   "cell_type": "code",
   "execution_count": 18,
   "id": "c2f13ffa",
   "metadata": {},
   "outputs": [
    {
     "data": {
      "text/plain": [
       "0"
      ]
     },
     "execution_count": 18,
     "metadata": {},
     "output_type": "execute_result"
    }
   ],
   "source": [
    "orders.duplicated().sum()"
   ]
  },
  {
   "cell_type": "markdown",
   "id": "00142509",
   "metadata": {},
   "source": [
    "Подсчитаем количество строк-дубликатов датасета `visitors`."
   ]
  },
  {
   "cell_type": "code",
   "execution_count": 19,
   "id": "baef8722",
   "metadata": {
    "scrolled": true
   },
   "outputs": [
    {
     "data": {
      "text/plain": [
       "0"
      ]
     },
     "execution_count": 19,
     "metadata": {},
     "output_type": "execute_result"
    }
   ],
   "source": [
    "visitors.duplicated().sum()"
   ]
  },
  {
   "cell_type": "markdown",
   "id": "4f37276a",
   "metadata": {},
   "source": [
    "### 2.4 Проверка деления трафика                                                                            <a id='intro5'></a>"
   ]
  },
  {
   "cell_type": "markdown",
   "id": "d372a5e8",
   "metadata": {},
   "source": [
    "Проверим качество деления трафика. Для успешного проведения A/B-теста количество пользователей в различных группах не должно превышать 1% и в группах не должно быть пересечения пользователей."
   ]
  },
  {
   "cell_type": "markdown",
   "id": "d1ef87d0",
   "metadata": {},
   "source": [
    "Посмотрим различается ли количество пользователей в группах теста."
   ]
  },
  {
   "cell_type": "code",
   "execution_count": 20,
   "id": "55e424ab",
   "metadata": {},
   "outputs": [
    {
     "data": {
      "text/html": [
       "<div>\n",
       "<style scoped>\n",
       "    .dataframe tbody tr th:only-of-type {\n",
       "        vertical-align: middle;\n",
       "    }\n",
       "\n",
       "    .dataframe tbody tr th {\n",
       "        vertical-align: top;\n",
       "    }\n",
       "\n",
       "    .dataframe thead th {\n",
       "        text-align: right;\n",
       "    }\n",
       "</style>\n",
       "<table border=\"1\" class=\"dataframe\">\n",
       "  <thead>\n",
       "    <tr style=\"text-align: right;\">\n",
       "      <th></th>\n",
       "      <th>group</th>\n",
       "      <th>visitor_id</th>\n",
       "    </tr>\n",
       "  </thead>\n",
       "  <tbody>\n",
       "    <tr>\n",
       "      <th>0</th>\n",
       "      <td>A</td>\n",
       "      <td>503</td>\n",
       "    </tr>\n",
       "    <tr>\n",
       "      <th>1</th>\n",
       "      <td>B</td>\n",
       "      <td>586</td>\n",
       "    </tr>\n",
       "  </tbody>\n",
       "</table>\n",
       "</div>"
      ],
      "text/plain": [
       "  group  visitor_id\n",
       "0     A         503\n",
       "1     B         586"
      ]
     },
     "execution_count": 20,
     "metadata": {},
     "output_type": "execute_result"
    }
   ],
   "source": [
    "diff_users = orders.groupby('group', as_index=False).agg({'visitor_id': 'nunique'})\n",
    "diff_users"
   ]
  },
  {
   "cell_type": "code",
   "execution_count": 21,
   "id": "356624f6",
   "metadata": {},
   "outputs": [
    {
     "name": "stdout",
     "output_type": "stream",
     "text": [
      "Разница в группах по пользователям: 16.500994%\n"
     ]
    }
   ],
   "source": [
    "print('Разница в группах по пользователям: {:%}'.format(diff_users.visitor_id[1] / diff_users.visitor_id[0] - 1))"
   ]
  },
  {
   "cell_type": "markdown",
   "id": "b284ba84",
   "metadata": {},
   "source": [
    "Проверим группы на пересекающихся пользователей. Воспользуемся методом `np.intersect1d`, который найдет пересечение в `Series`."
   ]
  },
  {
   "cell_type": "code",
   "execution_count": 22,
   "id": "54cb03bb",
   "metadata": {},
   "outputs": [
    {
     "data": {
      "text/plain": [
       "58"
      ]
     },
     "execution_count": 22,
     "metadata": {},
     "output_type": "execute_result"
    }
   ],
   "source": [
    "pd.Series(np.intersect1d(orders[orders['group'] == 'A']['visitor_id'],\\\n",
    "                               orders[orders['group'] == 'B']['visitor_id'])).count()"
   ]
  },
  {
   "cell_type": "markdown",
   "id": "e47d836f",
   "metadata": {},
   "source": [
    "Анализ показал что количество пользователей различается на 16.5%, в группах 58 пересекающихся пользователей. Можно было бы удалить пересекающихся пользователей из обоих групп, но в датасете `visitors` это сделать не получится, так в данных указано только количество пользователей по группам и пересекающихся пользователей мы найти и удалить там не сможем.\n",
    "Оставим данные без изменений. Будем учитывать что к результатам теста стоит относится с осторожностью."
   ]
  },
  {
   "cell_type": "markdown",
   "id": "9cf56d15",
   "metadata": {},
   "source": [
    "**Вывод**"
   ]
  },
  {
   "cell_type": "markdown",
   "id": "6e3f57bb",
   "metadata": {},
   "source": [
    "Для расчетов в наших исследованиях мы изменили тип данных в некоторых столбцах.  \n",
    "Предобработка не обнаружила дубликаты. Обнаружено некорректное разделение трафика по группам."
   ]
  },
  {
   "cell_type": "markdown",
   "id": "d111b205",
   "metadata": {},
   "source": [
    "## 3. Приоритизация гипотез.                                                                   <a id='intro6'></a>"
   ]
  },
  {
   "cell_type": "markdown",
   "id": "86a3f627",
   "metadata": {},
   "source": [
    "Еще раз посмотрим на данные в датасете `hypothesis`"
   ]
  },
  {
   "cell_type": "code",
   "execution_count": 23,
   "id": "49770bdf",
   "metadata": {},
   "outputs": [
    {
     "data": {
      "text/html": [
       "<div>\n",
       "<style scoped>\n",
       "    .dataframe tbody tr th:only-of-type {\n",
       "        vertical-align: middle;\n",
       "    }\n",
       "\n",
       "    .dataframe tbody tr th {\n",
       "        vertical-align: top;\n",
       "    }\n",
       "\n",
       "    .dataframe thead th {\n",
       "        text-align: right;\n",
       "    }\n",
       "</style>\n",
       "<table border=\"1\" class=\"dataframe\">\n",
       "  <thead>\n",
       "    <tr style=\"text-align: right;\">\n",
       "      <th></th>\n",
       "      <th>hypothesis</th>\n",
       "      <th>reach</th>\n",
       "      <th>impact</th>\n",
       "      <th>confidence</th>\n",
       "      <th>efforts</th>\n",
       "    </tr>\n",
       "  </thead>\n",
       "  <tbody>\n",
       "    <tr>\n",
       "      <th>0</th>\n",
       "      <td>Добавить два новых канала привлечения трафика, что позволит привлекать на 30% больше пользователей</td>\n",
       "      <td>3</td>\n",
       "      <td>10</td>\n",
       "      <td>8</td>\n",
       "      <td>6</td>\n",
       "    </tr>\n",
       "    <tr>\n",
       "      <th>1</th>\n",
       "      <td>Запустить собственную службу доставки, что сократит срок доставки заказов</td>\n",
       "      <td>2</td>\n",
       "      <td>5</td>\n",
       "      <td>4</td>\n",
       "      <td>10</td>\n",
       "    </tr>\n",
       "    <tr>\n",
       "      <th>2</th>\n",
       "      <td>Добавить блоки рекомендаций товаров на сайт интернет магазина, чтобы повысить конверсию и средний чек заказа</td>\n",
       "      <td>8</td>\n",
       "      <td>3</td>\n",
       "      <td>7</td>\n",
       "      <td>3</td>\n",
       "    </tr>\n",
       "    <tr>\n",
       "      <th>3</th>\n",
       "      <td>Изменить структура категорий, что увеличит конверсию, т.к. пользователи быстрее найдут нужный товар</td>\n",
       "      <td>8</td>\n",
       "      <td>3</td>\n",
       "      <td>3</td>\n",
       "      <td>8</td>\n",
       "    </tr>\n",
       "    <tr>\n",
       "      <th>4</th>\n",
       "      <td>Изменить цвет фона главной страницы, чтобы увеличить вовлеченность пользователей</td>\n",
       "      <td>3</td>\n",
       "      <td>1</td>\n",
       "      <td>1</td>\n",
       "      <td>1</td>\n",
       "    </tr>\n",
       "    <tr>\n",
       "      <th>5</th>\n",
       "      <td>Добавить страницу отзывов клиентов о магазине, что позволит увеличить количество заказов</td>\n",
       "      <td>3</td>\n",
       "      <td>2</td>\n",
       "      <td>2</td>\n",
       "      <td>3</td>\n",
       "    </tr>\n",
       "    <tr>\n",
       "      <th>6</th>\n",
       "      <td>Показать на главной странице баннеры с актуальными акциями и распродажами, чтобы увеличить конверсию</td>\n",
       "      <td>5</td>\n",
       "      <td>3</td>\n",
       "      <td>8</td>\n",
       "      <td>3</td>\n",
       "    </tr>\n",
       "    <tr>\n",
       "      <th>7</th>\n",
       "      <td>Добавить форму подписки на все основные страницы, чтобы собрать базу клиентов для email-рассылок</td>\n",
       "      <td>10</td>\n",
       "      <td>7</td>\n",
       "      <td>8</td>\n",
       "      <td>5</td>\n",
       "    </tr>\n",
       "    <tr>\n",
       "      <th>8</th>\n",
       "      <td>Запустить акцию, дающую скидку на товар в день рождения</td>\n",
       "      <td>1</td>\n",
       "      <td>9</td>\n",
       "      <td>9</td>\n",
       "      <td>5</td>\n",
       "    </tr>\n",
       "  </tbody>\n",
       "</table>\n",
       "</div>"
      ],
      "text/plain": [
       "                                                                                                     hypothesis  \\\n",
       "0            Добавить два новых канала привлечения трафика, что позволит привлекать на 30% больше пользователей   \n",
       "1                                     Запустить собственную службу доставки, что сократит срок доставки заказов   \n",
       "2  Добавить блоки рекомендаций товаров на сайт интернет магазина, чтобы повысить конверсию и средний чек заказа   \n",
       "3           Изменить структура категорий, что увеличит конверсию, т.к. пользователи быстрее найдут нужный товар   \n",
       "4                              Изменить цвет фона главной страницы, чтобы увеличить вовлеченность пользователей   \n",
       "5                      Добавить страницу отзывов клиентов о магазине, что позволит увеличить количество заказов   \n",
       "6          Показать на главной странице баннеры с актуальными акциями и распродажами, чтобы увеличить конверсию   \n",
       "7              Добавить форму подписки на все основные страницы, чтобы собрать базу клиентов для email-рассылок   \n",
       "8                                                       Запустить акцию, дающую скидку на товар в день рождения   \n",
       "\n",
       "   reach  impact  confidence  efforts  \n",
       "0      3      10           8        6  \n",
       "1      2       5           4       10  \n",
       "2      8       3           7        3  \n",
       "3      8       3           3        8  \n",
       "4      3       1           1        1  \n",
       "5      3       2           2        3  \n",
       "6      5       3           8        3  \n",
       "7     10       7           8        5  \n",
       "8      1       9           9        5  "
      ]
     },
     "execution_count": 23,
     "metadata": {},
     "output_type": "execute_result"
    }
   ],
   "source": [
    "hypothesis"
   ]
  },
  {
   "cell_type": "markdown",
   "id": "71eb9727",
   "metadata": {},
   "source": [
    "Применим фреймворк `ICE` к датасету `hypothesis` для приоритизации гипотез. Отсортируем их по убыванию приоритета.  \n",
    "Будем использовать следующую формулу для расчета:"
   ]
  },
  {
   "cell_type": "markdown",
   "id": "d3856830",
   "metadata": {},
   "source": [
    "$$ICE = \\frac{Impact * Confidence}{Efforts}$$"
   ]
  },
  {
   "cell_type": "code",
   "execution_count": 24,
   "id": "f6776efc",
   "metadata": {},
   "outputs": [
    {
     "name": "stdout",
     "output_type": "stream",
     "text": [
      "                                                                                                     hypothesis  \\\n",
      "8                                                       Запустить акцию, дающую скидку на товар в день рождения   \n",
      "0            Добавить два новых канала привлечения трафика, что позволит привлекать на 30% больше пользователей   \n",
      "7              Добавить форму подписки на все основные страницы, чтобы собрать базу клиентов для email-рассылок   \n",
      "6          Показать на главной странице баннеры с актуальными акциями и распродажами, чтобы увеличить конверсию   \n",
      "2  Добавить блоки рекомендаций товаров на сайт интернет магазина, чтобы повысить конверсию и средний чек заказа   \n",
      "1                                     Запустить собственную службу доставки, что сократит срок доставки заказов   \n",
      "5                      Добавить страницу отзывов клиентов о магазине, что позволит увеличить количество заказов   \n",
      "3           Изменить структура категорий, что увеличит конверсию, т.к. пользователи быстрее найдут нужный товар   \n",
      "4                              Изменить цвет фона главной страницы, чтобы увеличить вовлеченность пользователей   \n",
      "\n",
      "         ice  \n",
      "8  16.200000  \n",
      "0  13.333333  \n",
      "7  11.200000  \n",
      "6   8.000000  \n",
      "2   7.000000  \n",
      "1   2.000000  \n",
      "5   1.333333  \n",
      "3   1.125000  \n",
      "4   1.000000  \n"
     ]
    }
   ],
   "source": [
    "hypothesis['ice'] = (hypothesis.impact * hypothesis.confidence) / hypothesis.efforts\n",
    "print(hypothesis[['hypothesis', 'ice']].sort_values(by='ice', ascending=False))"
   ]
  },
  {
   "cell_type": "markdown",
   "id": "c0a9cee6",
   "metadata": {},
   "source": [
    "Наиболее перспективные гипотезы по `ICE` - 8, 0, 7."
   ]
  },
  {
   "cell_type": "markdown",
   "id": "a0339eaf",
   "metadata": {},
   "source": [
    "Применим фреймворк `RICE` для приоритизации гипотез. Отсортируем их по убыванию приоритета. Применим стили для визуализации.  \n",
    "Здесь будем использовать такую формулу:"
   ]
  },
  {
   "cell_type": "markdown",
   "id": "05f0ef4a",
   "metadata": {},
   "source": [
    "$$RICE = \\frac{Rearch * Impact * Confidence}{Efforts}$$"
   ]
  },
  {
   "cell_type": "code",
   "execution_count": 25,
   "id": "f9bce29d",
   "metadata": {},
   "outputs": [],
   "source": [
    "hypothesis['rice'] = (hypothesis.reach * hypothesis.impact * hypothesis.confidence) / hypothesis.efforts"
   ]
  },
  {
   "cell_type": "code",
   "execution_count": 26,
   "id": "19f76408",
   "metadata": {},
   "outputs": [
    {
     "data": {
      "text/html": [
       "<style  type=\"text/css\" >\n",
       "#T_b2d93_row0_col1{\n",
       "            background-color:  #4da64d;\n",
       "            color:  #000000;\n",
       "        }#T_b2d93_row0_col2,#T_b2d93_row4_col1{\n",
       "            background-color:  #008000;\n",
       "            color:  #f1f1f1;\n",
       "        }#T_b2d93_row1_col1{\n",
       "            background-color:  #8ec58e;\n",
       "            color:  #000000;\n",
       "        }#T_b2d93_row1_col2{\n",
       "            background-color:  #78bb78;\n",
       "            color:  #000000;\n",
       "        }#T_b2d93_row2_col1{\n",
       "            background-color:  #2c962c;\n",
       "            color:  #000000;\n",
       "        }#T_b2d93_row2_col2,#T_b2d93_row3_col2{\n",
       "            background-color:  #9bcc9b;\n",
       "            color:  #000000;\n",
       "        }#T_b2d93_row3_col1{\n",
       "            background-color:  #7fbe7f;\n",
       "            color:  #000000;\n",
       "        }#T_b2d93_row4_col2{\n",
       "            background-color:  #cee5ce;\n",
       "            color:  #000000;\n",
       "        }#T_b2d93_row5_col1,#T_b2d93_row6_col2,#T_b2d93_row7_col2{\n",
       "            background-color:  #e9f2e9;\n",
       "            color:  #000000;\n",
       "        }#T_b2d93_row5_col2{\n",
       "            background-color:  #deedde;\n",
       "            color:  #000000;\n",
       "        }#T_b2d93_row6_col1{\n",
       "            background-color:  #dcecdc;\n",
       "            color:  #000000;\n",
       "        }#T_b2d93_row7_col1{\n",
       "            background-color:  #e6f1e6;\n",
       "            color:  #000000;\n",
       "        }#T_b2d93_row8_col1,#T_b2d93_row8_col2{\n",
       "            background-color:  #ebf3eb;\n",
       "            color:  #000000;\n",
       "        }</style><table id=\"T_b2d93_\" ><thead>    <tr>        <th class=\"blank level0\" ></th>        <th class=\"col_heading level0 col0\" >hypothesis</th>        <th class=\"col_heading level0 col1\" >ice</th>        <th class=\"col_heading level0 col2\" >rice</th>    </tr></thead><tbody>\n",
       "                <tr>\n",
       "                        <th id=\"T_b2d93_level0_row0\" class=\"row_heading level0 row0\" >7</th>\n",
       "                        <td id=\"T_b2d93_row0_col0\" class=\"data row0 col0\" >Добавить форму подписки на все основные страницы, чтобы собрать базу клиентов для email-рассылок</td>\n",
       "                        <td id=\"T_b2d93_row0_col1\" class=\"data row0 col1\" >11.200000</td>\n",
       "                        <td id=\"T_b2d93_row0_col2\" class=\"data row0 col2\" >112.000000</td>\n",
       "            </tr>\n",
       "            <tr>\n",
       "                        <th id=\"T_b2d93_level0_row1\" class=\"row_heading level0 row1\" >2</th>\n",
       "                        <td id=\"T_b2d93_row1_col0\" class=\"data row1 col0\" >Добавить блоки рекомендаций товаров на сайт интернет магазина, чтобы повысить конверсию и средний чек заказа</td>\n",
       "                        <td id=\"T_b2d93_row1_col1\" class=\"data row1 col1\" >7.000000</td>\n",
       "                        <td id=\"T_b2d93_row1_col2\" class=\"data row1 col2\" >56.000000</td>\n",
       "            </tr>\n",
       "            <tr>\n",
       "                        <th id=\"T_b2d93_level0_row2\" class=\"row_heading level0 row2\" >0</th>\n",
       "                        <td id=\"T_b2d93_row2_col0\" class=\"data row2 col0\" >Добавить два новых канала привлечения трафика, что позволит привлекать на 30% больше пользователей</td>\n",
       "                        <td id=\"T_b2d93_row2_col1\" class=\"data row2 col1\" >13.333333</td>\n",
       "                        <td id=\"T_b2d93_row2_col2\" class=\"data row2 col2\" >40.000000</td>\n",
       "            </tr>\n",
       "            <tr>\n",
       "                        <th id=\"T_b2d93_level0_row3\" class=\"row_heading level0 row3\" >6</th>\n",
       "                        <td id=\"T_b2d93_row3_col0\" class=\"data row3 col0\" >Показать на главной странице баннеры с актуальными акциями и распродажами, чтобы увеличить конверсию</td>\n",
       "                        <td id=\"T_b2d93_row3_col1\" class=\"data row3 col1\" >8.000000</td>\n",
       "                        <td id=\"T_b2d93_row3_col2\" class=\"data row3 col2\" >40.000000</td>\n",
       "            </tr>\n",
       "            <tr>\n",
       "                        <th id=\"T_b2d93_level0_row4\" class=\"row_heading level0 row4\" >8</th>\n",
       "                        <td id=\"T_b2d93_row4_col0\" class=\"data row4 col0\" >Запустить акцию, дающую скидку на товар в день рождения</td>\n",
       "                        <td id=\"T_b2d93_row4_col1\" class=\"data row4 col1\" >16.200000</td>\n",
       "                        <td id=\"T_b2d93_row4_col2\" class=\"data row4 col2\" >16.200000</td>\n",
       "            </tr>\n",
       "            <tr>\n",
       "                        <th id=\"T_b2d93_level0_row5\" class=\"row_heading level0 row5\" >3</th>\n",
       "                        <td id=\"T_b2d93_row5_col0\" class=\"data row5 col0\" >Изменить структура категорий, что увеличит конверсию, т.к. пользователи быстрее найдут нужный товар</td>\n",
       "                        <td id=\"T_b2d93_row5_col1\" class=\"data row5 col1\" >1.125000</td>\n",
       "                        <td id=\"T_b2d93_row5_col2\" class=\"data row5 col2\" >9.000000</td>\n",
       "            </tr>\n",
       "            <tr>\n",
       "                        <th id=\"T_b2d93_level0_row6\" class=\"row_heading level0 row6\" >1</th>\n",
       "                        <td id=\"T_b2d93_row6_col0\" class=\"data row6 col0\" >Запустить собственную службу доставки, что сократит срок доставки заказов</td>\n",
       "                        <td id=\"T_b2d93_row6_col1\" class=\"data row6 col1\" >2.000000</td>\n",
       "                        <td id=\"T_b2d93_row6_col2\" class=\"data row6 col2\" >4.000000</td>\n",
       "            </tr>\n",
       "            <tr>\n",
       "                        <th id=\"T_b2d93_level0_row7\" class=\"row_heading level0 row7\" >5</th>\n",
       "                        <td id=\"T_b2d93_row7_col0\" class=\"data row7 col0\" >Добавить страницу отзывов клиентов о магазине, что позволит увеличить количество заказов</td>\n",
       "                        <td id=\"T_b2d93_row7_col1\" class=\"data row7 col1\" >1.333333</td>\n",
       "                        <td id=\"T_b2d93_row7_col2\" class=\"data row7 col2\" >4.000000</td>\n",
       "            </tr>\n",
       "            <tr>\n",
       "                        <th id=\"T_b2d93_level0_row8\" class=\"row_heading level0 row8\" >4</th>\n",
       "                        <td id=\"T_b2d93_row8_col0\" class=\"data row8 col0\" >Изменить цвет фона главной страницы, чтобы увеличить вовлеченность пользователей</td>\n",
       "                        <td id=\"T_b2d93_row8_col1\" class=\"data row8 col1\" >1.000000</td>\n",
       "                        <td id=\"T_b2d93_row8_col2\" class=\"data row8 col2\" >3.000000</td>\n",
       "            </tr>\n",
       "    </tbody></table>"
      ],
      "text/plain": [
       "<pandas.io.formats.style.Styler at 0x7f19c7d370a0>"
      ]
     },
     "execution_count": 26,
     "metadata": {},
     "output_type": "execute_result"
    }
   ],
   "source": [
    "hypothesis[['hypothesis', 'ice', 'rice']].sort_values(by='rice', ascending=False)\n",
    "cm = sns.light_palette(\"green\", as_cmap=True)\n",
    "\n",
    "hypothesis[['hypothesis', 'ice', 'rice']].sort_values(by='rice', ascending=False).style.background_gradient(cmap=cm)"
   ]
  },
  {
   "cell_type": "markdown",
   "id": "a89edfcb",
   "metadata": {},
   "source": [
    "По `RICE` Наиболее перспективные гипотезы изменились. Теперь это: 7, 2, 0, 6. Это произошло из за параметра `reach` - охвата пользователей. Он наиболее высокий у гипотезы под номером 7 и теперь она заняла первое место. Гипотеза 8 опустилась в середину списка из за очень низкого охвата пользователей."
   ]
  },
  {
   "cell_type": "markdown",
   "id": "0df01984",
   "metadata": {},
   "source": [
    "### Вывод"
   ]
  },
  {
   "cell_type": "markdown",
   "id": "4834b667",
   "metadata": {},
   "source": [
    "Приоритизация гипотез с помощью фреймворков `ICE` и `RICE` показала что кроме силы гипотез необходимо учитывать и охват пользователей, которых захватывают эти гипотезы."
   ]
  },
  {
   "cell_type": "markdown",
   "id": "197326f8",
   "metadata": {},
   "source": [
    "## 4. Анализ A/B-теста.                                                                               <a id='intro7'></a>"
   ]
  },
  {
   "cell_type": "markdown",
   "id": "2a8b964a",
   "metadata": {},
   "source": [
    "### 4.1 Исследование кумулятивных метрик.                                                                   <a id='intro8'></a>"
   ]
  },
  {
   "cell_type": "markdown",
   "id": "624227cd",
   "metadata": {},
   "source": [
    "Чтобы построить необходимые нам графики в исследовании, нужно собрать кумулятивные данные. Объявим датафрейм `cumulativeData` со столбцами:\n",
    "- `date` — дата;\n",
    "- `group` — группа A/B-теста (A или B);\n",
    "- `orders` — кумулятивное количество заказов на указанную дату в указанной группе;\n",
    "- `revenue` — кумулятивная выручка на указанную дату в указанной группе (средний чек);\n",
    "- `visitors` — кумулятивное количество посетителей интернет-магазина на указанную дату в определённой группе.\n",
    "\n",
    "Создадим массив уникальных пар значений дат и групп теста , используем метод `drop_duplicates()`:"
   ]
  },
  {
   "cell_type": "code",
   "execution_count": 27,
   "id": "01f4655a",
   "metadata": {},
   "outputs": [],
   "source": [
    "datesGroups = orders[['date','group']].drop_duplicates()"
   ]
  },
  {
   "cell_type": "markdown",
   "id": "ddfcb1c2",
   "metadata": {},
   "source": [
    "Соберём агрегированные кумулятивные по дням данные о заказах.  \n",
    "Получим строки таблицы `orders`, дата которых меньше или равна дате элемента из `datesGroups`, а группа теста равна группе из `datesGroups`.  \n",
    "Агрегируем значения. Вычислим максимальную дату, максимум группы, число уникальных `id` заказов и пользователей, сумму средних чеков."
   ]
  },
  {
   "cell_type": "code",
   "execution_count": 28,
   "id": "61c5e874",
   "metadata": {},
   "outputs": [
    {
     "data": {
      "text/html": [
       "<div>\n",
       "<style scoped>\n",
       "    .dataframe tbody tr th:only-of-type {\n",
       "        vertical-align: middle;\n",
       "    }\n",
       "\n",
       "    .dataframe tbody tr th {\n",
       "        vertical-align: top;\n",
       "    }\n",
       "\n",
       "    .dataframe thead th {\n",
       "        text-align: right;\n",
       "    }\n",
       "</style>\n",
       "<table border=\"1\" class=\"dataframe\">\n",
       "  <thead>\n",
       "    <tr style=\"text-align: right;\">\n",
       "      <th></th>\n",
       "      <th>transaction_id</th>\n",
       "      <th>visitor_id</th>\n",
       "      <th>date</th>\n",
       "      <th>revenue</th>\n",
       "      <th>group</th>\n",
       "    </tr>\n",
       "  </thead>\n",
       "  <tbody>\n",
       "    <tr>\n",
       "      <th>0</th>\n",
       "      <td>3667963787</td>\n",
       "      <td>3312258926</td>\n",
       "      <td>2019-08-15</td>\n",
       "      <td>1650</td>\n",
       "      <td>B</td>\n",
       "    </tr>\n",
       "    <tr>\n",
       "      <th>1</th>\n",
       "      <td>2804400009</td>\n",
       "      <td>3642806036</td>\n",
       "      <td>2019-08-15</td>\n",
       "      <td>730</td>\n",
       "      <td>B</td>\n",
       "    </tr>\n",
       "    <tr>\n",
       "      <th>2</th>\n",
       "      <td>2961555356</td>\n",
       "      <td>4069496402</td>\n",
       "      <td>2019-08-15</td>\n",
       "      <td>400</td>\n",
       "      <td>A</td>\n",
       "    </tr>\n",
       "    <tr>\n",
       "      <th>3</th>\n",
       "      <td>3797467345</td>\n",
       "      <td>1196621759</td>\n",
       "      <td>2019-08-15</td>\n",
       "      <td>9759</td>\n",
       "      <td>B</td>\n",
       "    </tr>\n",
       "    <tr>\n",
       "      <th>4</th>\n",
       "      <td>2282983706</td>\n",
       "      <td>2322279887</td>\n",
       "      <td>2019-08-15</td>\n",
       "      <td>2308</td>\n",
       "      <td>B</td>\n",
       "    </tr>\n",
       "  </tbody>\n",
       "</table>\n",
       "</div>"
      ],
      "text/plain": [
       "   transaction_id  visitor_id       date  revenue group\n",
       "0      3667963787  3312258926 2019-08-15     1650     B\n",
       "1      2804400009  3642806036 2019-08-15      730     B\n",
       "2      2961555356  4069496402 2019-08-15      400     A\n",
       "3      3797467345  1196621759 2019-08-15     9759     B\n",
       "4      2282983706  2322279887 2019-08-15     2308     B"
      ]
     },
     "execution_count": 28,
     "metadata": {},
     "output_type": "execute_result"
    }
   ],
   "source": [
    "orders.head()"
   ]
  },
  {
   "cell_type": "code",
   "execution_count": 29,
   "id": "a5e977cf",
   "metadata": {},
   "outputs": [],
   "source": [
    "ordersAggregated = datesGroups.\\\n",
    "    apply(lambda x: orders[np.logical_and(orders['date'] <= x['date'], orders['group'] == x['group'])].\\\n",
    "    agg({'date' : 'max', 'group' : 'max', 'transaction_id' : 'nunique', 'revenue' : 'sum'}), axis=1).\\\n",
    "    sort_values(by=['date','group']) "
   ]
  },
  {
   "cell_type": "code",
   "execution_count": 30,
   "id": "786e7c53",
   "metadata": {},
   "outputs": [
    {
     "data": {
      "text/html": [
       "<div>\n",
       "<style scoped>\n",
       "    .dataframe tbody tr th:only-of-type {\n",
       "        vertical-align: middle;\n",
       "    }\n",
       "\n",
       "    .dataframe tbody tr th {\n",
       "        vertical-align: top;\n",
       "    }\n",
       "\n",
       "    .dataframe thead th {\n",
       "        text-align: right;\n",
       "    }\n",
       "</style>\n",
       "<table border=\"1\" class=\"dataframe\">\n",
       "  <thead>\n",
       "    <tr style=\"text-align: right;\">\n",
       "      <th></th>\n",
       "      <th>date</th>\n",
       "      <th>group</th>\n",
       "      <th>transaction_id</th>\n",
       "      <th>revenue</th>\n",
       "    </tr>\n",
       "  </thead>\n",
       "  <tbody>\n",
       "    <tr>\n",
       "      <th>55</th>\n",
       "      <td>2019-08-01</td>\n",
       "      <td>A</td>\n",
       "      <td>24</td>\n",
       "      <td>148579</td>\n",
       "    </tr>\n",
       "    <tr>\n",
       "      <th>66</th>\n",
       "      <td>2019-08-01</td>\n",
       "      <td>B</td>\n",
       "      <td>21</td>\n",
       "      <td>101217</td>\n",
       "    </tr>\n",
       "    <tr>\n",
       "      <th>175</th>\n",
       "      <td>2019-08-02</td>\n",
       "      <td>A</td>\n",
       "      <td>44</td>\n",
       "      <td>242401</td>\n",
       "    </tr>\n",
       "    <tr>\n",
       "      <th>173</th>\n",
       "      <td>2019-08-02</td>\n",
       "      <td>B</td>\n",
       "      <td>45</td>\n",
       "      <td>266748</td>\n",
       "    </tr>\n",
       "    <tr>\n",
       "      <th>291</th>\n",
       "      <td>2019-08-03</td>\n",
       "      <td>A</td>\n",
       "      <td>68</td>\n",
       "      <td>354874</td>\n",
       "    </tr>\n",
       "  </tbody>\n",
       "</table>\n",
       "</div>"
      ],
      "text/plain": [
       "          date group  transaction_id  revenue\n",
       "55  2019-08-01     A              24   148579\n",
       "66  2019-08-01     B              21   101217\n",
       "175 2019-08-02     A              44   242401\n",
       "173 2019-08-02     B              45   266748\n",
       "291 2019-08-03     A              68   354874"
      ]
     },
     "execution_count": 30,
     "metadata": {},
     "output_type": "execute_result"
    }
   ],
   "source": [
    "ordersAggregated.head()"
   ]
  },
  {
   "cell_type": "markdown",
   "id": "51cf81b7",
   "metadata": {},
   "source": [
    "Получим агрегированные кумулятивные по дням данные о посетителях интернет-магазина:"
   ]
  },
  {
   "cell_type": "code",
   "execution_count": 31,
   "id": "0a3268be",
   "metadata": {},
   "outputs": [],
   "source": [
    "visitorsAggregated = datesGroups.\\\n",
    "    apply(lambda x: visitors[np.logical_and(visitors['date'] <= x['date'], visitors['group'] == x['group'])].\\\n",
    "    agg({'date' : 'max', 'group' : 'max', 'visitors' : 'sum'}), axis=1).sort_values(by=['date','group'])"
   ]
  },
  {
   "cell_type": "code",
   "execution_count": 32,
   "id": "afc10685",
   "metadata": {},
   "outputs": [
    {
     "data": {
      "text/html": [
       "<div>\n",
       "<style scoped>\n",
       "    .dataframe tbody tr th:only-of-type {\n",
       "        vertical-align: middle;\n",
       "    }\n",
       "\n",
       "    .dataframe tbody tr th {\n",
       "        vertical-align: top;\n",
       "    }\n",
       "\n",
       "    .dataframe thead th {\n",
       "        text-align: right;\n",
       "    }\n",
       "</style>\n",
       "<table border=\"1\" class=\"dataframe\">\n",
       "  <thead>\n",
       "    <tr style=\"text-align: right;\">\n",
       "      <th></th>\n",
       "      <th>date</th>\n",
       "      <th>group</th>\n",
       "      <th>visitors</th>\n",
       "    </tr>\n",
       "  </thead>\n",
       "  <tbody>\n",
       "    <tr>\n",
       "      <th>55</th>\n",
       "      <td>2019-08-01</td>\n",
       "      <td>A</td>\n",
       "      <td>719</td>\n",
       "    </tr>\n",
       "    <tr>\n",
       "      <th>66</th>\n",
       "      <td>2019-08-01</td>\n",
       "      <td>B</td>\n",
       "      <td>713</td>\n",
       "    </tr>\n",
       "    <tr>\n",
       "      <th>175</th>\n",
       "      <td>2019-08-02</td>\n",
       "      <td>A</td>\n",
       "      <td>1338</td>\n",
       "    </tr>\n",
       "    <tr>\n",
       "      <th>173</th>\n",
       "      <td>2019-08-02</td>\n",
       "      <td>B</td>\n",
       "      <td>1294</td>\n",
       "    </tr>\n",
       "    <tr>\n",
       "      <th>291</th>\n",
       "      <td>2019-08-03</td>\n",
       "      <td>A</td>\n",
       "      <td>1845</td>\n",
       "    </tr>\n",
       "  </tbody>\n",
       "</table>\n",
       "</div>"
      ],
      "text/plain": [
       "          date group  visitors\n",
       "55  2019-08-01     A       719\n",
       "66  2019-08-01     B       713\n",
       "175 2019-08-02     A      1338\n",
       "173 2019-08-02     B      1294\n",
       "291 2019-08-03     A      1845"
      ]
     },
     "execution_count": 32,
     "metadata": {},
     "output_type": "execute_result"
    }
   ],
   "source": [
    "visitorsAggregated.head()"
   ]
  },
  {
   "cell_type": "markdown",
   "id": "ee7e57ea",
   "metadata": {},
   "source": [
    "Объединим кумулятивные данные в одной таблице с помощью `merge()`, поменяем названия столбцов."
   ]
  },
  {
   "cell_type": "code",
   "execution_count": 33,
   "id": "e925c0b5",
   "metadata": {},
   "outputs": [],
   "source": [
    "cumulativeData = ordersAggregated.merge(visitorsAggregated, on=(['date', 'group']))\n",
    "cumulativeData.columns = ['date', 'group', 'orders', 'revenue', 'visitors']\n"
   ]
  },
  {
   "cell_type": "code",
   "execution_count": 34,
   "id": "82e723d6",
   "metadata": {},
   "outputs": [
    {
     "data": {
      "text/html": [
       "<div>\n",
       "<style scoped>\n",
       "    .dataframe tbody tr th:only-of-type {\n",
       "        vertical-align: middle;\n",
       "    }\n",
       "\n",
       "    .dataframe tbody tr th {\n",
       "        vertical-align: top;\n",
       "    }\n",
       "\n",
       "    .dataframe thead th {\n",
       "        text-align: right;\n",
       "    }\n",
       "</style>\n",
       "<table border=\"1\" class=\"dataframe\">\n",
       "  <thead>\n",
       "    <tr style=\"text-align: right;\">\n",
       "      <th></th>\n",
       "      <th>date</th>\n",
       "      <th>group</th>\n",
       "      <th>orders</th>\n",
       "      <th>revenue</th>\n",
       "      <th>visitors</th>\n",
       "    </tr>\n",
       "  </thead>\n",
       "  <tbody>\n",
       "    <tr>\n",
       "      <th>0</th>\n",
       "      <td>2019-08-01</td>\n",
       "      <td>A</td>\n",
       "      <td>24</td>\n",
       "      <td>148579</td>\n",
       "      <td>719</td>\n",
       "    </tr>\n",
       "    <tr>\n",
       "      <th>1</th>\n",
       "      <td>2019-08-01</td>\n",
       "      <td>B</td>\n",
       "      <td>21</td>\n",
       "      <td>101217</td>\n",
       "      <td>713</td>\n",
       "    </tr>\n",
       "    <tr>\n",
       "      <th>2</th>\n",
       "      <td>2019-08-02</td>\n",
       "      <td>A</td>\n",
       "      <td>44</td>\n",
       "      <td>242401</td>\n",
       "      <td>1338</td>\n",
       "    </tr>\n",
       "    <tr>\n",
       "      <th>3</th>\n",
       "      <td>2019-08-02</td>\n",
       "      <td>B</td>\n",
       "      <td>45</td>\n",
       "      <td>266748</td>\n",
       "      <td>1294</td>\n",
       "    </tr>\n",
       "    <tr>\n",
       "      <th>4</th>\n",
       "      <td>2019-08-03</td>\n",
       "      <td>A</td>\n",
       "      <td>68</td>\n",
       "      <td>354874</td>\n",
       "      <td>1845</td>\n",
       "    </tr>\n",
       "  </tbody>\n",
       "</table>\n",
       "</div>"
      ],
      "text/plain": [
       "        date group  orders  revenue  visitors\n",
       "0 2019-08-01     A      24   148579       719\n",
       "1 2019-08-01     B      21   101217       713\n",
       "2 2019-08-02     A      44   242401      1338\n",
       "3 2019-08-02     B      45   266748      1294\n",
       "4 2019-08-03     A      68   354874      1845"
      ]
     },
     "execution_count": 34,
     "metadata": {},
     "output_type": "execute_result"
    }
   ],
   "source": [
    "cumulativeData.head()"
   ]
  },
  {
   "cell_type": "markdown",
   "id": "faa51876",
   "metadata": {},
   "source": [
    "Построим графики кумулятивной выручки по дням и группам A/B-тестирования:"
   ]
  },
  {
   "cell_type": "code",
   "execution_count": 35,
   "id": "2c806f60",
   "metadata": {},
   "outputs": [
    {
     "data": {
      "image/png": "[encoded data removed]",
      "text/plain": [
       "<Figure size 720x576 with 1 Axes>"
      ]
     },
     "metadata": {
      "needs_background": "light"
     },
     "output_type": "display_data"
    }
   ],
   "source": [
    "# датафрейм с кумулятивным количеством заказов и кумулятивной выручкой по дням в группе А\n",
    "cumulativeRevenueA = cumulativeData[cumulativeData['group']=='A'][['date','revenue', 'orders']]\n",
    "# датафрейм с кумулятивным количеством заказов и кумулятивной выручкой по дням в группе B\n",
    "cumulativeRevenueB = cumulativeData[cumulativeData['group']=='B'][['date','revenue', 'orders']]\n",
    "# Строим график выручки группы А\n",
    "plt.figure(figsize=(10,8))\n",
    "plt.plot(cumulativeRevenueA['date'], cumulativeRevenueA['revenue'], label='A')\n",
    "# Строим график выручки группы B\n",
    "plt.plot(cumulativeRevenueB['date'], cumulativeRevenueB['revenue'], label='B')\n",
    "plt.title('Кумулятивная выручка по дням и группам', fontsize=16)\n",
    "plt.xlabel('Дата', fontsize=14)   \n",
    "plt.ylabel('Выручка(у.е.)', fontsize=14)\n",
    "plt.xticks(rotation=30)\n",
    "plt.legend();\n"
   ]
  },
  {
   "cell_type": "markdown",
   "id": "213d9926",
   "metadata": {},
   "source": [
    "Выручка группы А почти равномерно увеличивается в течение всего теста. В середине теста сегмент В вырвался вперед и продолжал лидировать до конца теста. Видимо здесь присутствует влияние аномально больших заказов. С такими заказами будем разбираться далее."
   ]
  },
  {
   "cell_type": "markdown",
   "id": "3811cb37",
   "metadata": {},
   "source": [
    "Построим графики среднего чека по группам — разделим кумулятивную выручку на кумулятивное число заказов"
   ]
  },
  {
   "cell_type": "code",
   "execution_count": 36,
   "id": "61a193f2",
   "metadata": {},
   "outputs": [
    {
     "data": {
      "image/png": "[encoded data removed]",
      "text/plain": [
       "<Figure size 720x576 with 1 Axes>"
      ]
     },
     "metadata": {
      "needs_background": "light"
     },
     "output_type": "display_data"
    }
   ],
   "source": [
    "plt.figure(figsize=(10,8))\n",
    "plt.plot(cumulativeRevenueA['date'], cumulativeRevenueA['revenue']/cumulativeRevenueA['orders'], label='A')\n",
    "plt.plot(cumulativeRevenueB['date'], cumulativeRevenueB['revenue']/cumulativeRevenueB['orders'], label='B')\n",
    "plt.title('Кумулятивный средний чек по группам', fontsize=16)\n",
    "plt.xlabel('Дата', fontsize=14)   \n",
    "plt.ylabel('Средний чек(у.е.)', fontsize=14)\n",
    "plt.xticks(rotation=30)\n",
    "plt.legend();\n"
   ]
  },
  {
   "cell_type": "markdown",
   "id": "dc367e2b",
   "metadata": {},
   "source": [
    "Кумулятивное значение среднего чека по группам колеблется на всем протяжении теста. Скорее всего принимать решение по этой метрике рано. Возможно, стоит провести дополнительный анализ выбросов, которые воздействуют на результаты. "
   ]
  },
  {
   "cell_type": "markdown",
   "id": "7dc365b3",
   "metadata": {},
   "source": [
    "Теперь расчитаем относительное изменение кумулятивного среднего чека группы B к группе A"
   ]
  },
  {
   "cell_type": "markdown",
   "id": "699deb99",
   "metadata": {},
   "source": [
    "Собираем данные в одном датафрейме."
   ]
  },
  {
   "cell_type": "code",
   "execution_count": 37,
   "id": "bb1bd075",
   "metadata": {},
   "outputs": [],
   "source": [
    "mergedCumulativeRevenue = cumulativeRevenueA.\\\n",
    "    merge(cumulativeRevenueB, on='date', how='left', suffixes=['A', 'B'])"
   ]
  },
  {
   "cell_type": "code",
   "execution_count": 38,
   "id": "c334fba4",
   "metadata": {},
   "outputs": [
    {
     "data": {
      "text/html": [
       "<div>\n",
       "<style scoped>\n",
       "    .dataframe tbody tr th:only-of-type {\n",
       "        vertical-align: middle;\n",
       "    }\n",
       "\n",
       "    .dataframe tbody tr th {\n",
       "        vertical-align: top;\n",
       "    }\n",
       "\n",
       "    .dataframe thead th {\n",
       "        text-align: right;\n",
       "    }\n",
       "</style>\n",
       "<table border=\"1\" class=\"dataframe\">\n",
       "  <thead>\n",
       "    <tr style=\"text-align: right;\">\n",
       "      <th></th>\n",
       "      <th>date</th>\n",
       "      <th>revenueA</th>\n",
       "      <th>ordersA</th>\n",
       "      <th>revenueB</th>\n",
       "      <th>ordersB</th>\n",
       "    </tr>\n",
       "  </thead>\n",
       "  <tbody>\n",
       "    <tr>\n",
       "      <th>0</th>\n",
       "      <td>2019-08-01</td>\n",
       "      <td>148579</td>\n",
       "      <td>24</td>\n",
       "      <td>101217</td>\n",
       "      <td>21</td>\n",
       "    </tr>\n",
       "    <tr>\n",
       "      <th>1</th>\n",
       "      <td>2019-08-02</td>\n",
       "      <td>242401</td>\n",
       "      <td>44</td>\n",
       "      <td>266748</td>\n",
       "      <td>45</td>\n",
       "    </tr>\n",
       "    <tr>\n",
       "      <th>2</th>\n",
       "      <td>2019-08-03</td>\n",
       "      <td>354874</td>\n",
       "      <td>68</td>\n",
       "      <td>380996</td>\n",
       "      <td>61</td>\n",
       "    </tr>\n",
       "    <tr>\n",
       "      <th>3</th>\n",
       "      <td>2019-08-04</td>\n",
       "      <td>425699</td>\n",
       "      <td>84</td>\n",
       "      <td>489567</td>\n",
       "      <td>78</td>\n",
       "    </tr>\n",
       "    <tr>\n",
       "      <th>4</th>\n",
       "      <td>2019-08-05</td>\n",
       "      <td>549917</td>\n",
       "      <td>109</td>\n",
       "      <td>581995</td>\n",
       "      <td>101</td>\n",
       "    </tr>\n",
       "  </tbody>\n",
       "</table>\n",
       "</div>"
      ],
      "text/plain": [
       "        date  revenueA  ordersA  revenueB  ordersB\n",
       "0 2019-08-01    148579       24    101217       21\n",
       "1 2019-08-02    242401       44    266748       45\n",
       "2 2019-08-03    354874       68    380996       61\n",
       "3 2019-08-04    425699       84    489567       78\n",
       "4 2019-08-05    549917      109    581995      101"
      ]
     },
     "execution_count": 38,
     "metadata": {},
     "output_type": "execute_result"
    }
   ],
   "source": [
    "mergedCumulativeRevenue.head()"
   ]
  },
  {
   "cell_type": "markdown",
   "id": "52a2385a",
   "metadata": {},
   "source": [
    "Построим график отношения средних чеков в группах. Добавим горизонтальную ось методом `axhline()`"
   ]
  },
  {
   "cell_type": "code",
   "execution_count": 39,
   "id": "21a94945",
   "metadata": {},
   "outputs": [
    {
     "data": {
      "image/png": "[encoded data removed]",
      "text/plain": [
       "<Figure size 720x576 with 1 Axes>"
      ]
     },
     "metadata": {
      "needs_background": "light"
     },
     "output_type": "display_data"
    }
   ],
   "source": [
    "plt.figure(figsize=(10,8))\n",
    "plt.plot(mergedCumulativeRevenue['date'], \\\n",
    "    ((mergedCumulativeRevenue['revenueB']/mergedCumulativeRevenue['ordersB'])/\n",
    "     (mergedCumulativeRevenue['revenueA']/mergedCumulativeRevenue['ordersA'])-1))\n",
    "plt.title('Относительный прирост средних чеков группы B относительно группы A', fontsize=15)\n",
    "plt.xlabel('Дата', fontsize=14)   \n",
    "plt.ylabel('Доля относительного прироста', fontsize=14)\n",
    "plt.xticks(rotation=30)\n",
    "# добавляем ось X\n",
    "plt.axhline(y=0, color='black', linestyle='--');"
   ]
  },
  {
   "cell_type": "markdown",
   "id": "9df36aec",
   "metadata": {},
   "source": [
    "В некоторых точках видим резкое изменение результатов теста. Видимо в эти даты были совершены аномальные заказы."
   ]
  },
  {
   "cell_type": "markdown",
   "id": "667fc001",
   "metadata": {},
   "source": [
    "Высчитаем кумулятивную конверсию."
   ]
  },
  {
   "cell_type": "code",
   "execution_count": 40,
   "id": "0b37b14f",
   "metadata": {},
   "outputs": [],
   "source": [
    "cumulativeData['conversion'] = cumulativeData['orders']/cumulativeData['visitors']"
   ]
  },
  {
   "cell_type": "markdown",
   "id": "150ffc1b",
   "metadata": {},
   "source": [
    "Выделим данные по группе A."
   ]
  },
  {
   "cell_type": "code",
   "execution_count": 41,
   "id": "06e584cc",
   "metadata": {},
   "outputs": [],
   "source": [
    "cumulativeDataA = cumulativeData[cumulativeData['group']=='A']"
   ]
  },
  {
   "cell_type": "markdown",
   "id": "8507ee02",
   "metadata": {},
   "source": [
    "Выделим данные по группе B."
   ]
  },
  {
   "cell_type": "code",
   "execution_count": 42,
   "id": "999b46a1",
   "metadata": {},
   "outputs": [],
   "source": [
    "cumulativeDataB = cumulativeData[cumulativeData['group']=='B']"
   ]
  },
  {
   "cell_type": "markdown",
   "id": "d7084125",
   "metadata": {},
   "source": [
    "Построим график кумулятивной конверсии по группам. Зададим масштаб осей методом `plt.axis()`. Передадим ему минимальное и максимальное значения оси x; минимальное и максимальное значения оси y — ['2019-08-01', '2019-09-01', 0, 0.05]:\n"
   ]
  },
  {
   "cell_type": "code",
   "execution_count": 43,
   "id": "756dc17f",
   "metadata": {},
   "outputs": [
    {
     "data": {
      "image/png": "[encoded data removed]",
      "text/plain": [
       "<Figure size 720x576 with 1 Axes>"
      ]
     },
     "metadata": {
      "needs_background": "light"
     },
     "output_type": "display_data"
    }
   ],
   "source": [
    "plt.figure(figsize=(10,8))\n",
    "plt.plot(cumulativeDataA['date'], cumulativeDataA['conversion'], label='A')\n",
    "plt.plot(cumulativeDataB['date'], cumulativeDataB['conversion'], label='B')\n",
    "plt.title('Кумулятивная конверсия в группах', fontsize=15)\n",
    "plt.xlabel('Дата', fontsize=14)   \n",
    "plt.ylabel('Конверсия', fontsize=14)\n",
    "plt.legend()\n",
    "plt.xticks(rotation=30)\n",
    "plt.axis([dt.datetime(2019, 8, 1), dt.datetime(2019, 9, 1), 0, 0.05]);\n"
   ]
  },
  {
   "cell_type": "markdown",
   "id": "4cd0f035",
   "metadata": {},
   "source": [
    "В начале теста наблюдаются колебания в двух группах, конверсия группы A немного выше группы B. Затем конверсии достаточно быстро выравниваются, конверсия группы B превышает конверсию в группе A.  "
   ]
  },
  {
   "cell_type": "markdown",
   "id": "cab4ce34",
   "metadata": {},
   "source": [
    "Посчитаем относительное изменения кумулятивной конверсии группы B к группе A."
   ]
  },
  {
   "cell_type": "markdown",
   "id": "3e583e4c",
   "metadata": {},
   "source": [
    "Собираем данные в одном датафрейме."
   ]
  },
  {
   "cell_type": "code",
   "execution_count": 44,
   "id": "020e96ca",
   "metadata": {},
   "outputs": [],
   "source": [
    "mergedCumulativeConversions = cumulativeDataA[['date','conversion']].\\\n",
    "    merge(cumulativeDataB[['date','conversion']], on='date', how='left', suffixes=['A', 'B'])"
   ]
  },
  {
   "cell_type": "code",
   "execution_count": 45,
   "id": "fbd94a20",
   "metadata": {},
   "outputs": [
    {
     "data": {
      "text/html": [
       "<div>\n",
       "<style scoped>\n",
       "    .dataframe tbody tr th:only-of-type {\n",
       "        vertical-align: middle;\n",
       "    }\n",
       "\n",
       "    .dataframe tbody tr th {\n",
       "        vertical-align: top;\n",
       "    }\n",
       "\n",
       "    .dataframe thead th {\n",
       "        text-align: right;\n",
       "    }\n",
       "</style>\n",
       "<table border=\"1\" class=\"dataframe\">\n",
       "  <thead>\n",
       "    <tr style=\"text-align: right;\">\n",
       "      <th></th>\n",
       "      <th>date</th>\n",
       "      <th>conversionA</th>\n",
       "      <th>conversionB</th>\n",
       "    </tr>\n",
       "  </thead>\n",
       "  <tbody>\n",
       "    <tr>\n",
       "      <th>0</th>\n",
       "      <td>2019-08-01</td>\n",
       "      <td>0.033380</td>\n",
       "      <td>0.029453</td>\n",
       "    </tr>\n",
       "    <tr>\n",
       "      <th>1</th>\n",
       "      <td>2019-08-02</td>\n",
       "      <td>0.032885</td>\n",
       "      <td>0.034776</td>\n",
       "    </tr>\n",
       "    <tr>\n",
       "      <th>2</th>\n",
       "      <td>2019-08-03</td>\n",
       "      <td>0.036856</td>\n",
       "      <td>0.033833</td>\n",
       "    </tr>\n",
       "    <tr>\n",
       "      <th>3</th>\n",
       "      <td>2019-08-04</td>\n",
       "      <td>0.032787</td>\n",
       "      <td>0.030315</td>\n",
       "    </tr>\n",
       "    <tr>\n",
       "      <th>4</th>\n",
       "      <td>2019-08-05</td>\n",
       "      <td>0.032851</td>\n",
       "      <td>0.030793</td>\n",
       "    </tr>\n",
       "  </tbody>\n",
       "</table>\n",
       "</div>"
      ],
      "text/plain": [
       "        date  conversionA  conversionB\n",
       "0 2019-08-01     0.033380     0.029453\n",
       "1 2019-08-02     0.032885     0.034776\n",
       "2 2019-08-03     0.036856     0.033833\n",
       "3 2019-08-04     0.032787     0.030315\n",
       "4 2019-08-05     0.032851     0.030793"
      ]
     },
     "execution_count": 45,
     "metadata": {},
     "output_type": "execute_result"
    }
   ],
   "source": [
    "mergedCumulativeConversions.head()"
   ]
  },
  {
   "cell_type": "markdown",
   "id": "857e8f4a",
   "metadata": {},
   "source": [
    "Построим график изменения кумулятивной конверсии в группах. Добавим горизонтальную ось методом `axhline()`"
   ]
  },
  {
   "cell_type": "code",
   "execution_count": 46,
   "id": "6228c9db",
   "metadata": {
    "scrolled": false
   },
   "outputs": [
    {
     "data": {
      "image/png": "[encoded data removed]",
      "text/plain": [
       "<Figure size 720x576 with 1 Axes>"
      ]
     },
     "metadata": {
      "needs_background": "light"
     },
     "output_type": "display_data"
    }
   ],
   "source": [
    "plt.figure(figsize=(10,8))\n",
    "plt.plot(mergedCumulativeConversions['date'], \\\n",
    "         mergedCumulativeConversions['conversionB']/mergedCumulativeConversions['conversionA']-1, color='r')\n",
    "plt.title('Относительный прирост конверсии группы B относительно группы A', fontsize=15)\n",
    "plt.xlabel('Дата', fontsize=14)   \n",
    "plt.ylabel('Доля относительного прироста', fontsize=14)\n",
    "plt.xticks(rotation=30)\n",
    "plt.axhline(y=0, color='black', linestyle='--')\n",
    "plt.axhline(y=0.15, color='grey', linestyle='--')\n",
    "plt.axis([dt.datetime(2019, 8, 1), dt.datetime(2019, 9, 1), -0.3, 0.5]);"
   ]
  },
  {
   "cell_type": "markdown",
   "id": "0199221f",
   "metadata": {},
   "source": [
    "Почти с самого начала теста видим лидерство группы B по конверсии. Конверсия группы B в начале теста растет и формируется около прироста в 15% относительно группы A."
   ]
  },
  {
   "cell_type": "markdown",
   "id": "6ada5331",
   "metadata": {},
   "source": [
    "### 4.2 Анализ выбросов и всплесков.                                                                                  <a id='intro9'></a>"
   ]
  },
  {
   "cell_type": "markdown",
   "id": "2df38137",
   "metadata": {},
   "source": [
    "В данных могут присутствовать аномалии, которые могут искажать результаты A/B-теста."
   ]
  },
  {
   "cell_type": "markdown",
   "id": "d8ddfb5d",
   "metadata": {},
   "source": [
    "Построим распределения стоимостей заказов c помощью графика `scatter`."
   ]
  },
  {
   "cell_type": "code",
   "execution_count": 47,
   "id": "a8adcc2d",
   "metadata": {},
   "outputs": [
    {
     "data": {
      "image/png": "[encoded data removed]",
      "text/plain": [
       "<Figure size 576x432 with 1 Axes>"
      ]
     },
     "metadata": {
      "needs_background": "light"
     },
     "output_type": "display_data"
    }
   ],
   "source": [
    "plt.figure(figsize=(8,6))\n",
    "x_values = pd.Series(range(0,len(orders['revenue']))) # задаем по оси X номера наблюдений\n",
    "plt.scatter(x_values, orders['revenue']) \n",
    "plt.title('Распределение стоимостей заказов', fontsize=14) \n",
    "plt.xlabel('Номер наблюдения', fontsize=14)   \n",
    "plt.ylabel('Стоимость(у.е.)', fontsize=14);\n"
   ]
  },
  {
   "cell_type": "markdown",
   "id": "1eeb7bde",
   "metadata": {},
   "source": [
    "На графике видим что в датасете есть два дорогих заказа, один из них очень сильно выбивается по цене. Заказов стоимостью выше 50 000 совсем мало. Это число можно выбрать границей аномальных заказов. Однако принято отсеивать от 1% до 5% наблюдений с крайними значениями.\n"
   ]
  },
  {
   "cell_type": "markdown",
   "id": "9b156af7",
   "metadata": {},
   "source": [
    "Определим 90, 95 и 99 перцентили стоимости заказа в выборке."
   ]
  },
  {
   "cell_type": "code",
   "execution_count": 48,
   "id": "34cc26c5",
   "metadata": {},
   "outputs": [
    {
     "name": "stdout",
     "output_type": "stream",
     "text": [
      "[18168.  28000.  58233.2]\n"
     ]
    }
   ],
   "source": [
    "print(np.percentile(orders['revenue'], [90, 95, 99]))"
   ]
  },
  {
   "cell_type": "markdown",
   "id": "56d45034",
   "metadata": {},
   "source": [
    "Не более 5% заказов дороже 28 000 и не более 1% дороже 58233."
   ]
  },
  {
   "cell_type": "markdown",
   "id": "6cfce76e",
   "metadata": {},
   "source": [
    "Помимо стоимости заказа проанализируем конверсию. Она равна отношению числа заказов к количеству посетителей сайта за время теста.\n",
    "Пользователи, совершившие много заказов, влияют на числитель формулы конверсии. Поведение таких пользователей скорее всего отличается от нормального. Если речь не идёт об интернет-магазине с регулярным спросом, «обычный» пользователь совершает не больше двух заказов за короткий срок.\n",
    "\n",
    "Подсчитаем количество заказов по пользователям\n"
   ]
  },
  {
   "cell_type": "code",
   "execution_count": 49,
   "id": "44123207",
   "metadata": {},
   "outputs": [
    {
     "name": "stdout",
     "output_type": "stream",
     "text": [
      "      visitor_id  transactions\n",
      "1023  4256040402            11\n",
      "591   2458001652            11\n",
      "569   2378935119             9\n",
      "487   2038680547             8\n",
      "44     199603092             5\n",
      "744   3062433592             5\n",
      "55     237748145             5\n",
      "917   3803269165             5\n",
      "299   1230306981             5\n",
      "897   3717692402             5\n"
     ]
    }
   ],
   "source": [
    "ordersByUsers = orders.groupby('visitor_id', as_index=False).\\\n",
    "    agg({'transaction_id': 'nunique'})\n",
    "\n",
    " \n",
    "ordersByUsers.columns = ['visitor_id', 'transactions']\n",
    " \n",
    "print(ordersByUsers.sort_values(by='transactions', ascending=False).head(10)) \n"
   ]
  },
  {
   "cell_type": "markdown",
   "id": "291af6e3",
   "metadata": {},
   "source": [
    "Есть пользователи, которые совершали 5, 8, 9, и 11 заказов. Значительно больше, чем обычный пользователь за неделю."
   ]
  },
  {
   "cell_type": "markdown",
   "id": "5ea47951",
   "metadata": {},
   "source": [
    "Построим точечную диаграмму числа заказов на одного пользователя."
   ]
  },
  {
   "cell_type": "code",
   "execution_count": 50,
   "id": "c4dad1b7",
   "metadata": {},
   "outputs": [
    {
     "data": {
      "image/png": "[encoded data removed]",
      "text/plain": [
       "<Figure size 576x432 with 1 Axes>"
      ]
     },
     "metadata": {
      "needs_background": "light"
     },
     "output_type": "display_data"
    }
   ],
   "source": [
    "plt.figure(figsize=(8,6))\n",
    "x_values = pd.Series(range(0,len(ordersByUsers)))\n",
    "plt.scatter(x_values, ordersByUsers['transactions'])\n",
    "plt.title('Распределение количества заказов', fontsize=14) \n",
    "plt.xlabel('Номер наблюдения', fontsize=14)   \n",
    "plt.ylabel('Количество(шт.)', fontsize=14);"
   ]
  },
  {
   "cell_type": "markdown",
   "id": "4f7dccf3",
   "metadata": {},
   "source": [
    "На графике видим, что много пользователей с 2-3 заказами. Их точная доля не ясна — непонятно, считать их аномалиями или нет.\n"
   ]
  },
  {
   "cell_type": "markdown",
   "id": "9d2bbdcd",
   "metadata": {},
   "source": [
    "Посчитаем выборочные перцентили количества заказов на одного пользователя"
   ]
  },
  {
   "cell_type": "code",
   "execution_count": 51,
   "id": "63141b59",
   "metadata": {},
   "outputs": [
    {
     "name": "stdout",
     "output_type": "stream",
     "text": [
      "[1. 2. 4.]\n"
     ]
    }
   ],
   "source": [
    "print(np.percentile(ordersByUsers['transactions'], [90, 95, 99])) "
   ]
  },
  {
   "cell_type": "markdown",
   "id": "10b25d27",
   "metadata": {},
   "source": [
    "Не более 5% пользователей оформляли больше чем 2 заказа. И 10% пользователей заказывали более одного раза.\n",
    "Стоит выбрать 2 заказа на одного пользователя за нижнюю границу числа заказов, и отсеять аномальных пользователей по ней."
   ]
  },
  {
   "cell_type": "markdown",
   "id": "cb81ac4c",
   "metadata": {},
   "source": [
    "### 4.3 Проверка данных на нормальность распределения                                     <a id='intro10'></a>"
   ]
  },
  {
   "cell_type": "markdown",
   "id": "0ff95d7a",
   "metadata": {},
   "source": [
    "Перед расчетом статистической значимости между группами, проверим данные на нормальность распределения с помощью критерия Шапиро-Уилка."
   ]
  },
  {
   "cell_type": "markdown",
   "id": "48f0bd23",
   "metadata": {},
   "source": [
    "Подготовим данные."
   ]
  },
  {
   "cell_type": "code",
   "execution_count": 52,
   "id": "9bf90c3a",
   "metadata": {},
   "outputs": [],
   "source": [
    "# переменная с количеством пользователей в выбранную дату в группе A\n",
    "visitorsADaily = visitors[visitors['group'] == 'A'][['date', 'visitors']]\n",
    "visitorsADaily.columns = ['date', 'visitorsPerDateA']\n",
    "# переменная с количеством пользователей до выбранной даты включительно в группе A \n",
    "visitorsACummulative = visitorsADaily.apply(\n",
    "    lambda x: visitorsADaily[visitorsADaily['date'] <= x['date']].agg(\n",
    "{'date': 'max', 'visitorsPerDateA': 'sum'}), axis=1)\n",
    "visitorsACummulative.columns = ['date', 'visitorsCummulativeA']\n",
    "# переменная с количеством пользователей в выбранную дату в группе B\n",
    "visitorsBDaily = visitors[visitors['group'] == 'B'][['date', 'visitors']]\n",
    "visitorsBDaily.columns = ['date', 'visitorsPerDateB']\n",
    " # переменная с количеством пользователей до выбранной даты включительно в группе B\n",
    "visitorsBCummulative = visitorsBDaily.apply(\n",
    "    lambda x: visitorsBDaily[visitorsBDaily['date'] <= x['date']].agg({'date': 'max', 'visitorsPerDateB': 'sum'}),axis=1)\n",
    "visitorsBCummulative.columns = ['date', 'visitorsCummulativeB']\n",
    "# переменная с количеством заказов и суммарной стоимостью заказов в выбранную дату в группе A\n",
    "ordersADaily = (\n",
    "    orders[orders['group'] == 'A'][['date', 'transaction_id', 'visitor_id', 'revenue']]\n",
    "    .groupby('date', as_index=False)\n",
    "    .agg({'transaction_id': 'nunique', 'revenue': 'sum'}))\n",
    "ordersADaily.columns = ['date', 'ordersPerDateA', 'revenuePerDateA']\n",
    "# переменная с суммарным числом заказов и суммарной выручкой до выбранной даты включительно в группе A\n",
    "ordersACummulative = ordersADaily.apply(\n",
    "    lambda x: ordersADaily[ordersADaily['date'] <= x['date']].agg(\n",
    "        {'date': 'max', 'ordersPerDateA': 'sum', 'revenuePerDateA': 'sum'}),axis=1).sort_values(by=['date'])\n",
    "ordersACummulative.columns = [\n",
    "    'date',\n",
    "    'ordersCummulativeA',\n",
    "    'revenueCummulativeA']\n",
    "# переменная с количеством заказов и суммарной стоимостью заказов в выбранную дату в группе B\n",
    "ordersBDaily = (\n",
    "    orders[orders['group'] == 'B'][['date', 'transaction_id', 'visitor_id', 'revenue']]\n",
    "    .groupby('date', as_index=False)\n",
    "    .agg({'transaction_id': 'nunique', 'revenue': 'sum'}))\n",
    "ordersBDaily.columns = ['date', 'ordersPerDateB', 'revenuePerDateB']\n",
    "# переменная с суммарным числом заказов и суммарной выручкой до выбранной даты включительно в группе B\n",
    "ordersBCummulative = ordersBDaily.apply(\n",
    "    lambda x: ordersBDaily[ordersBDaily['date'] <= x['date']].agg(\n",
    "        {'date': 'max', 'ordersPerDateB': 'sum', 'revenuePerDateB': 'sum'}),axis=1).sort_values(by=['date'])\n",
    "ordersBCummulative.columns = [\n",
    "    'date',\n",
    "    'ordersCummulativeB',\n",
    "    'revenueCummulativeB']\n",
    "# соберем все данные в одной таблице \n",
    "data = (\n",
    "    ordersADaily.merge(\n",
    "        ordersBDaily, left_on='date', right_on='date', how='left')\\\n",
    "    .merge(ordersACummulative, left_on='date', right_on='date', how='left')\\\n",
    "    .merge(ordersBCummulative, left_on='date', right_on='date', how='left')\\\n",
    "    .merge(visitorsADaily, left_on='date', right_on='date', how='left')\\\n",
    "    .merge(visitorsBDaily, left_on='date', right_on='date', how='left')\\\n",
    "    .merge(visitorsACummulative, left_on='date', right_on='date', how='left')\\\n",
    "    .merge(visitorsBCummulative, left_on='date', right_on='date', how='left'))\n"
   ]
  },
  {
   "cell_type": "code",
   "execution_count": 53,
   "id": "399da1c6",
   "metadata": {},
   "outputs": [
    {
     "data": {
      "text/html": [
       "<div>\n",
       "<style scoped>\n",
       "    .dataframe tbody tr th:only-of-type {\n",
       "        vertical-align: middle;\n",
       "    }\n",
       "\n",
       "    .dataframe tbody tr th {\n",
       "        vertical-align: top;\n",
       "    }\n",
       "\n",
       "    .dataframe thead th {\n",
       "        text-align: right;\n",
       "    }\n",
       "</style>\n",
       "<table border=\"1\" class=\"dataframe\">\n",
       "  <thead>\n",
       "    <tr style=\"text-align: right;\">\n",
       "      <th></th>\n",
       "      <th>date</th>\n",
       "      <th>ordersPerDateA</th>\n",
       "      <th>revenuePerDateA</th>\n",
       "      <th>ordersPerDateB</th>\n",
       "      <th>revenuePerDateB</th>\n",
       "      <th>ordersCummulativeA</th>\n",
       "      <th>revenueCummulativeA</th>\n",
       "      <th>ordersCummulativeB</th>\n",
       "      <th>revenueCummulativeB</th>\n",
       "      <th>visitorsPerDateA</th>\n",
       "      <th>visitorsPerDateB</th>\n",
       "      <th>visitorsCummulativeA</th>\n",
       "      <th>visitorsCummulativeB</th>\n",
       "    </tr>\n",
       "  </thead>\n",
       "  <tbody>\n",
       "    <tr>\n",
       "      <th>0</th>\n",
       "      <td>2019-08-01</td>\n",
       "      <td>24</td>\n",
       "      <td>148579</td>\n",
       "      <td>21</td>\n",
       "      <td>101217</td>\n",
       "      <td>24</td>\n",
       "      <td>148579</td>\n",
       "      <td>21</td>\n",
       "      <td>101217</td>\n",
       "      <td>719</td>\n",
       "      <td>713</td>\n",
       "      <td>719</td>\n",
       "      <td>713</td>\n",
       "    </tr>\n",
       "    <tr>\n",
       "      <th>1</th>\n",
       "      <td>2019-08-02</td>\n",
       "      <td>20</td>\n",
       "      <td>93822</td>\n",
       "      <td>24</td>\n",
       "      <td>165531</td>\n",
       "      <td>44</td>\n",
       "      <td>242401</td>\n",
       "      <td>45</td>\n",
       "      <td>266748</td>\n",
       "      <td>619</td>\n",
       "      <td>581</td>\n",
       "      <td>1338</td>\n",
       "      <td>1294</td>\n",
       "    </tr>\n",
       "    <tr>\n",
       "      <th>2</th>\n",
       "      <td>2019-08-03</td>\n",
       "      <td>24</td>\n",
       "      <td>112473</td>\n",
       "      <td>16</td>\n",
       "      <td>114248</td>\n",
       "      <td>68</td>\n",
       "      <td>354874</td>\n",
       "      <td>61</td>\n",
       "      <td>380996</td>\n",
       "      <td>507</td>\n",
       "      <td>509</td>\n",
       "      <td>1845</td>\n",
       "      <td>1803</td>\n",
       "    </tr>\n",
       "    <tr>\n",
       "      <th>3</th>\n",
       "      <td>2019-08-04</td>\n",
       "      <td>16</td>\n",
       "      <td>70825</td>\n",
       "      <td>17</td>\n",
       "      <td>108571</td>\n",
       "      <td>84</td>\n",
       "      <td>425699</td>\n",
       "      <td>78</td>\n",
       "      <td>489567</td>\n",
       "      <td>717</td>\n",
       "      <td>770</td>\n",
       "      <td>2562</td>\n",
       "      <td>2573</td>\n",
       "    </tr>\n",
       "    <tr>\n",
       "      <th>4</th>\n",
       "      <td>2019-08-05</td>\n",
       "      <td>25</td>\n",
       "      <td>124218</td>\n",
       "      <td>23</td>\n",
       "      <td>92428</td>\n",
       "      <td>109</td>\n",
       "      <td>549917</td>\n",
       "      <td>101</td>\n",
       "      <td>581995</td>\n",
       "      <td>756</td>\n",
       "      <td>707</td>\n",
       "      <td>3318</td>\n",
       "      <td>3280</td>\n",
       "    </tr>\n",
       "  </tbody>\n",
       "</table>\n",
       "</div>"
      ],
      "text/plain": [
       "        date  ordersPerDateA  revenuePerDateA  ordersPerDateB  \\\n",
       "0 2019-08-01              24           148579              21   \n",
       "1 2019-08-02              20            93822              24   \n",
       "2 2019-08-03              24           112473              16   \n",
       "3 2019-08-04              16            70825              17   \n",
       "4 2019-08-05              25           124218              23   \n",
       "\n",
       "   revenuePerDateB  ordersCummulativeA  revenueCummulativeA  \\\n",
       "0           101217                  24               148579   \n",
       "1           165531                  44               242401   \n",
       "2           114248                  68               354874   \n",
       "3           108571                  84               425699   \n",
       "4            92428                 109               549917   \n",
       "\n",
       "   ordersCummulativeB  revenueCummulativeB  visitorsPerDateA  \\\n",
       "0                  21               101217               719   \n",
       "1                  45               266748               619   \n",
       "2                  61               380996               507   \n",
       "3                  78               489567               717   \n",
       "4                 101               581995               756   \n",
       "\n",
       "   visitorsPerDateB  visitorsCummulativeA  visitorsCummulativeB  \n",
       "0               713                   719                   713  \n",
       "1               581                  1338                  1294  \n",
       "2               509                  1845                  1803  \n",
       "3               770                  2562                  2573  \n",
       "4               707                  3318                  3280  "
      ]
     },
     "execution_count": 53,
     "metadata": {},
     "output_type": "execute_result"
    }
   ],
   "source": [
    "data.head()"
   ]
  },
  {
   "cell_type": "markdown",
   "id": "d76dac3f",
   "metadata": {},
   "source": [
    "Создадим переменные `ordersByUsersA` и `ordersByUsersB` со столбцами ['visitor_id', 'transactions']. В них для пользователей, которые заказывали хотя бы 1 раз, укажем число совершённых заказов."
   ]
  },
  {
   "cell_type": "code",
   "execution_count": 54,
   "id": "a9034adf",
   "metadata": {},
   "outputs": [],
   "source": [
    "ordersByUsersA = (\n",
    "    orders[orders['group'] == 'A']\n",
    "    .groupby('visitor_id', as_index=False)\n",
    "    .agg({'transaction_id': 'nunique'}))\n",
    "ordersByUsersA.columns = ['visitor_id', 'orders']\n",
    " \n",
    "ordersByUsersB = (\n",
    "    orders[orders['group'] == 'B']\n",
    "    .groupby('visitor_id', as_index=False)\n",
    "    .agg({'transaction_id': 'nunique'})\n",
    ")\n",
    "ordersByUsersB.columns = ['visitor_id', 'orders']\n"
   ]
  },
  {
   "cell_type": "markdown",
   "id": "b411c77b",
   "metadata": {},
   "source": [
    "Объявим переменные `sampleA` и `sampleB`, в которых пользователям из разных групп будет соответствовать количество заказов. Тем, кто ничего не заказал, будут соответствовать нули.\n",
    "Применим методы `np.arange()` и `pd.concate()`"
   ]
  },
  {
   "cell_type": "code",
   "execution_count": 55,
   "id": "91ca6cd3",
   "metadata": {},
   "outputs": [],
   "source": [
    "sampleA = pd.concat([ordersByUsersA['orders'],pd.Series(0, index=np.arange(data['visitorsPerDateA'].\\\n",
    "    sum() - len(ordersByUsersA['orders'])), name='orders')],axis=0)\n",
    " \n",
    "sampleB = pd.concat([ordersByUsersB['orders'],pd.Series(0, index=np.arange(data['visitorsPerDateB'].\\\n",
    "    sum() - len(ordersByUsersB['orders'])), name='orders')],axis=0)"
   ]
  },
  {
   "cell_type": "markdown",
   "id": "31474da8",
   "metadata": {},
   "source": [
    "Проверим методом `st.shapiro(x)`, можно ли считать эти переменные нормально распределёнными"
   ]
  },
  {
   "cell_type": "code",
   "execution_count": 56,
   "id": "ae4f6ab3",
   "metadata": {},
   "outputs": [
    {
     "name": "stdout",
     "output_type": "stream",
     "text": [
      "p-значение:  0.0\n",
      "Отвергаем нулевую гипотезу: распределение не нормально\n"
     ]
    }
   ],
   "source": [
    "alpha = 0.05  # критический уровень статистической значимости\n",
    "results = st.shapiro(sampleA)\n",
    "p_value = results[1]  # второе значение в массиве результатов (с индексом 1) - p-value\n",
    "print('p-значение: ', p_value)\n",
    "if p_value < alpha:\n",
    "    print('Отвергаем нулевую гипотезу: распределение не нормально')\n",
    "else:\n",
    "    print('Не получилось отвергнуть нулевую гипотезу, всё нормально') \n"
   ]
  },
  {
   "cell_type": "code",
   "execution_count": 57,
   "id": "9bb36d9c",
   "metadata": {},
   "outputs": [
    {
     "name": "stdout",
     "output_type": "stream",
     "text": [
      "p-значение:  0.0\n",
      "Отвергаем нулевую гипотезу: распределение не нормально\n"
     ]
    }
   ],
   "source": [
    "alpha = 0.05  # критический уровень статистической значимости\n",
    "results = st.shapiro(sampleB)\n",
    "p_value = results[1]  # второе значение в массиве результатов (с индексом 1) - p-value\n",
    "print('p-значение: ', p_value)\n",
    "if p_value < alpha:\n",
    "    print('Отвергаем нулевую гипотезу: распределение не нормально')\n",
    "else:\n",
    "    print('Не получилось отвергнуть нулевую гипотезу, всё нормально') \n"
   ]
  },
  {
   "cell_type": "markdown",
   "id": "03010e0a",
   "metadata": {},
   "source": [
    "Метод Шапиро-Уилка показал что переменные с количеством заказов распределены не нормально. Значит для расчета статистической значимости между группами стоит использовать тест Манна-Уитни, который устойчив к аномалиям."
   ]
  },
  {
   "cell_type": "markdown",
   "id": "2d8c78e1",
   "metadata": {},
   "source": [
    "Проверим распределение средних чеков в группах."
   ]
  },
  {
   "cell_type": "code",
   "execution_count": 58,
   "id": "b6afd47e",
   "metadata": {},
   "outputs": [
    {
     "name": "stdout",
     "output_type": "stream",
     "text": [
      "p-значение:  1.739703399801917e-34\n",
      "Отвергаем нулевую гипотезу: распределение не нормально\n"
     ]
    }
   ],
   "source": [
    "alpha = 0.05  # критический уровень статистической значимости\n",
    "results = st.shapiro(orders[orders['group']=='A']['revenue'])\n",
    "p_value = results[1]  # второе значение в массиве результатов (с индексом 1) - p-value\n",
    "print('p-значение: ', p_value)\n",
    "if p_value < alpha:\n",
    "    print('Отвергаем нулевую гипотезу: распределение не нормально')\n",
    "else:\n",
    "    print('Не получилось отвергнуть нулевую гипотезу, всё нормально')"
   ]
  },
  {
   "cell_type": "code",
   "execution_count": 59,
   "id": "6159b3ac",
   "metadata": {},
   "outputs": [
    {
     "name": "stdout",
     "output_type": "stream",
     "text": [
      "p-значение:  0.0\n",
      "Отвергаем нулевую гипотезу: распределение не нормально\n"
     ]
    }
   ],
   "source": [
    "alpha = 0.05  # критический уровень статистической значимости\n",
    "results = st.shapiro(orders[orders['group']=='B']['revenue'])\n",
    "p_value = results[1]  # второе значение в массиве результатов (с индексом 1) - p-value\n",
    "print('p-значение: ', p_value)\n",
    "if p_value < alpha:\n",
    "    print('Отвергаем нулевую гипотезу: распределение не нормально')\n",
    "else:\n",
    "    print('Не получилось отвергнуть нулевую гипотезу, всё нормально')"
   ]
  },
  {
   "cell_type": "markdown",
   "id": "54af7b11",
   "metadata": {},
   "source": [
    "Здесь также в расчете статистической значимости выручек между группами стоит использовать тест Манна-Уитни."
   ]
  },
  {
   "cell_type": "markdown",
   "id": "2195f79f",
   "metadata": {},
   "source": [
    "Ранее мы вычислили, что 95-й и 99-й перцентили средних чеков равны 28000 и 58233. А 95-й и 99-й перцентили количества заказов на одного пользователя равны 2 и 4 заказа на пользователя.\n",
    "Примем за аномальных пользователей тех, кто совершил от 4 заказов или совершил заказ дороже 30 000. Так мы уберём от 1% до 5% пользователей с наибольшим числом заказов и от 1% до 5% пользователей с дорогими заказами. Сделаем срезы пользователей с числом заказов больше 3 — `usersWithManyOrders` и пользователей, совершивших заказы дороже 30 000 — `usersWithExpensiveOrders`. Объединим их в таблице `abnormalUsers`."
   ]
  },
  {
   "cell_type": "markdown",
   "id": "ba72f517",
   "metadata": {},
   "source": [
    "Узнаем, сколько всего аномальных пользователей методом `shape()`."
   ]
  },
  {
   "cell_type": "code",
   "execution_count": 60,
   "id": "709042f4",
   "metadata": {},
   "outputs": [
    {
     "name": "stdout",
     "output_type": "stream",
     "text": [
      "1099    148427295\n",
      "18      199603092\n",
      "928     204675465\n",
      "23      237748145\n",
      "684     358944393\n",
      "Name: visitor_id, dtype: int64\n",
      "(57,)\n"
     ]
    }
   ],
   "source": [
    "usersWithManyOrders = pd.concat([\n",
    "        ordersByUsersA[ordersByUsersA['orders'] > 3]['visitor_id'],\n",
    "        ordersByUsersB[ordersByUsersB['orders'] > 3]['visitor_id']],axis=0)\n",
    "\n",
    "usersWithExpensiveOrders = orders[orders['revenue'] > 30000]['visitor_id']\n",
    "abnormalUsers = pd.concat([usersWithManyOrders, usersWithExpensiveOrders], axis=0).\\\n",
    "    drop_duplicates().sort_values()\n",
    "\n",
    "print(abnormalUsers.head())\n",
    "print(abnormalUsers.shape)"
   ]
  },
  {
   "cell_type": "markdown",
   "id": "b1c24fb3",
   "metadata": {},
   "source": [
    "Всего 57 аномальных пользователей.\n",
    "Подготовим выборки количества заказов по пользователям по группам теста с отфтльтрованными данными:\n"
   ]
  },
  {
   "cell_type": "code",
   "execution_count": 61,
   "id": "dd283f9b",
   "metadata": {},
   "outputs": [],
   "source": [
    "sampleAFiltered = (pd.concat([ordersByUsersA[\n",
    "        np.logical_not(ordersByUsersA['visitor_id'].isin(abnormalUsers))]['orders'],\n",
    "        pd.Series(0, index=np.arange(data['visitorsPerDateA'].sum() - len(ordersByUsersA['orders'])), name='orders')], axis=0))\n",
    " \n",
    "sampleBFiltered = (pd.concat([ordersByUsersB[\n",
    "        np.logical_not(ordersByUsersB['visitor_id'].isin(abnormalUsers))]['orders'],\n",
    "        pd.Series(0, index=np.arange(data['visitorsPerDateB'].sum() - len(ordersByUsersB['orders'])), name='orders')], axis=0)) \n",
    "\n"
   ]
  },
  {
   "cell_type": "markdown",
   "id": "e0035610",
   "metadata": {},
   "source": [
    "Проверим методом `st.shapiro(x)`, можно ли считать эти переменные нормально распределёнными"
   ]
  },
  {
   "cell_type": "code",
   "execution_count": 62,
   "id": "5908b77e",
   "metadata": {},
   "outputs": [
    {
     "name": "stdout",
     "output_type": "stream",
     "text": [
      "p-значение:  0.0\n",
      "Отвергаем нулевую гипотезу: распределение не нормально\n"
     ]
    }
   ],
   "source": [
    "alpha = 0.05  # критический уровень статистической значимости\n",
    "results = st.shapiro(sampleAFiltered)\n",
    "p_value = results[1]  # второе значение в массиве результатов (с индексом 1) - p-value\n",
    "print('p-значение: ', p_value)\n",
    "if p_value < alpha:\n",
    "    print('Отвергаем нулевую гипотезу: распределение не нормально')\n",
    "else:\n",
    "    print('Не получилось отвергнуть нулевую гипотезу, всё нормально')"
   ]
  },
  {
   "cell_type": "code",
   "execution_count": 63,
   "id": "ef97b0a0",
   "metadata": {},
   "outputs": [
    {
     "name": "stdout",
     "output_type": "stream",
     "text": [
      "p-значение:  0.0\n",
      "Отвергаем нулевую гипотезу: распределение не нормально\n"
     ]
    }
   ],
   "source": [
    "alpha = 0.05  # критический уровень статистической значимости\n",
    "results = st.shapiro(sampleBFiltered)\n",
    "p_value = results[1]  # второе значение в массиве результатов (с индексом 1) - p-value\n",
    "print('p-значение: ', p_value)\n",
    "if p_value < alpha:\n",
    "    print('Отвергаем нулевую гипотезу: распределение не нормально')\n",
    "else:\n",
    "    print('Не получилось отвергнуть нулевую гипотезу, всё нормально')"
   ]
  },
  {
   "cell_type": "markdown",
   "id": "f7a54b89",
   "metadata": {},
   "source": [
    "Здесь также распределения не нормальны. В расчетах статистической значимости будем использовать тест Манна-Уитни."
   ]
  },
  {
   "cell_type": "markdown",
   "id": "90f21e64",
   "metadata": {},
   "source": [
    "Посмотрим распределение средних чеков в группах."
   ]
  },
  {
   "cell_type": "code",
   "execution_count": 64,
   "id": "66a03952",
   "metadata": {},
   "outputs": [
    {
     "name": "stdout",
     "output_type": "stream",
     "text": [
      "p-значение:  1.8868852738833219e-25\n",
      "Отвергаем нулевую гипотезу: распределение не нормально\n"
     ]
    }
   ],
   "source": [
    "alpha = 0.05  # критический уровень статистической значимости\n",
    "results = st.shapiro(orders[\n",
    "                np.logical_and(\n",
    "                    orders['group'] == 'A',\n",
    "                    np.logical_not(orders['visitor_id'].isin(abnormalUsers)),\n",
    "                )\n",
    "            ]['revenue'])\n",
    "p_value = results[1]  # второе значение в массиве результатов (с индексом 1) - p-value\n",
    "print('p-значение: ', p_value)\n",
    "if p_value < alpha:\n",
    "    print('Отвергаем нулевую гипотезу: распределение не нормально')\n",
    "else:\n",
    "    print('Не получилось отвергнуть нулевую гипотезу, всё нормально')"
   ]
  },
  {
   "cell_type": "code",
   "execution_count": 65,
   "id": "21b130d7",
   "metadata": {},
   "outputs": [
    {
     "name": "stdout",
     "output_type": "stream",
     "text": [
      "p-значение:  5.261565978280583e-28\n",
      "Отвергаем нулевую гипотезу: распределение не нормально\n"
     ]
    }
   ],
   "source": [
    "alpha = 0.05  # критический уровень статистической значимости\n",
    "results = st.shapiro(orders[\n",
    "                np.logical_and(\n",
    "                    orders['group'] == 'B',\n",
    "                    np.logical_not(orders['visitor_id'].isin(abnormalUsers)),\n",
    "                )\n",
    "            ]['revenue'])\n",
    "p_value = results[1]  # второе значение в массиве результатов (с индексом 1) - p-value\n",
    "print('p-значение: ', p_value)\n",
    "if p_value < alpha:\n",
    "    print('Отвергаем нулевую гипотезу: распределение не нормально')\n",
    "else:\n",
    "    print('Не получилось отвергнуть нулевую гипотезу, всё нормально')"
   ]
  },
  {
   "cell_type": "markdown",
   "id": "5ecf750e",
   "metadata": {},
   "source": [
    "Здесь как и везде видим, что для расчета статистической значимости стоит использовать тест Манна-Уитни. "
   ]
  },
  {
   "cell_type": "markdown",
   "id": "adad4942",
   "metadata": {},
   "source": [
    "### 4.4 Расчет статистической значимости в метриках между группами                                     <a id='intro11'></a>"
   ]
  },
  {
   "cell_type": "markdown",
   "id": "fdb90849",
   "metadata": {},
   "source": [
    "Посчитаем статистическую значимость различий в конверсии и среднем чеке между группами по «сырым» данным — без удаления аномальных пользователей."
   ]
  },
  {
   "cell_type": "markdown",
   "id": "f24d1c6b",
   "metadata": {},
   "source": [
    "Чтобы получить конверсию в группе, поделим сумму заказов на число пользователей — найдём среднее в выборке `sampleA` методом `mean()`. Аналогично найдём конверсию группы B: `SampleB.mean()`.\n"
   ]
  },
  {
   "cell_type": "markdown",
   "id": "3bd89e17",
   "metadata": {},
   "source": [
    "Применим критерий и отформатируем `p-value`, округлив его до трёх знаков после запятой. Выведите `p-value` для сравнения конверсии между группами.  Выведем относительный прирост конверсии группы B: конверсия группы B / конверсия группы A - 1. Округлим до трёх знаков после запятой."
   ]
  },
  {
   "cell_type": "code",
   "execution_count": 66,
   "id": "363ebb05",
   "metadata": {},
   "outputs": [
    {
     "name": "stdout",
     "output_type": "stream",
     "text": [
      "p-значение: 0.017\n",
      "Отвергаем нулевую гипотезу: разница статистически значима\n",
      "0.138\n"
     ]
    }
   ],
   "source": [
    "alpha = 0.05  # критический уровень статистической значимости\n",
    "results = st.mannwhitneyu(sampleA, sampleB, True, 'two-sided')[1]\n",
    "print('p-значение: {0:.3f}'.format(results))\n",
    "if results < alpha:\n",
    "    print('Отвергаем нулевую гипотезу: разница статистически значима')\n",
    "else:\n",
    "    print('Не получилось отвергнуть нулевую гипотезу, вывод о различии сделать нельзя')\n",
    "\n",
    "print(\"{0:.3f}\".format(sampleB.mean() / sampleA.mean() - 1))"
   ]
  },
  {
   "cell_type": "markdown",
   "id": "9eb33546",
   "metadata": {},
   "source": [
    "Итак, выходит, что разница в конверсии между группами статистически значима. Относительный выигрыш группы B по конверсии равен 13.8%."
   ]
  },
  {
   "cell_type": "markdown",
   "id": "93cff7b9",
   "metadata": {},
   "source": [
    "Посчитаем статистическую значимость различия средних чеков между группами.\n",
    "Выведим `p-value` для сравнения средних чеков между группами. Округлите `p-value` до трёх знаков после запятой.\n",
    "Выведите относительный прирост среднего чека группы B, округлив до трёх знаков после запятой."
   ]
  },
  {
   "cell_type": "code",
   "execution_count": 67,
   "id": "a9bbefb1",
   "metadata": {},
   "outputs": [
    {
     "name": "stdout",
     "output_type": "stream",
     "text": [
      "p-значение: 0.729\n",
      "Не получилось отвергнуть нулевую гипотезу, вывод о различии сделать нельзя\n",
      "0.259\n"
     ]
    }
   ],
   "source": [
    "alpha = 0.05  # критический уровень статистической значимости\n",
    "results = (st.mannwhitneyu(orders[orders['group']=='A']['revenue'], \n",
    "                           orders[orders['group']=='B']['revenue'], True, 'two-sided')[1])\n",
    "print('p-значение: {0:.3f}'.format(results))\n",
    "if results < alpha:\n",
    "    print('Отвергаем нулевую гипотезу: разница статистически значима')\n",
    "else:\n",
    "    print('Не получилось отвергнуть нулевую гипотезу, вывод о различии сделать нельзя')\n",
    "    \n",
    "print('{0:.3f}'.format(orders[orders['group']=='B']['revenue'].mean()/orders[orders['group']=='A']['revenue'].mean()-1)) \n"
   ]
  },
  {
   "cell_type": "markdown",
   "id": "537a9a45",
   "metadata": {},
   "source": [
    "Статистически значимых различий в среднем чеке между группами нет. В то же время средний чек группы B значительно выше среднего чека группы A."
   ]
  },
  {
   "cell_type": "markdown",
   "id": "1402fb96",
   "metadata": {},
   "source": [
    "Теперь применим статистический критерий Манна-Уитни к полученным выше отфильтрованным выборкам:"
   ]
  },
  {
   "cell_type": "code",
   "execution_count": 68,
   "id": "d3f420c4",
   "metadata": {},
   "outputs": [
    {
     "name": "stdout",
     "output_type": "stream",
     "text": [
      "p-значение: 0.018\n",
      "Отвергаем нулевую гипотезу: разница статистически значима\n",
      "0.148\n"
     ]
    }
   ],
   "source": [
    "alpha = 0.05  # критический уровень статистической значимости\n",
    "results = st.mannwhitneyu(sampleAFiltered, sampleBFiltered, True, 'two-sided')[1]\n",
    "print('p-значение: {0:.3f}'.format(results))\n",
    "if results < alpha:\n",
    "    print('Отвергаем нулевую гипотезу: разница статистически значима')\n",
    "else:\n",
    "    print('Не получилось отвергнуть нулевую гипотезу, вывод о различии сделать нельзя')\n",
    "\n",
    "print(\"{0:.3f}\".format(sampleBFiltered.mean() / sampleAFiltered.mean() - 1))"
   ]
  },
  {
   "cell_type": "markdown",
   "id": "a1a43c1e",
   "metadata": {},
   "source": [
    "Результаты по конверсии практически не изменились. Разница в конверсии между группами статистически значима. Относительный выигрыш группы B по конверсии равен 14.8%"
   ]
  },
  {
   "cell_type": "markdown",
   "id": "cd1230dc",
   "metadata": {},
   "source": [
    "Теперь посчитаем статистическую значимость различия средних чеков между группами."
   ]
  },
  {
   "cell_type": "code",
   "execution_count": 69,
   "id": "b45ea408",
   "metadata": {},
   "outputs": [
    {
     "name": "stdout",
     "output_type": "stream",
     "text": [
      "p-значение: 0.958\n",
      "Не получилось отвергнуть нулевую гипотезу, вывод о различии сделать нельзя\n",
      "-0.020\n"
     ]
    }
   ],
   "source": [
    "alpha = 0.05  # критический уровень статистической значимости\n",
    "results = (st.mannwhitneyu(orders[\n",
    "                np.logical_and(\n",
    "                    orders['group'] == 'A',\n",
    "                    np.logical_not(orders['visitor_id'].isin(abnormalUsers)),\n",
    "                )\n",
    "            ]['revenue'],\n",
    "            orders[\n",
    "                np.logical_and(\n",
    "                    orders['group'] == 'B',\n",
    "                        np.logical_not(orders['visitor_id'].isin(abnormalUsers)),\n",
    "                )\n",
    "            ]['revenue'], True, 'two-sided')[1])\n",
    "\n",
    "print('p-значение: {0:.3f}'.format(results))\n",
    "if results < alpha:\n",
    "    print('Отвергаем нулевую гипотезу: разница статистически значима')\n",
    "else:\n",
    "    print('Не получилось отвергнуть нулевую гипотезу, вывод о различии сделать нельзя')\n",
    "    \n",
    "print('{0:.3f}'.format(\n",
    "    orders[\n",
    "        np.logical_and(\n",
    "            orders['group'] == 'B',\n",
    "                np.logical_not(orders['visitor_id'].isin(abnormalUsers)),\n",
    "            )\n",
    "        ]['revenue'].mean()\n",
    "        / orders[\n",
    "            np.logical_and(\n",
    "                orders['group'] == 'A',\n",
    "                np.logical_not(orders['visitor_id'].isin(abnormalUsers)),\n",
    "            )]['revenue'].mean() - 1))\n",
    " \n"
   ]
  },
  {
   "cell_type": "markdown",
   "id": "acfbb6d1",
   "metadata": {},
   "source": [
    "P-value увеличился c 0.729 до 0.958, но и разница между сегментами сильно сократилась с 26% до 2%. И уже средний чек группы B \n",
    "стал совсем немного отставать от среднего чека группы A."
   ]
  },
  {
   "cell_type": "markdown",
   "id": "85e73446",
   "metadata": {},
   "source": [
    "Хотя общие выводы по результатам теста не изменились, мы увидели, как сильно аномалии могут влиять на результаты A/B-теста.\n"
   ]
  },
  {
   "cell_type": "markdown",
   "id": "850c7d06",
   "metadata": {},
   "source": [
    "### 4.5 Решение по результатам теста.                                                                              <a id='intro12'></a>"
   ]
  },
  {
   "cell_type": "markdown",
   "id": "dc5d057d",
   "metadata": {},
   "source": [
    "Имеющиеся факты:\n",
    "- Присутствует статистически значимое различие по конверсии между группами как по «сырым», так и по данным после фильтрации аномалий;\n",
    "- Нет статистически значимого различия по среднему чеку между группами ни по «сырым», ни по данным после фильтрации аномалий;\n",
    "- График различия конверсии между группами сообщает, что результаты группы B лучше результатов группы A в среднем на 15%:\n",
    "- График различия среднего чека колеблется: он-то и позволил нам найти аномалии. Сделать из этого графика определённые выводы нельзя.\n",
    "\n",
    "Исходя из обнаруженных фактов, тест следует остановить и признать его успешным."
   ]
  },
  {
   "cell_type": "markdown",
   "id": "f5724763",
   "metadata": {},
   "source": [
    "## Общий вывод                                                                                                <a id='intro13'></a>"
   ]
  },
  {
   "cell_type": "markdown",
   "id": "aa26cfb7",
   "metadata": {},
   "source": [
    "Мы провели исследование списка гипотез для увеличения выручки.\n",
    "Приоритизация гипотез с помощью фреймворков `ICE` и `RICE` показала:\n",
    "- Наиболее перспективные гипотезы по `ICE` - 8, 0, 7;\n",
    "- Наиболее перспективные гипотезы по `RICE` - 7, 2, 0, 6.  \n",
    "\n",
    "Также стало ясно, что кроме силы гипотез необходимо учитывать и охват пользователей, которых захватывают эти гипотезы.\n",
    "\n",
    "Проведенный анализ A/B теста показал:\n",
    "- Кумулятивная выручка группы А почти равномерно увеличивается в течение всего теста. В середине теста выручка группы В становится резко выше выручки группы А и продолжает лидировать до конца теста. На это скорее всего влияют аномально большие заказы;\n",
    "- Кумулятивное значение среднего чека по группам колеблется на всем протяжении теста, возможно на результаты влияют выбросы;\n",
    "- В начале исследования кумулятивной конверсии наблюдаются колебания в двух группах, конверсия группы A немного выше группы B. Затем конверсии достаточно быстро выравниваются, конверсия группы B превышает конверсию в группе A.\n",
    "- По относительному изменению конверсии между группами присутствует лидерство группы B по конверсии в среднем на 15%;\n",
    "- По относительному изменению среднего чека между группами пристутствует колебание значений и влияние аномалий.;\n",
    "- Имеется статистически значимое различие по конверсии между группами как по «сырым», так и по данным после фильтрации аномалий;\n",
    "- Нет статистически значимого различия по среднему чеку между группами ни по «сырым», ни по данным после фильтрации аномалий.\n",
    "\n",
    "Исходя из полученных результатов анализа A/B-теста делаем вывод о том, что тест следует остановить и признать его успешным."
   ]
  }
 ],
 "metadata": {
  "ExecuteTimeLog": [
   {
    "duration": 1564,
    "start_time": "2022-03-21T19:34:46.674Z"
   },
   {
    "duration": 13,
    "start_time": "2022-03-21T19:34:48.241Z"
   },
   {
    "duration": 31,
    "start_time": "2022-03-21T19:34:48.256Z"
   },
   {
    "duration": 16,
    "start_time": "2022-03-21T19:34:48.289Z"
   },
   {
    "duration": 12,
    "start_time": "2022-03-21T19:34:48.308Z"
   },
   {
    "duration": 30,
    "start_time": "2022-03-21T19:34:48.323Z"
   },
   {
    "duration": 30,
    "start_time": "2022-03-21T19:34:48.356Z"
   },
   {
    "duration": 16,
    "start_time": "2022-03-21T19:34:48.388Z"
   },
   {
    "duration": 15,
    "start_time": "2022-03-21T19:34:48.406Z"
   },
   {
    "duration": 15,
    "start_time": "2022-03-21T19:34:48.423Z"
   },
   {
    "duration": 11,
    "start_time": "2022-03-21T19:34:48.440Z"
   },
   {
    "duration": 20,
    "start_time": "2022-03-21T19:34:48.483Z"
   },
   {
    "duration": 17,
    "start_time": "2022-03-21T19:34:48.506Z"
   },
   {
    "duration": 14,
    "start_time": "2022-03-21T19:34:48.529Z"
   },
   {
    "duration": 43,
    "start_time": "2022-03-21T19:34:48.545Z"
   },
   {
    "duration": 21,
    "start_time": "2022-03-21T19:34:48.591Z"
   },
   {
    "duration": 20,
    "start_time": "2022-03-21T19:34:48.614Z"
   },
   {
    "duration": 15,
    "start_time": "2022-03-21T19:34:48.637Z"
   },
   {
    "duration": 32,
    "start_time": "2022-03-21T19:34:48.656Z"
   },
   {
    "duration": 12,
    "start_time": "2022-03-21T19:34:48.691Z"
   },
   {
    "duration": 14,
    "start_time": "2022-03-21T19:34:48.707Z"
   },
   {
    "duration": 17,
    "start_time": "2022-03-21T19:34:48.723Z"
   },
   {
    "duration": 43,
    "start_time": "2022-03-21T19:34:48.743Z"
   },
   {
    "duration": 20,
    "start_time": "2022-03-21T19:34:48.789Z"
   },
   {
    "duration": 302,
    "start_time": "2022-03-21T19:34:48.812Z"
   },
   {
    "duration": 12,
    "start_time": "2022-03-21T19:34:49.117Z"
   },
   {
    "duration": 229,
    "start_time": "2022-03-21T19:34:49.132Z"
   },
   {
    "duration": 26,
    "start_time": "2022-03-21T19:34:49.363Z"
   },
   {
    "duration": 23,
    "start_time": "2022-03-21T19:34:49.392Z"
   },
   {
    "duration": 22,
    "start_time": "2022-03-21T19:34:49.418Z"
   },
   {
    "duration": 532,
    "start_time": "2022-03-21T19:34:49.443Z"
   },
   {
    "duration": 371,
    "start_time": "2022-03-21T19:34:49.984Z"
   },
   {
    "duration": 11,
    "start_time": "2022-03-21T19:34:50.358Z"
   },
   {
    "duration": 12,
    "start_time": "2022-03-21T19:34:50.385Z"
   },
   {
    "duration": 438,
    "start_time": "2022-03-21T19:34:50.400Z"
   },
   {
    "duration": 5,
    "start_time": "2022-03-21T19:34:50.840Z"
   },
   {
    "duration": 8,
    "start_time": "2022-03-21T19:34:50.848Z"
   },
   {
    "duration": 26,
    "start_time": "2022-03-21T19:34:50.858Z"
   },
   {
    "duration": 367,
    "start_time": "2022-03-21T19:34:50.887Z"
   },
   {
    "duration": 12,
    "start_time": "2022-03-21T19:34:51.257Z"
   },
   {
    "duration": 14,
    "start_time": "2022-03-21T19:34:51.286Z"
   },
   {
    "duration": 588,
    "start_time": "2022-03-21T19:34:51.302Z"
   },
   {
    "duration": 331,
    "start_time": "2022-03-21T19:34:51.895Z"
   },
   {
    "duration": 7,
    "start_time": "2022-03-21T19:34:52.229Z"
   },
   {
    "duration": 22,
    "start_time": "2022-03-21T19:34:52.239Z"
   },
   {
    "duration": 325,
    "start_time": "2022-03-21T19:34:52.285Z"
   },
   {
    "duration": 7,
    "start_time": "2022-03-21T19:34:52.613Z"
   },
   {
    "duration": 374,
    "start_time": "2022-03-21T19:34:52.622Z"
   },
   {
    "duration": 21,
    "start_time": "2022-03-21T19:34:52.998Z"
   },
   {
    "duration": 19,
    "start_time": "2022-03-21T19:34:53.022Z"
   },
   {
    "duration": 45,
    "start_time": "2022-03-21T19:34:53.043Z"
   },
   {
    "duration": 32,
    "start_time": "2022-03-21T19:34:53.090Z"
   },
   {
    "duration": 16,
    "start_time": "2022-03-21T19:34:53.125Z"
   },
   {
    "duration": 52,
    "start_time": "2022-03-21T19:34:53.143Z"
   },
   {
    "duration": 18,
    "start_time": "2022-03-21T19:34:53.197Z"
   },
   {
    "duration": 33,
    "start_time": "2022-03-21T19:34:53.218Z"
   },
   {
    "duration": 52,
    "start_time": "2022-03-21T19:34:53.254Z"
   },
   {
    "duration": 1313,
    "start_time": "2022-03-23T19:24:26.900Z"
   },
   {
    "duration": 27,
    "start_time": "2022-03-23T19:24:28.215Z"
   },
   {
    "duration": 12,
    "start_time": "2022-03-23T19:24:28.243Z"
   },
   {
    "duration": 11,
    "start_time": "2022-03-23T19:24:28.256Z"
   },
   {
    "duration": 8,
    "start_time": "2022-03-23T19:24:28.270Z"
   },
   {
    "duration": 57,
    "start_time": "2022-03-23T19:24:28.279Z"
   },
   {
    "duration": 7,
    "start_time": "2022-03-23T19:24:28.337Z"
   },
   {
    "duration": 11,
    "start_time": "2022-03-23T19:24:28.346Z"
   },
   {
    "duration": 7,
    "start_time": "2022-03-23T19:24:28.358Z"
   },
   {
    "duration": 17,
    "start_time": "2022-03-23T19:24:28.367Z"
   },
   {
    "duration": 7,
    "start_time": "2022-03-23T19:24:28.385Z"
   },
   {
    "duration": 10,
    "start_time": "2022-03-23T19:24:28.393Z"
   },
   {
    "duration": 11,
    "start_time": "2022-03-23T19:24:28.405Z"
   },
   {
    "duration": 5,
    "start_time": "2022-03-23T19:24:28.418Z"
   },
   {
    "duration": 7,
    "start_time": "2022-03-23T19:24:28.424Z"
   },
   {
    "duration": 10,
    "start_time": "2022-03-23T19:24:28.432Z"
   },
   {
    "duration": 7,
    "start_time": "2022-03-23T19:24:28.443Z"
   },
   {
    "duration": 9,
    "start_time": "2022-03-23T19:24:28.451Z"
   },
   {
    "duration": 7,
    "start_time": "2022-03-23T19:24:28.462Z"
   },
   {
    "duration": 12,
    "start_time": "2022-03-23T19:24:28.471Z"
   },
   {
    "duration": 3,
    "start_time": "2022-03-23T19:24:28.501Z"
   },
   {
    "duration": 12,
    "start_time": "2022-03-23T19:24:28.506Z"
   },
   {
    "duration": 10,
    "start_time": "2022-03-23T19:24:28.519Z"
   },
   {
    "duration": 10,
    "start_time": "2022-03-23T19:24:28.530Z"
   },
   {
    "duration": 12,
    "start_time": "2022-03-23T19:24:28.542Z"
   },
   {
    "duration": 63,
    "start_time": "2022-03-23T19:24:28.556Z"
   },
   {
    "duration": 4,
    "start_time": "2022-03-23T19:24:28.621Z"
   },
   {
    "duration": 9,
    "start_time": "2022-03-23T19:24:28.627Z"
   },
   {
    "duration": 160,
    "start_time": "2022-03-23T19:24:28.638Z"
   },
   {
    "duration": 8,
    "start_time": "2022-03-23T19:24:28.801Z"
   },
   {
    "duration": 128,
    "start_time": "2022-03-23T19:24:28.811Z"
   },
   {
    "duration": 8,
    "start_time": "2022-03-23T19:24:28.941Z"
   },
   {
    "duration": 7,
    "start_time": "2022-03-23T19:24:28.951Z"
   },
   {
    "duration": 9,
    "start_time": "2022-03-23T19:24:28.960Z"
   },
   {
    "duration": 290,
    "start_time": "2022-03-23T19:24:28.970Z"
   },
   {
    "duration": 199,
    "start_time": "2022-03-23T19:24:29.261Z"
   },
   {
    "duration": 6,
    "start_time": "2022-03-23T19:24:29.461Z"
   },
   {
    "duration": 9,
    "start_time": "2022-03-23T19:24:29.468Z"
   },
   {
    "duration": 375,
    "start_time": "2022-03-23T19:24:29.478Z"
   },
   {
    "duration": 4,
    "start_time": "2022-03-23T19:24:29.854Z"
   },
   {
    "duration": 4,
    "start_time": "2022-03-23T19:24:29.863Z"
   },
   {
    "duration": 6,
    "start_time": "2022-03-23T19:24:29.868Z"
   },
   {
    "duration": 199,
    "start_time": "2022-03-23T19:24:29.876Z"
   },
   {
    "duration": 7,
    "start_time": "2022-03-23T19:24:30.077Z"
   },
   {
    "duration": 20,
    "start_time": "2022-03-23T19:24:30.086Z"
   },
   {
    "duration": 320,
    "start_time": "2022-03-23T19:24:30.107Z"
   },
   {
    "duration": 199,
    "start_time": "2022-03-23T19:24:30.429Z"
   },
   {
    "duration": 3,
    "start_time": "2022-03-23T19:24:30.630Z"
   },
   {
    "duration": 25,
    "start_time": "2022-03-23T19:24:30.635Z"
   },
   {
    "duration": 125,
    "start_time": "2022-03-23T19:24:30.662Z"
   },
   {
    "duration": 4,
    "start_time": "2022-03-23T19:24:30.789Z"
   },
   {
    "duration": 290,
    "start_time": "2022-03-23T19:24:30.802Z"
   },
   {
    "duration": 16,
    "start_time": "2022-03-23T19:24:31.093Z"
   },
   {
    "duration": 38,
    "start_time": "2022-03-23T19:24:31.110Z"
   },
   {
    "duration": 19,
    "start_time": "2022-03-23T19:24:31.150Z"
   },
   {
    "duration": 17,
    "start_time": "2022-03-23T19:24:31.171Z"
   },
   {
    "duration": 11,
    "start_time": "2022-03-23T19:24:31.190Z"
   },
   {
    "duration": 34,
    "start_time": "2022-03-23T19:24:31.203Z"
   },
   {
    "duration": 38,
    "start_time": "2022-03-23T19:24:31.239Z"
   },
   {
    "duration": 26,
    "start_time": "2022-03-23T19:24:31.279Z"
   },
   {
    "duration": 13,
    "start_time": "2022-03-23T19:24:31.307Z"
   },
   {
    "duration": 31,
    "start_time": "2022-03-23T19:24:31.321Z"
   },
   {
    "duration": 16,
    "start_time": "2022-03-23T19:24:31.353Z"
   },
   {
    "duration": 27,
    "start_time": "2022-03-23T19:24:31.370Z"
   },
   {
    "duration": 33,
    "start_time": "2022-03-23T19:24:31.399Z"
   },
   {
    "duration": 45,
    "start_time": "2022-03-23T19:24:31.434Z"
   },
   {
    "duration": 20,
    "start_time": "2022-03-23T19:24:31.480Z"
   },
   {
    "duration": 29,
    "start_time": "2022-03-23T19:24:31.501Z"
   },
   {
    "duration": 12,
    "start_time": "2022-03-23T19:24:31.532Z"
   },
   {
    "duration": 1758,
    "start_time": "2022-03-24T18:49:44.619Z"
   },
   {
    "duration": 12,
    "start_time": "2022-03-24T18:49:46.379Z"
   },
   {
    "duration": 12,
    "start_time": "2022-03-24T18:49:46.393Z"
   },
   {
    "duration": 12,
    "start_time": "2022-03-24T18:49:46.407Z"
   },
   {
    "duration": 10,
    "start_time": "2022-03-24T18:49:46.421Z"
   },
   {
    "duration": 21,
    "start_time": "2022-03-24T18:49:46.462Z"
   },
   {
    "duration": 8,
    "start_time": "2022-03-24T18:49:46.485Z"
   },
   {
    "duration": 17,
    "start_time": "2022-03-24T18:49:46.494Z"
   },
   {
    "duration": 10,
    "start_time": "2022-03-24T18:49:46.512Z"
   },
   {
    "duration": 15,
    "start_time": "2022-03-24T18:49:46.525Z"
   },
   {
    "duration": 8,
    "start_time": "2022-03-24T18:49:46.542Z"
   },
   {
    "duration": 11,
    "start_time": "2022-03-24T18:49:46.564Z"
   },
   {
    "duration": 9,
    "start_time": "2022-03-24T18:49:46.577Z"
   },
   {
    "duration": 6,
    "start_time": "2022-03-24T18:49:46.588Z"
   },
   {
    "duration": 9,
    "start_time": "2022-03-24T18:49:46.595Z"
   },
   {
    "duration": 16,
    "start_time": "2022-03-24T18:49:46.606Z"
   },
   {
    "duration": 7,
    "start_time": "2022-03-24T18:49:46.624Z"
   },
   {
    "duration": 8,
    "start_time": "2022-03-24T18:49:46.664Z"
   },
   {
    "duration": 9,
    "start_time": "2022-03-24T18:49:46.674Z"
   },
   {
    "duration": 14,
    "start_time": "2022-03-24T18:49:46.685Z"
   },
   {
    "duration": 4,
    "start_time": "2022-03-24T18:49:46.701Z"
   },
   {
    "duration": 13,
    "start_time": "2022-03-24T18:49:46.707Z"
   },
   {
    "duration": 42,
    "start_time": "2022-03-24T18:49:46.722Z"
   },
   {
    "duration": 11,
    "start_time": "2022-03-24T18:49:46.767Z"
   },
   {
    "duration": 8,
    "start_time": "2022-03-24T18:49:46.780Z"
   },
   {
    "duration": 74,
    "start_time": "2022-03-24T18:49:46.790Z"
   },
   {
    "duration": 6,
    "start_time": "2022-03-24T18:49:46.866Z"
   },
   {
    "duration": 8,
    "start_time": "2022-03-24T18:49:46.877Z"
   },
   {
    "duration": 169,
    "start_time": "2022-03-24T18:49:46.887Z"
   },
   {
    "duration": 11,
    "start_time": "2022-03-24T18:49:47.058Z"
   },
   {
    "duration": 135,
    "start_time": "2022-03-24T18:49:47.070Z"
   },
   {
    "duration": 8,
    "start_time": "2022-03-24T18:49:47.207Z"
   },
   {
    "duration": 9,
    "start_time": "2022-03-24T18:49:47.216Z"
   },
   {
    "duration": 10,
    "start_time": "2022-03-24T18:49:47.227Z"
   },
   {
    "duration": 299,
    "start_time": "2022-03-24T18:49:47.239Z"
   },
   {
    "duration": 206,
    "start_time": "2022-03-24T18:49:47.540Z"
   },
   {
    "duration": 6,
    "start_time": "2022-03-24T18:49:47.747Z"
   },
   {
    "duration": 11,
    "start_time": "2022-03-24T18:49:47.764Z"
   },
   {
    "duration": 350,
    "start_time": "2022-03-24T18:49:47.776Z"
   },
   {
    "duration": 5,
    "start_time": "2022-03-24T18:49:48.129Z"
   },
   {
    "duration": 8,
    "start_time": "2022-03-24T18:49:48.136Z"
   },
   {
    "duration": 9,
    "start_time": "2022-03-24T18:49:48.146Z"
   },
   {
    "duration": 195,
    "start_time": "2022-03-24T18:49:48.162Z"
   },
   {
    "duration": 8,
    "start_time": "2022-03-24T18:49:48.363Z"
   },
   {
    "duration": 12,
    "start_time": "2022-03-24T18:49:48.373Z"
   },
   {
    "duration": 318,
    "start_time": "2022-03-24T18:49:48.387Z"
   },
   {
    "duration": 150,
    "start_time": "2022-03-24T18:49:48.707Z"
   },
   {
    "duration": 5,
    "start_time": "2022-03-24T18:49:48.863Z"
   },
   {
    "duration": 24,
    "start_time": "2022-03-24T18:49:48.870Z"
   },
   {
    "duration": 151,
    "start_time": "2022-03-24T18:49:48.895Z"
   },
   {
    "duration": 4,
    "start_time": "2022-03-24T18:49:49.048Z"
   },
   {
    "duration": 310,
    "start_time": "2022-03-24T18:49:49.063Z"
   },
   {
    "duration": 10,
    "start_time": "2022-03-24T18:49:49.376Z"
   },
   {
    "duration": 26,
    "start_time": "2022-03-24T18:49:49.389Z"
   },
   {
    "duration": 15,
    "start_time": "2022-03-24T18:49:49.417Z"
   },
   {
    "duration": 27,
    "start_time": "2022-03-24T18:49:49.435Z"
   },
   {
    "duration": 38,
    "start_time": "2022-03-24T18:49:49.463Z"
   },
   {
    "duration": 24,
    "start_time": "2022-03-24T18:49:49.503Z"
   },
   {
    "duration": 23,
    "start_time": "2022-03-24T18:49:49.529Z"
   },
   {
    "duration": 20,
    "start_time": "2022-03-24T18:49:49.555Z"
   },
   {
    "duration": 15,
    "start_time": "2022-03-24T18:49:49.577Z"
   },
   {
    "duration": 15,
    "start_time": "2022-03-24T18:49:49.595Z"
   },
   {
    "duration": 8,
    "start_time": "2022-03-24T18:49:49.612Z"
   },
   {
    "duration": 24,
    "start_time": "2022-03-24T18:49:49.621Z"
   },
   {
    "duration": 21,
    "start_time": "2022-03-24T18:49:49.647Z"
   },
   {
    "duration": 29,
    "start_time": "2022-03-24T18:49:49.670Z"
   },
   {
    "duration": 12,
    "start_time": "2022-03-24T18:49:49.701Z"
   },
   {
    "duration": 35,
    "start_time": "2022-03-24T18:49:49.715Z"
   },
   {
    "duration": 20,
    "start_time": "2022-03-24T18:49:49.752Z"
   }
  ],
  "kernelspec": {
   "display_name": "Python 3",
   "language": "python",
   "name": "python3"
  },
  "language_info": {
   "codemirror_mode": {
    "name": "ipython",
    "version": 3
   },
   "file_extension": ".py",
   "mimetype": "text/x-python",
   "name": "python",
   "nbconvert_exporter": "python",
   "pygments_lexer": "ipython3",
   "version": "3.8.8"
  },
  "toc": {
   "base_numbering": 1,
   "nav_menu": {},
   "number_sections": true,
   "sideBar": true,
   "skip_h1_title": true,
   "title_cell": "Table of Contents",
   "title_sidebar": "Contents",
   "toc_cell": false,
   "toc_position": {},
   "toc_section_display": true,
   "toc_window_display": false
  }
 },
 "nbformat": 4,
 "nbformat_minor": 5
}
