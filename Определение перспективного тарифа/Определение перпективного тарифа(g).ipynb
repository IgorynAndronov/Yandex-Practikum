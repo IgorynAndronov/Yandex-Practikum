{
 "cells": [
  {
   "cell_type": "markdown",
   "id": "28c031ed",
   "metadata": {},
   "source": [
    "# Содержание\n",
    "\n",
    "[1. Открытие файла с данными и изучение общей информации](#intro)\n",
    "\n",
    "[2. Предобработка данных](#intro1)\n",
    "\n",
    "  - [2.1 Замена типа данных](#intro2)\n",
    "  - [2.2 Обработка дубликатов](#intro3)\n",
    "\n",
    "[3. Расчёты и добавление результатов в таблицу](#intro4)\n",
    "\n",
    "[4. Анализ данных](#intro5)\n",
    "\n",
    "[5. Проверка гипотез](#intro6)\n",
    "\n",
    "[Общий вывод](#intro7)"
   ]
  },
  {
   "cell_type": "markdown",
   "id": "b6b45ff6",
   "metadata": {},
   "source": [
    "# Определение перспективного тарифа для телеком-компании\n",
    "\n",
    "Клиентам компании «Мегалайн» — федерального оператора сотовой связи предлагают два тарифных плана: «Смарт» и «Ультра». Чтобы скорректировать рекламный бюджет, коммерческий департамент хочет понять, какой тариф приносит больше денег.\n",
    "Предстоит сделать предварительный анализ тарифов на небольшой выборке клиентов. В нашем распоряжении данные 500 пользователей «Мегалайна»: кто они, откуда, каким тарифом пользуются, сколько звонков и сообщений каждый отправил за 2018 год. Нужно проанализировать поведение клиентов и сделать вывод — какой тариф лучше.\n",
    "\n",
    "### Описание тарифов\n",
    "\n",
    "**Тариф «Смарт»**  \n",
    "Ежемесячная плата: 550 рублей\n",
    "Включено 500 минут разговора, 50 сообщений и 15 Гб интернет-трафика\n",
    "Стоимость услуг сверх тарифного пакета: 1. минута разговора: 3 рубля («Мегалайн» всегда округляет вверх значения минут и мегабайтов. Если пользователь проговорил всего 1 секунду, в тарифе засчитывается целая минута); 2. сообщение: 3 рубля; 3. 1 Гб интернет-трафика: 200 рублей.\n",
    "\n",
    "**Тариф «Ультра»**  \n",
    "Ежемесячная плата: 1950 рублей\n",
    "Включено 3000 минут разговора, 1000 сообщений и 30 Гб интернет-трафика\n",
    "Стоимость услуг сверх тарифного пакета: 1. минута разговора: 1 рубль; 2. сообщение: 1 рубль; 3. 1 Гб интернет-трафика: 150 рублей.\n",
    "\n",
    "**Примечание:**  \n",
    "«Мегалайн» всегда округляет секунды до минут, а мегабайты — до гигабайт. Каждый звонок округляется отдельно: даже если он длился всего 1 секунду, будет засчитан как 1 минута.\n",
    "Для веб-трафика отдельные сессии не считаются. Вместо этого общая сумма за месяц округляется в бо́льшую сторону. Если абонент использует 1025 мегабайт в этом месяце, с него возьмут плату за 2 гигабайта."
   ]
  },
  {
   "cell_type": "markdown",
   "id": "0c66be3a",
   "metadata": {},
   "source": [
    " ## 1. Открытие файлов с данными и изучение общей информации               <a id='intro'></a>"
   ]
  },
  {
   "cell_type": "code",
   "execution_count": 1,
   "id": "0dccbdcc",
   "metadata": {},
   "outputs": [],
   "source": [
    "import pandas as pd\n",
    "import numpy as np\n",
    "import matplotlib.pyplot as plt\n",
    "import math\n",
    "from scipy import stats as st"
   ]
  },
  {
   "cell_type": "code",
   "execution_count": 2,
   "id": "e1535f80",
   "metadata": {},
   "outputs": [],
   "source": [
    "df_users = pd.read_csv('users.csv')"
   ]
  },
  {
   "cell_type": "markdown",
   "id": "6d2dcc8c",
   "metadata": {},
   "source": [
    "Выведем первые 5 строк датасета `df_users`"
   ]
  },
  {
   "cell_type": "code",
   "execution_count": 3,
   "id": "d89505b0",
   "metadata": {},
   "outputs": [
    {
     "data": {
      "text/html": [
       "<div>\n",
       "<style scoped>\n",
       "    .dataframe tbody tr th:only-of-type {\n",
       "        vertical-align: middle;\n",
       "    }\n",
       "\n",
       "    .dataframe tbody tr th {\n",
       "        vertical-align: top;\n",
       "    }\n",
       "\n",
       "    .dataframe thead th {\n",
       "        text-align: right;\n",
       "    }\n",
       "</style>\n",
       "<table border=\"1\" class=\"dataframe\">\n",
       "  <thead>\n",
       "    <tr style=\"text-align: right;\">\n",
       "      <th></th>\n",
       "      <th>user_id</th>\n",
       "      <th>age</th>\n",
       "      <th>churn_date</th>\n",
       "      <th>city</th>\n",
       "      <th>first_name</th>\n",
       "      <th>last_name</th>\n",
       "      <th>reg_date</th>\n",
       "      <th>tariff</th>\n",
       "    </tr>\n",
       "  </thead>\n",
       "  <tbody>\n",
       "    <tr>\n",
       "      <th>0</th>\n",
       "      <td>1000</td>\n",
       "      <td>52</td>\n",
       "      <td>NaN</td>\n",
       "      <td>Краснодар</td>\n",
       "      <td>Рафаил</td>\n",
       "      <td>Верещагин</td>\n",
       "      <td>2018-05-25</td>\n",
       "      <td>ultra</td>\n",
       "    </tr>\n",
       "    <tr>\n",
       "      <th>1</th>\n",
       "      <td>1001</td>\n",
       "      <td>41</td>\n",
       "      <td>NaN</td>\n",
       "      <td>Москва</td>\n",
       "      <td>Иван</td>\n",
       "      <td>Ежов</td>\n",
       "      <td>2018-11-01</td>\n",
       "      <td>smart</td>\n",
       "    </tr>\n",
       "    <tr>\n",
       "      <th>2</th>\n",
       "      <td>1002</td>\n",
       "      <td>59</td>\n",
       "      <td>NaN</td>\n",
       "      <td>Стерлитамак</td>\n",
       "      <td>Евгений</td>\n",
       "      <td>Абрамович</td>\n",
       "      <td>2018-06-17</td>\n",
       "      <td>smart</td>\n",
       "    </tr>\n",
       "    <tr>\n",
       "      <th>3</th>\n",
       "      <td>1003</td>\n",
       "      <td>23</td>\n",
       "      <td>NaN</td>\n",
       "      <td>Москва</td>\n",
       "      <td>Белла</td>\n",
       "      <td>Белякова</td>\n",
       "      <td>2018-08-17</td>\n",
       "      <td>ultra</td>\n",
       "    </tr>\n",
       "    <tr>\n",
       "      <th>4</th>\n",
       "      <td>1004</td>\n",
       "      <td>68</td>\n",
       "      <td>NaN</td>\n",
       "      <td>Новокузнецк</td>\n",
       "      <td>Татьяна</td>\n",
       "      <td>Авдеенко</td>\n",
       "      <td>2018-05-14</td>\n",
       "      <td>ultra</td>\n",
       "    </tr>\n",
       "  </tbody>\n",
       "</table>\n",
       "</div>"
      ],
      "text/plain": [
       "   user_id  age churn_date         city first_name  last_name    reg_date  \\\n",
       "0     1000   52        NaN    Краснодар     Рафаил  Верещагин  2018-05-25   \n",
       "1     1001   41        NaN       Москва       Иван       Ежов  2018-11-01   \n",
       "2     1002   59        NaN  Стерлитамак    Евгений  Абрамович  2018-06-17   \n",
       "3     1003   23        NaN       Москва      Белла   Белякова  2018-08-17   \n",
       "4     1004   68        NaN  Новокузнецк    Татьяна   Авдеенко  2018-05-14   \n",
       "\n",
       "  tariff  \n",
       "0  ultra  \n",
       "1  smart  \n",
       "2  smart  \n",
       "3  ultra  \n",
       "4  ultra  "
      ]
     },
     "execution_count": 3,
     "metadata": {},
     "output_type": "execute_result"
    }
   ],
   "source": [
    "df_users.head()"
   ]
  },
  {
   "cell_type": "markdown",
   "id": "a420f7eb",
   "metadata": {},
   "source": [
    "Посмотрим общую информацию о данных в датасете `df_users`"
   ]
  },
  {
   "cell_type": "code",
   "execution_count": 4,
   "id": "b9a191fb",
   "metadata": {},
   "outputs": [
    {
     "name": "stdout",
     "output_type": "stream",
     "text": [
      "<class 'pandas.core.frame.DataFrame'>\n",
      "RangeIndex: 500 entries, 0 to 499\n",
      "Data columns (total 8 columns):\n",
      " #   Column      Non-Null Count  Dtype \n",
      "---  ------      --------------  ----- \n",
      " 0   user_id     500 non-null    int64 \n",
      " 1   age         500 non-null    int64 \n",
      " 2   churn_date  38 non-null     object\n",
      " 3   city        500 non-null    object\n",
      " 4   first_name  500 non-null    object\n",
      " 5   last_name   500 non-null    object\n",
      " 6   reg_date    500 non-null    object\n",
      " 7   tariff      500 non-null    object\n",
      "dtypes: int64(2), object(6)\n",
      "memory usage: 31.4+ KB\n"
     ]
    }
   ],
   "source": [
    "df_users.info()"
   ]
  },
  {
   "cell_type": "markdown",
   "id": "797791fa",
   "metadata": {},
   "source": [
    "Посмотрим нет ли в данных артефактов с помощью метода `describe()`"
   ]
  },
  {
   "cell_type": "code",
   "execution_count": 5,
   "id": "cf759c91",
   "metadata": {},
   "outputs": [
    {
     "data": {
      "text/html": [
       "<div>\n",
       "<style scoped>\n",
       "    .dataframe tbody tr th:only-of-type {\n",
       "        vertical-align: middle;\n",
       "    }\n",
       "\n",
       "    .dataframe tbody tr th {\n",
       "        vertical-align: top;\n",
       "    }\n",
       "\n",
       "    .dataframe thead th {\n",
       "        text-align: right;\n",
       "    }\n",
       "</style>\n",
       "<table border=\"1\" class=\"dataframe\">\n",
       "  <thead>\n",
       "    <tr style=\"text-align: right;\">\n",
       "      <th></th>\n",
       "      <th>user_id</th>\n",
       "      <th>age</th>\n",
       "    </tr>\n",
       "  </thead>\n",
       "  <tbody>\n",
       "    <tr>\n",
       "      <th>count</th>\n",
       "      <td>500.000000</td>\n",
       "      <td>500.00000</td>\n",
       "    </tr>\n",
       "    <tr>\n",
       "      <th>mean</th>\n",
       "      <td>1249.500000</td>\n",
       "      <td>46.58800</td>\n",
       "    </tr>\n",
       "    <tr>\n",
       "      <th>std</th>\n",
       "      <td>144.481833</td>\n",
       "      <td>16.66763</td>\n",
       "    </tr>\n",
       "    <tr>\n",
       "      <th>min</th>\n",
       "      <td>1000.000000</td>\n",
       "      <td>18.00000</td>\n",
       "    </tr>\n",
       "    <tr>\n",
       "      <th>25%</th>\n",
       "      <td>1124.750000</td>\n",
       "      <td>32.00000</td>\n",
       "    </tr>\n",
       "    <tr>\n",
       "      <th>50%</th>\n",
       "      <td>1249.500000</td>\n",
       "      <td>46.00000</td>\n",
       "    </tr>\n",
       "    <tr>\n",
       "      <th>75%</th>\n",
       "      <td>1374.250000</td>\n",
       "      <td>62.00000</td>\n",
       "    </tr>\n",
       "    <tr>\n",
       "      <th>max</th>\n",
       "      <td>1499.000000</td>\n",
       "      <td>75.00000</td>\n",
       "    </tr>\n",
       "  </tbody>\n",
       "</table>\n",
       "</div>"
      ],
      "text/plain": [
       "           user_id        age\n",
       "count   500.000000  500.00000\n",
       "mean   1249.500000   46.58800\n",
       "std     144.481833   16.66763\n",
       "min    1000.000000   18.00000\n",
       "25%    1124.750000   32.00000\n",
       "50%    1249.500000   46.00000\n",
       "75%    1374.250000   62.00000\n",
       "max    1499.000000   75.00000"
      ]
     },
     "execution_count": 5,
     "metadata": {},
     "output_type": "execute_result"
    }
   ],
   "source": [
    "df_users.describe()"
   ]
  },
  {
   "cell_type": "markdown",
   "id": "fc6ece04",
   "metadata": {},
   "source": [
    "Согласно документации к данным:\n",
    "\n",
    "- `user_id` — уникальный идентификатор пользователя\n",
    "- `first_name` — имя пользователя\n",
    "- `last_name` — фамилия пользователя\n",
    "- `age` — возраст пользователя (годы)\n",
    "- `reg_date` — дата подключения тарифа (день, месяц, год)\n",
    "- `churn_date` — дата прекращения пользования тарифом (если значение пропущено, то тариф ещё действовал на момент выгрузки данных)\n",
    "- `city` — город проживания пользователя\n",
    "- `tarif` — название тарифного плана"
   ]
  },
  {
   "cell_type": "markdown",
   "id": "3f7df89a",
   "metadata": {},
   "source": [
    "Артефактов в датасете `df_users` не обнаружено. Есть пропуски в столбце `churn_date`, которые обозначают что тариф еще действовал на момент выгрузки данных.    \n",
    "В таблице 8 столбцов. Есть такие типы данных как: `int64` и `object`."
   ]
  },
  {
   "cell_type": "code",
   "execution_count": 6,
   "id": "8259ddf1",
   "metadata": {},
   "outputs": [],
   "source": [
    "df_calls = pd.read_csv('calls.csv')"
   ]
  },
  {
   "cell_type": "markdown",
   "id": "4d727c72",
   "metadata": {},
   "source": [
    "Выведем первые 5 строк датасета `df_calls`"
   ]
  },
  {
   "cell_type": "code",
   "execution_count": 7,
   "id": "52ddb537",
   "metadata": {
    "scrolled": true
   },
   "outputs": [
    {
     "data": {
      "text/html": [
       "<div>\n",
       "<style scoped>\n",
       "    .dataframe tbody tr th:only-of-type {\n",
       "        vertical-align: middle;\n",
       "    }\n",
       "\n",
       "    .dataframe tbody tr th {\n",
       "        vertical-align: top;\n",
       "    }\n",
       "\n",
       "    .dataframe thead th {\n",
       "        text-align: right;\n",
       "    }\n",
       "</style>\n",
       "<table border=\"1\" class=\"dataframe\">\n",
       "  <thead>\n",
       "    <tr style=\"text-align: right;\">\n",
       "      <th></th>\n",
       "      <th>id</th>\n",
       "      <th>call_date</th>\n",
       "      <th>duration</th>\n",
       "      <th>user_id</th>\n",
       "    </tr>\n",
       "  </thead>\n",
       "  <tbody>\n",
       "    <tr>\n",
       "      <th>0</th>\n",
       "      <td>1000_0</td>\n",
       "      <td>2018-07-25</td>\n",
       "      <td>0.00</td>\n",
       "      <td>1000</td>\n",
       "    </tr>\n",
       "    <tr>\n",
       "      <th>1</th>\n",
       "      <td>1000_1</td>\n",
       "      <td>2018-08-17</td>\n",
       "      <td>0.00</td>\n",
       "      <td>1000</td>\n",
       "    </tr>\n",
       "    <tr>\n",
       "      <th>2</th>\n",
       "      <td>1000_2</td>\n",
       "      <td>2018-06-11</td>\n",
       "      <td>2.85</td>\n",
       "      <td>1000</td>\n",
       "    </tr>\n",
       "    <tr>\n",
       "      <th>3</th>\n",
       "      <td>1000_3</td>\n",
       "      <td>2018-09-21</td>\n",
       "      <td>13.80</td>\n",
       "      <td>1000</td>\n",
       "    </tr>\n",
       "    <tr>\n",
       "      <th>4</th>\n",
       "      <td>1000_4</td>\n",
       "      <td>2018-12-15</td>\n",
       "      <td>5.18</td>\n",
       "      <td>1000</td>\n",
       "    </tr>\n",
       "  </tbody>\n",
       "</table>\n",
       "</div>"
      ],
      "text/plain": [
       "       id   call_date  duration  user_id\n",
       "0  1000_0  2018-07-25      0.00     1000\n",
       "1  1000_1  2018-08-17      0.00     1000\n",
       "2  1000_2  2018-06-11      2.85     1000\n",
       "3  1000_3  2018-09-21     13.80     1000\n",
       "4  1000_4  2018-12-15      5.18     1000"
      ]
     },
     "execution_count": 7,
     "metadata": {},
     "output_type": "execute_result"
    }
   ],
   "source": [
    "df_calls.head()"
   ]
  },
  {
   "cell_type": "markdown",
   "id": "5fa52fcf",
   "metadata": {},
   "source": [
    "Посмотрим общую информацию о данных в датасете `df_calls`"
   ]
  },
  {
   "cell_type": "code",
   "execution_count": 8,
   "id": "9c469096",
   "metadata": {},
   "outputs": [
    {
     "name": "stdout",
     "output_type": "stream",
     "text": [
      "<class 'pandas.core.frame.DataFrame'>\n",
      "RangeIndex: 202607 entries, 0 to 202606\n",
      "Data columns (total 4 columns):\n",
      " #   Column     Non-Null Count   Dtype  \n",
      "---  ------     --------------   -----  \n",
      " 0   id         202607 non-null  object \n",
      " 1   call_date  202607 non-null  object \n",
      " 2   duration   202607 non-null  float64\n",
      " 3   user_id    202607 non-null  int64  \n",
      "dtypes: float64(1), int64(1), object(2)\n",
      "memory usage: 6.2+ MB\n"
     ]
    }
   ],
   "source": [
    "df_calls.info()"
   ]
  },
  {
   "cell_type": "markdown",
   "id": "3cde46c1",
   "metadata": {},
   "source": [
    "Посмотрим нет ли в данных артефактов с помощью метода `describe()`"
   ]
  },
  {
   "cell_type": "code",
   "execution_count": 9,
   "id": "89b2f6cf",
   "metadata": {},
   "outputs": [
    {
     "data": {
      "text/html": [
       "<div>\n",
       "<style scoped>\n",
       "    .dataframe tbody tr th:only-of-type {\n",
       "        vertical-align: middle;\n",
       "    }\n",
       "\n",
       "    .dataframe tbody tr th {\n",
       "        vertical-align: top;\n",
       "    }\n",
       "\n",
       "    .dataframe thead th {\n",
       "        text-align: right;\n",
       "    }\n",
       "</style>\n",
       "<table border=\"1\" class=\"dataframe\">\n",
       "  <thead>\n",
       "    <tr style=\"text-align: right;\">\n",
       "      <th></th>\n",
       "      <th>duration</th>\n",
       "      <th>user_id</th>\n",
       "    </tr>\n",
       "  </thead>\n",
       "  <tbody>\n",
       "    <tr>\n",
       "      <th>count</th>\n",
       "      <td>202607.000000</td>\n",
       "      <td>202607.000000</td>\n",
       "    </tr>\n",
       "    <tr>\n",
       "      <th>mean</th>\n",
       "      <td>6.755887</td>\n",
       "      <td>1253.940619</td>\n",
       "    </tr>\n",
       "    <tr>\n",
       "      <th>std</th>\n",
       "      <td>5.843365</td>\n",
       "      <td>144.722751</td>\n",
       "    </tr>\n",
       "    <tr>\n",
       "      <th>min</th>\n",
       "      <td>0.000000</td>\n",
       "      <td>1000.000000</td>\n",
       "    </tr>\n",
       "    <tr>\n",
       "      <th>25%</th>\n",
       "      <td>1.300000</td>\n",
       "      <td>1126.000000</td>\n",
       "    </tr>\n",
       "    <tr>\n",
       "      <th>50%</th>\n",
       "      <td>6.000000</td>\n",
       "      <td>1260.000000</td>\n",
       "    </tr>\n",
       "    <tr>\n",
       "      <th>75%</th>\n",
       "      <td>10.700000</td>\n",
       "      <td>1379.000000</td>\n",
       "    </tr>\n",
       "    <tr>\n",
       "      <th>max</th>\n",
       "      <td>38.000000</td>\n",
       "      <td>1499.000000</td>\n",
       "    </tr>\n",
       "  </tbody>\n",
       "</table>\n",
       "</div>"
      ],
      "text/plain": [
       "            duration        user_id\n",
       "count  202607.000000  202607.000000\n",
       "mean        6.755887    1253.940619\n",
       "std         5.843365     144.722751\n",
       "min         0.000000    1000.000000\n",
       "25%         1.300000    1126.000000\n",
       "50%         6.000000    1260.000000\n",
       "75%        10.700000    1379.000000\n",
       "max        38.000000    1499.000000"
      ]
     },
     "execution_count": 9,
     "metadata": {},
     "output_type": "execute_result"
    }
   ],
   "source": [
    "df_calls.describe()"
   ]
  },
  {
   "cell_type": "markdown",
   "id": "edf2c0b7",
   "metadata": {},
   "source": [
    "Согласно документации к данным:\n",
    "\n",
    "- `id` - уникальный номер звонка\n",
    "- `call_date` - дата звонка\n",
    "- `duration` - длительность звонка в минутах\n",
    "- `user_id` - идентификатор пользователя, сделавшего звонок"
   ]
  },
  {
   "cell_type": "markdown",
   "id": "f9538b4d",
   "metadata": {},
   "source": [
    "Пропусков и артефактов в датасете `df_calls` не обнаружено.  \n",
    "В таблице 4 столбца. Есть такие типы данных как: `int64`, `float64` и `object`"
   ]
  },
  {
   "cell_type": "code",
   "execution_count": 10,
   "id": "eeb64adc",
   "metadata": {},
   "outputs": [],
   "source": [
    "df_messages = pd.read_csv('messages.csv')"
   ]
  },
  {
   "cell_type": "markdown",
   "id": "13f90659",
   "metadata": {},
   "source": [
    "Выведем первые 5 строк датасета `df_messages`"
   ]
  },
  {
   "cell_type": "code",
   "execution_count": 11,
   "id": "313ab7e2",
   "metadata": {},
   "outputs": [
    {
     "data": {
      "text/html": [
       "<div>\n",
       "<style scoped>\n",
       "    .dataframe tbody tr th:only-of-type {\n",
       "        vertical-align: middle;\n",
       "    }\n",
       "\n",
       "    .dataframe tbody tr th {\n",
       "        vertical-align: top;\n",
       "    }\n",
       "\n",
       "    .dataframe thead th {\n",
       "        text-align: right;\n",
       "    }\n",
       "</style>\n",
       "<table border=\"1\" class=\"dataframe\">\n",
       "  <thead>\n",
       "    <tr style=\"text-align: right;\">\n",
       "      <th></th>\n",
       "      <th>id</th>\n",
       "      <th>message_date</th>\n",
       "      <th>user_id</th>\n",
       "    </tr>\n",
       "  </thead>\n",
       "  <tbody>\n",
       "    <tr>\n",
       "      <th>0</th>\n",
       "      <td>1000_0</td>\n",
       "      <td>2018-06-27</td>\n",
       "      <td>1000</td>\n",
       "    </tr>\n",
       "    <tr>\n",
       "      <th>1</th>\n",
       "      <td>1000_1</td>\n",
       "      <td>2018-10-08</td>\n",
       "      <td>1000</td>\n",
       "    </tr>\n",
       "    <tr>\n",
       "      <th>2</th>\n",
       "      <td>1000_2</td>\n",
       "      <td>2018-08-04</td>\n",
       "      <td>1000</td>\n",
       "    </tr>\n",
       "    <tr>\n",
       "      <th>3</th>\n",
       "      <td>1000_3</td>\n",
       "      <td>2018-06-16</td>\n",
       "      <td>1000</td>\n",
       "    </tr>\n",
       "    <tr>\n",
       "      <th>4</th>\n",
       "      <td>1000_4</td>\n",
       "      <td>2018-12-05</td>\n",
       "      <td>1000</td>\n",
       "    </tr>\n",
       "  </tbody>\n",
       "</table>\n",
       "</div>"
      ],
      "text/plain": [
       "       id message_date  user_id\n",
       "0  1000_0   2018-06-27     1000\n",
       "1  1000_1   2018-10-08     1000\n",
       "2  1000_2   2018-08-04     1000\n",
       "3  1000_3   2018-06-16     1000\n",
       "4  1000_4   2018-12-05     1000"
      ]
     },
     "execution_count": 11,
     "metadata": {},
     "output_type": "execute_result"
    }
   ],
   "source": [
    "df_messages.head()"
   ]
  },
  {
   "cell_type": "markdown",
   "id": "66e1bc6b",
   "metadata": {},
   "source": [
    "Посмотрим общую информацию о данных в датасете `df_messages`"
   ]
  },
  {
   "cell_type": "code",
   "execution_count": 12,
   "id": "86f9b5ae",
   "metadata": {},
   "outputs": [
    {
     "name": "stdout",
     "output_type": "stream",
     "text": [
      "<class 'pandas.core.frame.DataFrame'>\n",
      "RangeIndex: 123036 entries, 0 to 123035\n",
      "Data columns (total 3 columns):\n",
      " #   Column        Non-Null Count   Dtype \n",
      "---  ------        --------------   ----- \n",
      " 0   id            123036 non-null  object\n",
      " 1   message_date  123036 non-null  object\n",
      " 2   user_id       123036 non-null  int64 \n",
      "dtypes: int64(1), object(2)\n",
      "memory usage: 2.8+ MB\n"
     ]
    }
   ],
   "source": [
    "df_messages.info()"
   ]
  },
  {
   "cell_type": "markdown",
   "id": "697f6f3a",
   "metadata": {},
   "source": [
    "Посмотрим нет ли в данных артефактов с помощью метода `describe()`"
   ]
  },
  {
   "cell_type": "code",
   "execution_count": 13,
   "id": "d4cac598",
   "metadata": {},
   "outputs": [
    {
     "data": {
      "text/html": [
       "<div>\n",
       "<style scoped>\n",
       "    .dataframe tbody tr th:only-of-type {\n",
       "        vertical-align: middle;\n",
       "    }\n",
       "\n",
       "    .dataframe tbody tr th {\n",
       "        vertical-align: top;\n",
       "    }\n",
       "\n",
       "    .dataframe thead th {\n",
       "        text-align: right;\n",
       "    }\n",
       "</style>\n",
       "<table border=\"1\" class=\"dataframe\">\n",
       "  <thead>\n",
       "    <tr style=\"text-align: right;\">\n",
       "      <th></th>\n",
       "      <th>user_id</th>\n",
       "    </tr>\n",
       "  </thead>\n",
       "  <tbody>\n",
       "    <tr>\n",
       "      <th>count</th>\n",
       "      <td>123036.000000</td>\n",
       "    </tr>\n",
       "    <tr>\n",
       "      <th>mean</th>\n",
       "      <td>1256.989410</td>\n",
       "    </tr>\n",
       "    <tr>\n",
       "      <th>std</th>\n",
       "      <td>143.523967</td>\n",
       "    </tr>\n",
       "    <tr>\n",
       "      <th>min</th>\n",
       "      <td>1000.000000</td>\n",
       "    </tr>\n",
       "    <tr>\n",
       "      <th>25%</th>\n",
       "      <td>1134.000000</td>\n",
       "    </tr>\n",
       "    <tr>\n",
       "      <th>50%</th>\n",
       "      <td>1271.000000</td>\n",
       "    </tr>\n",
       "    <tr>\n",
       "      <th>75%</th>\n",
       "      <td>1381.000000</td>\n",
       "    </tr>\n",
       "    <tr>\n",
       "      <th>max</th>\n",
       "      <td>1499.000000</td>\n",
       "    </tr>\n",
       "  </tbody>\n",
       "</table>\n",
       "</div>"
      ],
      "text/plain": [
       "             user_id\n",
       "count  123036.000000\n",
       "mean     1256.989410\n",
       "std       143.523967\n",
       "min      1000.000000\n",
       "25%      1134.000000\n",
       "50%      1271.000000\n",
       "75%      1381.000000\n",
       "max      1499.000000"
      ]
     },
     "execution_count": 13,
     "metadata": {},
     "output_type": "execute_result"
    }
   ],
   "source": [
    "df_messages.describe()"
   ]
  },
  {
   "cell_type": "markdown",
   "id": "07ae38bc",
   "metadata": {},
   "source": [
    "Согласно документации к данным:\n",
    "\n",
    "- `id` - уникальный номер сообщения\n",
    "- `message_date` - дата сообщения\n",
    "- `user_id` - идентификатор пользователя, отправившего сообщение"
   ]
  },
  {
   "cell_type": "markdown",
   "id": "ecbca11f",
   "metadata": {},
   "source": [
    "Пропусков и артефактов в датасете `df_messages` не обнаружено.  \n",
    "В таблице 3 столбца. Есть такие типы данных как: `int64` и `object`"
   ]
  },
  {
   "cell_type": "code",
   "execution_count": 14,
   "id": "272fb475",
   "metadata": {},
   "outputs": [],
   "source": [
    "df_internet = pd.read_csv('internet.csv')"
   ]
  },
  {
   "cell_type": "markdown",
   "id": "da6468e9",
   "metadata": {},
   "source": [
    "Выведем первые 5 строк датасета `df_internet`"
   ]
  },
  {
   "cell_type": "code",
   "execution_count": 15,
   "id": "99628fb2",
   "metadata": {},
   "outputs": [
    {
     "data": {
      "text/html": [
       "<div>\n",
       "<style scoped>\n",
       "    .dataframe tbody tr th:only-of-type {\n",
       "        vertical-align: middle;\n",
       "    }\n",
       "\n",
       "    .dataframe tbody tr th {\n",
       "        vertical-align: top;\n",
       "    }\n",
       "\n",
       "    .dataframe thead th {\n",
       "        text-align: right;\n",
       "    }\n",
       "</style>\n",
       "<table border=\"1\" class=\"dataframe\">\n",
       "  <thead>\n",
       "    <tr style=\"text-align: right;\">\n",
       "      <th></th>\n",
       "      <th>Unnamed: 0</th>\n",
       "      <th>id</th>\n",
       "      <th>mb_used</th>\n",
       "      <th>session_date</th>\n",
       "      <th>user_id</th>\n",
       "    </tr>\n",
       "  </thead>\n",
       "  <tbody>\n",
       "    <tr>\n",
       "      <th>0</th>\n",
       "      <td>0</td>\n",
       "      <td>1000_0</td>\n",
       "      <td>112.95</td>\n",
       "      <td>2018-11-25</td>\n",
       "      <td>1000</td>\n",
       "    </tr>\n",
       "    <tr>\n",
       "      <th>1</th>\n",
       "      <td>1</td>\n",
       "      <td>1000_1</td>\n",
       "      <td>1052.81</td>\n",
       "      <td>2018-09-07</td>\n",
       "      <td>1000</td>\n",
       "    </tr>\n",
       "    <tr>\n",
       "      <th>2</th>\n",
       "      <td>2</td>\n",
       "      <td>1000_2</td>\n",
       "      <td>1197.26</td>\n",
       "      <td>2018-06-25</td>\n",
       "      <td>1000</td>\n",
       "    </tr>\n",
       "    <tr>\n",
       "      <th>3</th>\n",
       "      <td>3</td>\n",
       "      <td>1000_3</td>\n",
       "      <td>550.27</td>\n",
       "      <td>2018-08-22</td>\n",
       "      <td>1000</td>\n",
       "    </tr>\n",
       "    <tr>\n",
       "      <th>4</th>\n",
       "      <td>4</td>\n",
       "      <td>1000_4</td>\n",
       "      <td>302.56</td>\n",
       "      <td>2018-09-24</td>\n",
       "      <td>1000</td>\n",
       "    </tr>\n",
       "  </tbody>\n",
       "</table>\n",
       "</div>"
      ],
      "text/plain": [
       "   Unnamed: 0      id  mb_used session_date  user_id\n",
       "0           0  1000_0   112.95   2018-11-25     1000\n",
       "1           1  1000_1  1052.81   2018-09-07     1000\n",
       "2           2  1000_2  1197.26   2018-06-25     1000\n",
       "3           3  1000_3   550.27   2018-08-22     1000\n",
       "4           4  1000_4   302.56   2018-09-24     1000"
      ]
     },
     "execution_count": 15,
     "metadata": {},
     "output_type": "execute_result"
    }
   ],
   "source": [
    "df_internet.head()"
   ]
  },
  {
   "cell_type": "markdown",
   "id": "e761058d",
   "metadata": {},
   "source": [
    "Посмотрим общую информацию о данных в датасете `df_internet`"
   ]
  },
  {
   "cell_type": "code",
   "execution_count": 16,
   "id": "2a26e049",
   "metadata": {},
   "outputs": [
    {
     "name": "stdout",
     "output_type": "stream",
     "text": [
      "<class 'pandas.core.frame.DataFrame'>\n",
      "RangeIndex: 149396 entries, 0 to 149395\n",
      "Data columns (total 5 columns):\n",
      " #   Column        Non-Null Count   Dtype  \n",
      "---  ------        --------------   -----  \n",
      " 0   Unnamed: 0    149396 non-null  int64  \n",
      " 1   id            149396 non-null  object \n",
      " 2   mb_used       149396 non-null  float64\n",
      " 3   session_date  149396 non-null  object \n",
      " 4   user_id       149396 non-null  int64  \n",
      "dtypes: float64(1), int64(2), object(2)\n",
      "memory usage: 5.7+ MB\n"
     ]
    }
   ],
   "source": [
    "df_internet.info()"
   ]
  },
  {
   "cell_type": "markdown",
   "id": "9844b8ed",
   "metadata": {},
   "source": [
    "Посмотрим нет ли в данных артефактов с помощью метода `describe()`"
   ]
  },
  {
   "cell_type": "code",
   "execution_count": 17,
   "id": "3505c137",
   "metadata": {},
   "outputs": [
    {
     "data": {
      "text/html": [
       "<div>\n",
       "<style scoped>\n",
       "    .dataframe tbody tr th:only-of-type {\n",
       "        vertical-align: middle;\n",
       "    }\n",
       "\n",
       "    .dataframe tbody tr th {\n",
       "        vertical-align: top;\n",
       "    }\n",
       "\n",
       "    .dataframe thead th {\n",
       "        text-align: right;\n",
       "    }\n",
       "</style>\n",
       "<table border=\"1\" class=\"dataframe\">\n",
       "  <thead>\n",
       "    <tr style=\"text-align: right;\">\n",
       "      <th></th>\n",
       "      <th>Unnamed: 0</th>\n",
       "      <th>mb_used</th>\n",
       "      <th>user_id</th>\n",
       "    </tr>\n",
       "  </thead>\n",
       "  <tbody>\n",
       "    <tr>\n",
       "      <th>count</th>\n",
       "      <td>149396.000000</td>\n",
       "      <td>149396.000000</td>\n",
       "      <td>149396.000000</td>\n",
       "    </tr>\n",
       "    <tr>\n",
       "      <th>mean</th>\n",
       "      <td>74697.500000</td>\n",
       "      <td>370.192426</td>\n",
       "      <td>1252.099842</td>\n",
       "    </tr>\n",
       "    <tr>\n",
       "      <th>std</th>\n",
       "      <td>43127.054745</td>\n",
       "      <td>278.300951</td>\n",
       "      <td>144.050823</td>\n",
       "    </tr>\n",
       "    <tr>\n",
       "      <th>min</th>\n",
       "      <td>0.000000</td>\n",
       "      <td>0.000000</td>\n",
       "      <td>1000.000000</td>\n",
       "    </tr>\n",
       "    <tr>\n",
       "      <th>25%</th>\n",
       "      <td>37348.750000</td>\n",
       "      <td>138.187500</td>\n",
       "      <td>1130.000000</td>\n",
       "    </tr>\n",
       "    <tr>\n",
       "      <th>50%</th>\n",
       "      <td>74697.500000</td>\n",
       "      <td>348.015000</td>\n",
       "      <td>1251.000000</td>\n",
       "    </tr>\n",
       "    <tr>\n",
       "      <th>75%</th>\n",
       "      <td>112046.250000</td>\n",
       "      <td>559.552500</td>\n",
       "      <td>1380.000000</td>\n",
       "    </tr>\n",
       "    <tr>\n",
       "      <th>max</th>\n",
       "      <td>149395.000000</td>\n",
       "      <td>1724.830000</td>\n",
       "      <td>1499.000000</td>\n",
       "    </tr>\n",
       "  </tbody>\n",
       "</table>\n",
       "</div>"
      ],
      "text/plain": [
       "          Unnamed: 0        mb_used        user_id\n",
       "count  149396.000000  149396.000000  149396.000000\n",
       "mean    74697.500000     370.192426    1252.099842\n",
       "std     43127.054745     278.300951     144.050823\n",
       "min         0.000000       0.000000    1000.000000\n",
       "25%     37348.750000     138.187500    1130.000000\n",
       "50%     74697.500000     348.015000    1251.000000\n",
       "75%    112046.250000     559.552500    1380.000000\n",
       "max    149395.000000    1724.830000    1499.000000"
      ]
     },
     "execution_count": 17,
     "metadata": {},
     "output_type": "execute_result"
    }
   ],
   "source": [
    "df_internet.describe()"
   ]
  },
  {
   "cell_type": "markdown",
   "id": "b36b1c7a",
   "metadata": {},
   "source": [
    "Согласно документации к данным:\n",
    "\n",
    "- `id` — уникальный номер сессии\n",
    "- `mb_used` — объём потраченного за сессию интернет-трафика (в мегабайтах)\n",
    "- `session_date` — дата интернет-сессии\n",
    "- `user_id` — идентификатор пользователя"
   ]
  },
  {
   "cell_type": "markdown",
   "id": "e90c1a7c",
   "metadata": {},
   "source": [
    "Пропусков и артефактов в датасете `df_internet` не обнаружено.\t\n",
    "Итак, в таблице 5 столбцов. Обнаружен столбец `Unnamed: 0` отсутствующий в документации. Этот столбец обозначает дополнительную цифровую индексацию строк. Как он попал в датасет неизвестно, возможно техническая ошибка. Этот столбец нам не пригодится и далее его можно удалить. В датасете есть такие типы данных как: `int64`, `float64` и `object`."
   ]
  },
  {
   "cell_type": "code",
   "execution_count": 18,
   "id": "4c947c7a",
   "metadata": {},
   "outputs": [],
   "source": [
    "df_tariffs = pd.read_csv('tariffs.csv')"
   ]
  },
  {
   "cell_type": "markdown",
   "id": "5294dcd1",
   "metadata": {},
   "source": [
    "Выведем первые 5 строк датасета `df_tariffs`"
   ]
  },
  {
   "cell_type": "code",
   "execution_count": 19,
   "id": "cbee5c2e",
   "metadata": {},
   "outputs": [
    {
     "data": {
      "text/html": [
       "<div>\n",
       "<style scoped>\n",
       "    .dataframe tbody tr th:only-of-type {\n",
       "        vertical-align: middle;\n",
       "    }\n",
       "\n",
       "    .dataframe tbody tr th {\n",
       "        vertical-align: top;\n",
       "    }\n",
       "\n",
       "    .dataframe thead th {\n",
       "        text-align: right;\n",
       "    }\n",
       "</style>\n",
       "<table border=\"1\" class=\"dataframe\">\n",
       "  <thead>\n",
       "    <tr style=\"text-align: right;\">\n",
       "      <th></th>\n",
       "      <th>messages_included</th>\n",
       "      <th>mb_per_month_included</th>\n",
       "      <th>minutes_included</th>\n",
       "      <th>rub_monthly_fee</th>\n",
       "      <th>rub_per_gb</th>\n",
       "      <th>rub_per_message</th>\n",
       "      <th>rub_per_minute</th>\n",
       "      <th>tariff_name</th>\n",
       "    </tr>\n",
       "  </thead>\n",
       "  <tbody>\n",
       "    <tr>\n",
       "      <th>0</th>\n",
       "      <td>50</td>\n",
       "      <td>15360</td>\n",
       "      <td>500</td>\n",
       "      <td>550</td>\n",
       "      <td>200</td>\n",
       "      <td>3</td>\n",
       "      <td>3</td>\n",
       "      <td>smart</td>\n",
       "    </tr>\n",
       "    <tr>\n",
       "      <th>1</th>\n",
       "      <td>1000</td>\n",
       "      <td>30720</td>\n",
       "      <td>3000</td>\n",
       "      <td>1950</td>\n",
       "      <td>150</td>\n",
       "      <td>1</td>\n",
       "      <td>1</td>\n",
       "      <td>ultra</td>\n",
       "    </tr>\n",
       "  </tbody>\n",
       "</table>\n",
       "</div>"
      ],
      "text/plain": [
       "   messages_included  mb_per_month_included  minutes_included  \\\n",
       "0                 50                  15360               500   \n",
       "1               1000                  30720              3000   \n",
       "\n",
       "   rub_monthly_fee  rub_per_gb  rub_per_message  rub_per_minute tariff_name  \n",
       "0              550         200                3               3       smart  \n",
       "1             1950         150                1               1       ultra  "
      ]
     },
     "execution_count": 19,
     "metadata": {},
     "output_type": "execute_result"
    }
   ],
   "source": [
    "df_tariffs.head()"
   ]
  },
  {
   "cell_type": "markdown",
   "id": "369977b1",
   "metadata": {},
   "source": [
    "Посмотрим общую информацию о данных в датасете `df_tariffs`."
   ]
  },
  {
   "cell_type": "code",
   "execution_count": 20,
   "id": "0f170f44",
   "metadata": {},
   "outputs": [
    {
     "name": "stdout",
     "output_type": "stream",
     "text": [
      "<class 'pandas.core.frame.DataFrame'>\n",
      "RangeIndex: 2 entries, 0 to 1\n",
      "Data columns (total 8 columns):\n",
      " #   Column                 Non-Null Count  Dtype \n",
      "---  ------                 --------------  ----- \n",
      " 0   messages_included      2 non-null      int64 \n",
      " 1   mb_per_month_included  2 non-null      int64 \n",
      " 2   minutes_included       2 non-null      int64 \n",
      " 3   rub_monthly_fee        2 non-null      int64 \n",
      " 4   rub_per_gb             2 non-null      int64 \n",
      " 5   rub_per_message        2 non-null      int64 \n",
      " 6   rub_per_minute         2 non-null      int64 \n",
      " 7   tariff_name            2 non-null      object\n",
      "dtypes: int64(7), object(1)\n",
      "memory usage: 256.0+ bytes\n"
     ]
    }
   ],
   "source": [
    "df_tariffs.info()"
   ]
  },
  {
   "cell_type": "markdown",
   "id": "5db16835",
   "metadata": {},
   "source": [
    "Согласно документации к данным:\n",
    "\n",
    "- `tariff_name` — название тарифа\n",
    "- `rub_monthly_fee` — ежемесячная абонентская плата в рублях\n",
    "- `minutes_included` — количество минут разговора в месяц, включённых в абонентскую плату\n",
    "- `messages_included` — количество сообщений в месяц, включённых в абонентскую плату\n",
    "- `mb_per_month_included` — объём интернет-трафика, включённого в абонентскую плату (в мегабайтах)\n",
    "- `rub_per_minute` — стоимость минуты разговора сверх тарифного пакета (например, если в тарифе 100 минут разговора в месяц, то со 101 минуты будет взиматься плата)\n",
    "- `rub_per_message` — стоимость отправки сообщения сверх тарифного пакета\n",
    "- `rub_per_gb` — стоимость дополнительного гигабайта интернет-трафика сверх тарифного пакета (1 гигабайт = 1024 мегабайта)"
   ]
  },
  {
   "cell_type": "markdown",
   "id": "3a5a48ee",
   "metadata": {},
   "source": [
    "Пропусков и артефактов в датасете `df_tariffs` не обнаружено.  \n",
    "В таблице 8 столбцов. Есть такие типы данных как: `int64` и `object`"
   ]
  },
  {
   "cell_type": "markdown",
   "id": "5d238343",
   "metadata": {},
   "source": [
    "### Вывод"
   ]
  },
  {
   "cell_type": "markdown",
   "id": "737295c1",
   "metadata": {},
   "source": [
    "Для исследования доступны 5 таблиц. В каждой строке первой таблицы — данные о пользователях. Часть колонок описывает личные данные пользователя, остальные данные говорят о используемом тарифе и датах подключения/отключения. В каждой строке второй таблицы - информация о звонках. Присутствуют данные о звонках и идентификатор пользователя. В каждой строке третьей таблицы - информация о сообщениях. В колонках данные о сообщении и идентификатор пользователя. В каждой строке четвертой таблицы - информация об интернет-сессиях. В колонках данные о интернет-сессии и идентификатор пользователя. В каждой строке пятой таблицы - информация о тарифах. \n",
    "\n",
    "Пропусков и артефактов в датасетах не обнаружено, предварительно можно утверждать, что данных достаточно для нашего исследования."
   ]
  },
  {
   "cell_type": "markdown",
   "id": "3d204320",
   "metadata": {},
   "source": [
    "## 2. Предобработка данных                                                                <a id='intro1'></a>   "
   ]
  },
  {
   "cell_type": "markdown",
   "id": "d083a572",
   "metadata": {},
   "source": [
    "### 2.1 Замена типа данных                                                                                                        <a id='intro2'></a>"
   ]
  },
  {
   "cell_type": "markdown",
   "id": "783276e6",
   "metadata": {},
   "source": [
    "В столбцах `churn_date`, `reg_date` датасета `df_users` тип данных переведем в объекты `datetime` на более удобный тип для даты. В параметре `format=` укажем строку, соответствующую текущему формату `date_time`, с помощью специальных обозначений.\n",
    "Выведем на экран первые пять строк `df_users`, чтобы проверить, что получилось."
   ]
  },
  {
   "cell_type": "code",
   "execution_count": 21,
   "id": "cf98e32d",
   "metadata": {},
   "outputs": [
    {
     "data": {
      "text/html": [
       "<div>\n",
       "<style scoped>\n",
       "    .dataframe tbody tr th:only-of-type {\n",
       "        vertical-align: middle;\n",
       "    }\n",
       "\n",
       "    .dataframe tbody tr th {\n",
       "        vertical-align: top;\n",
       "    }\n",
       "\n",
       "    .dataframe thead th {\n",
       "        text-align: right;\n",
       "    }\n",
       "</style>\n",
       "<table border=\"1\" class=\"dataframe\">\n",
       "  <thead>\n",
       "    <tr style=\"text-align: right;\">\n",
       "      <th></th>\n",
       "      <th>user_id</th>\n",
       "      <th>age</th>\n",
       "      <th>churn_date</th>\n",
       "      <th>city</th>\n",
       "      <th>first_name</th>\n",
       "      <th>last_name</th>\n",
       "      <th>reg_date</th>\n",
       "      <th>tariff</th>\n",
       "    </tr>\n",
       "  </thead>\n",
       "  <tbody>\n",
       "    <tr>\n",
       "      <th>0</th>\n",
       "      <td>1000</td>\n",
       "      <td>52</td>\n",
       "      <td>NaT</td>\n",
       "      <td>Краснодар</td>\n",
       "      <td>Рафаил</td>\n",
       "      <td>Верещагин</td>\n",
       "      <td>2018-05-25</td>\n",
       "      <td>ultra</td>\n",
       "    </tr>\n",
       "    <tr>\n",
       "      <th>1</th>\n",
       "      <td>1001</td>\n",
       "      <td>41</td>\n",
       "      <td>NaT</td>\n",
       "      <td>Москва</td>\n",
       "      <td>Иван</td>\n",
       "      <td>Ежов</td>\n",
       "      <td>2018-11-01</td>\n",
       "      <td>smart</td>\n",
       "    </tr>\n",
       "    <tr>\n",
       "      <th>2</th>\n",
       "      <td>1002</td>\n",
       "      <td>59</td>\n",
       "      <td>NaT</td>\n",
       "      <td>Стерлитамак</td>\n",
       "      <td>Евгений</td>\n",
       "      <td>Абрамович</td>\n",
       "      <td>2018-06-17</td>\n",
       "      <td>smart</td>\n",
       "    </tr>\n",
       "    <tr>\n",
       "      <th>3</th>\n",
       "      <td>1003</td>\n",
       "      <td>23</td>\n",
       "      <td>NaT</td>\n",
       "      <td>Москва</td>\n",
       "      <td>Белла</td>\n",
       "      <td>Белякова</td>\n",
       "      <td>2018-08-17</td>\n",
       "      <td>ultra</td>\n",
       "    </tr>\n",
       "    <tr>\n",
       "      <th>4</th>\n",
       "      <td>1004</td>\n",
       "      <td>68</td>\n",
       "      <td>NaT</td>\n",
       "      <td>Новокузнецк</td>\n",
       "      <td>Татьяна</td>\n",
       "      <td>Авдеенко</td>\n",
       "      <td>2018-05-14</td>\n",
       "      <td>ultra</td>\n",
       "    </tr>\n",
       "  </tbody>\n",
       "</table>\n",
       "</div>"
      ],
      "text/plain": [
       "   user_id  age churn_date         city first_name  last_name   reg_date  \\\n",
       "0     1000   52        NaT    Краснодар     Рафаил  Верещагин 2018-05-25   \n",
       "1     1001   41        NaT       Москва       Иван       Ежов 2018-11-01   \n",
       "2     1002   59        NaT  Стерлитамак    Евгений  Абрамович 2018-06-17   \n",
       "3     1003   23        NaT       Москва      Белла   Белякова 2018-08-17   \n",
       "4     1004   68        NaT  Новокузнецк    Татьяна   Авдеенко 2018-05-14   \n",
       "\n",
       "  tariff  \n",
       "0  ultra  \n",
       "1  smart  \n",
       "2  smart  \n",
       "3  ultra  \n",
       "4  ultra  "
      ]
     },
     "execution_count": 21,
     "metadata": {},
     "output_type": "execute_result"
    }
   ],
   "source": [
    "for column in ['reg_date', 'churn_date']:\n",
    "    df_users[column] = pd.to_datetime(df_users[column], format='%Y-%m-%d', errors='ignore')\n",
    "df_users.head()"
   ]
  },
  {
   "cell_type": "markdown",
   "id": "39e7c3e4",
   "metadata": {},
   "source": [
    "Посмотрим использование памяти в датасете `df_calls` с помощью метода `info` в котором установим параметр `memory_usage` в значение `deep`."
   ]
  },
  {
   "cell_type": "code",
   "execution_count": 22,
   "id": "556b214d",
   "metadata": {},
   "outputs": [
    {
     "name": "stdout",
     "output_type": "stream",
     "text": [
      "<class 'pandas.core.frame.DataFrame'>\n",
      "RangeIndex: 202607 entries, 0 to 202606\n",
      "Data columns (total 4 columns):\n",
      " #   Column     Non-Null Count   Dtype  \n",
      "---  ------     --------------   -----  \n",
      " 0   id         202607 non-null  object \n",
      " 1   call_date  202607 non-null  object \n",
      " 2   duration   202607 non-null  float64\n",
      " 3   user_id    202607 non-null  int64  \n",
      "dtypes: float64(1), int64(1), object(2)\n",
      "memory usage: 28.6 MB\n"
     ]
    }
   ],
   "source": [
    "df_calls.info(memory_usage='deep')"
   ]
  },
  {
   "cell_type": "markdown",
   "id": "c1fc0665",
   "metadata": {},
   "source": [
    "Выведем максимальные и минимальные значения столбцов с помощью метода `agg()` для того, что понять в какой тип данных можно перевести столбцы."
   ]
  },
  {
   "cell_type": "code",
   "execution_count": 23,
   "id": "b9612fae",
   "metadata": {},
   "outputs": [
    {
     "data": {
      "text/html": [
       "<div>\n",
       "<style scoped>\n",
       "    .dataframe tbody tr th:only-of-type {\n",
       "        vertical-align: middle;\n",
       "    }\n",
       "\n",
       "    .dataframe tbody tr th {\n",
       "        vertical-align: top;\n",
       "    }\n",
       "\n",
       "    .dataframe thead th {\n",
       "        text-align: right;\n",
       "    }\n",
       "</style>\n",
       "<table border=\"1\" class=\"dataframe\">\n",
       "  <thead>\n",
       "    <tr style=\"text-align: right;\">\n",
       "      <th></th>\n",
       "      <th>id</th>\n",
       "      <th>call_date</th>\n",
       "      <th>duration</th>\n",
       "      <th>user_id</th>\n",
       "    </tr>\n",
       "  </thead>\n",
       "  <tbody>\n",
       "    <tr>\n",
       "      <th>min</th>\n",
       "      <td>1000_0</td>\n",
       "      <td>2018-01-01</td>\n",
       "      <td>0.0</td>\n",
       "      <td>1000</td>\n",
       "    </tr>\n",
       "    <tr>\n",
       "      <th>max</th>\n",
       "      <td>1499_99</td>\n",
       "      <td>2018-12-31</td>\n",
       "      <td>38.0</td>\n",
       "      <td>1499</td>\n",
       "    </tr>\n",
       "  </tbody>\n",
       "</table>\n",
       "</div>"
      ],
      "text/plain": [
       "          id   call_date  duration  user_id\n",
       "min   1000_0  2018-01-01       0.0     1000\n",
       "max  1499_99  2018-12-31      38.0     1499"
      ]
     },
     "execution_count": 23,
     "metadata": {},
     "output_type": "execute_result"
    }
   ],
   "source": [
    "df_calls.agg(['min', 'max'])"
   ]
  },
  {
   "cell_type": "markdown",
   "id": "89a91e1b",
   "metadata": {},
   "source": [
    "В некоторых столбцах заменим тип данных, это в том числе сэкономит использование памяти:\n",
    "- в столбце `call_date` тип данных переведем в объекты `datetime` на более удобный тип для даты;\n",
    "- в столбце `user_id` тип данных переведем на `int16`, т.к. максимальное значение столбца целое число 1499;\n",
    "- в столбце `duration` тип данных переведем на `float32`, т.к. максимальное значение столбца вещественное число 38.0;"
   ]
  },
  {
   "cell_type": "code",
   "execution_count": 24,
   "id": "f7624c3e",
   "metadata": {},
   "outputs": [
    {
     "data": {
      "text/html": [
       "<div>\n",
       "<style scoped>\n",
       "    .dataframe tbody tr th:only-of-type {\n",
       "        vertical-align: middle;\n",
       "    }\n",
       "\n",
       "    .dataframe tbody tr th {\n",
       "        vertical-align: top;\n",
       "    }\n",
       "\n",
       "    .dataframe thead th {\n",
       "        text-align: right;\n",
       "    }\n",
       "</style>\n",
       "<table border=\"1\" class=\"dataframe\">\n",
       "  <thead>\n",
       "    <tr style=\"text-align: right;\">\n",
       "      <th></th>\n",
       "      <th>id</th>\n",
       "      <th>call_date</th>\n",
       "      <th>duration</th>\n",
       "      <th>user_id</th>\n",
       "    </tr>\n",
       "  </thead>\n",
       "  <tbody>\n",
       "    <tr>\n",
       "      <th>0</th>\n",
       "      <td>1000_0</td>\n",
       "      <td>2018-07-25</td>\n",
       "      <td>0.00</td>\n",
       "      <td>1000</td>\n",
       "    </tr>\n",
       "    <tr>\n",
       "      <th>1</th>\n",
       "      <td>1000_1</td>\n",
       "      <td>2018-08-17</td>\n",
       "      <td>0.00</td>\n",
       "      <td>1000</td>\n",
       "    </tr>\n",
       "    <tr>\n",
       "      <th>2</th>\n",
       "      <td>1000_2</td>\n",
       "      <td>2018-06-11</td>\n",
       "      <td>2.85</td>\n",
       "      <td>1000</td>\n",
       "    </tr>\n",
       "    <tr>\n",
       "      <th>3</th>\n",
       "      <td>1000_3</td>\n",
       "      <td>2018-09-21</td>\n",
       "      <td>13.80</td>\n",
       "      <td>1000</td>\n",
       "    </tr>\n",
       "    <tr>\n",
       "      <th>4</th>\n",
       "      <td>1000_4</td>\n",
       "      <td>2018-12-15</td>\n",
       "      <td>5.18</td>\n",
       "      <td>1000</td>\n",
       "    </tr>\n",
       "  </tbody>\n",
       "</table>\n",
       "</div>"
      ],
      "text/plain": [
       "       id  call_date  duration  user_id\n",
       "0  1000_0 2018-07-25      0.00     1000\n",
       "1  1000_1 2018-08-17      0.00     1000\n",
       "2  1000_2 2018-06-11      2.85     1000\n",
       "3  1000_3 2018-09-21     13.80     1000\n",
       "4  1000_4 2018-12-15      5.18     1000"
      ]
     },
     "execution_count": 24,
     "metadata": {},
     "output_type": "execute_result"
    }
   ],
   "source": [
    "df_calls.call_date = pd.to_datetime(df_calls.call_date, format='%Y-%m-%d')\n",
    "df_calls.head()"
   ]
  },
  {
   "cell_type": "markdown",
   "id": "a4c10b69",
   "metadata": {},
   "source": [
    "С помощью метода `astype` выполним замену типов данных в столбцах. "
   ]
  },
  {
   "cell_type": "code",
   "execution_count": 25,
   "id": "89599b33",
   "metadata": {},
   "outputs": [],
   "source": [
    "df_calls = df_calls.astype({'user_id':'int16',\n",
    "                    'duration':'float32'}) "
   ]
  },
  {
   "cell_type": "markdown",
   "id": "35a7a259",
   "metadata": {},
   "source": [
    "Посмотрим как изменились типы данных в столбцах в датасете `df_calls` и использование памяти."
   ]
  },
  {
   "cell_type": "code",
   "execution_count": 26,
   "id": "21f231c4",
   "metadata": {},
   "outputs": [
    {
     "name": "stdout",
     "output_type": "stream",
     "text": [
      "<class 'pandas.core.frame.DataFrame'>\n",
      "RangeIndex: 202607 entries, 0 to 202606\n",
      "Data columns (total 4 columns):\n",
      " #   Column     Non-Null Count   Dtype         \n",
      "---  ------     --------------   -----         \n",
      " 0   id         202607 non-null  object        \n",
      " 1   call_date  202607 non-null  datetime64[ns]\n",
      " 2   duration   202607 non-null  float32       \n",
      " 3   user_id    202607 non-null  int16         \n",
      "dtypes: datetime64[ns](1), float32(1), int16(1), object(1)\n",
      "memory usage: 15.2 MB\n"
     ]
    }
   ],
   "source": [
    "df_calls.info(memory_usage='deep')"
   ]
  },
  {
   "cell_type": "markdown",
   "id": "0433aa0c",
   "metadata": {},
   "source": [
    "Использование памяти в датасете `df_calls`упало практически в два раза."
   ]
  },
  {
   "cell_type": "markdown",
   "id": "264f4893",
   "metadata": {},
   "source": [
    "Далее посмотрим использование памяти в датасете `df_messages` с помощью метода `info` в котором установим параметр `memory_usage` в значение `deep`."
   ]
  },
  {
   "cell_type": "code",
   "execution_count": 27,
   "id": "84f5e1d4",
   "metadata": {},
   "outputs": [
    {
     "name": "stdout",
     "output_type": "stream",
     "text": [
      "<class 'pandas.core.frame.DataFrame'>\n",
      "RangeIndex: 123036 entries, 0 to 123035\n",
      "Data columns (total 3 columns):\n",
      " #   Column        Non-Null Count   Dtype \n",
      "---  ------        --------------   ----- \n",
      " 0   id            123036 non-null  object\n",
      " 1   message_date  123036 non-null  object\n",
      " 2   user_id       123036 non-null  int64 \n",
      "dtypes: int64(1), object(2)\n",
      "memory usage: 16.4 MB\n"
     ]
    }
   ],
   "source": [
    "df_messages.info(memory_usage='deep')"
   ]
  },
  {
   "cell_type": "markdown",
   "id": "0fd33e7f",
   "metadata": {},
   "source": [
    "Выведем максимальные и минимальные значения столбцов с помощью метода `agg()` для того, что понять в какой тип данных можно перевести столбцы."
   ]
  },
  {
   "cell_type": "code",
   "execution_count": 28,
   "id": "7942531d",
   "metadata": {},
   "outputs": [
    {
     "data": {
      "text/html": [
       "<div>\n",
       "<style scoped>\n",
       "    .dataframe tbody tr th:only-of-type {\n",
       "        vertical-align: middle;\n",
       "    }\n",
       "\n",
       "    .dataframe tbody tr th {\n",
       "        vertical-align: top;\n",
       "    }\n",
       "\n",
       "    .dataframe thead th {\n",
       "        text-align: right;\n",
       "    }\n",
       "</style>\n",
       "<table border=\"1\" class=\"dataframe\">\n",
       "  <thead>\n",
       "    <tr style=\"text-align: right;\">\n",
       "      <th></th>\n",
       "      <th>id</th>\n",
       "      <th>message_date</th>\n",
       "      <th>user_id</th>\n",
       "    </tr>\n",
       "  </thead>\n",
       "  <tbody>\n",
       "    <tr>\n",
       "      <th>min</th>\n",
       "      <td>1000_0</td>\n",
       "      <td>2018-01-02</td>\n",
       "      <td>1000</td>\n",
       "    </tr>\n",
       "    <tr>\n",
       "      <th>max</th>\n",
       "      <td>1499_99</td>\n",
       "      <td>2018-12-31</td>\n",
       "      <td>1499</td>\n",
       "    </tr>\n",
       "  </tbody>\n",
       "</table>\n",
       "</div>"
      ],
      "text/plain": [
       "          id message_date  user_id\n",
       "min   1000_0   2018-01-02     1000\n",
       "max  1499_99   2018-12-31     1499"
      ]
     },
     "execution_count": 28,
     "metadata": {},
     "output_type": "execute_result"
    }
   ],
   "source": [
    "df_messages.agg(['min', 'max'])"
   ]
  },
  {
   "cell_type": "markdown",
   "id": "04b34f3a",
   "metadata": {},
   "source": [
    "В некоторых столбцах заменим тип данных, это в том числе сэкономит использование памяти:\n",
    "- в столбце `message_date` тип данных переведем в объекты `datetime` на более удобный тип для даты;\n",
    "- в столбце `user_id` тип данных переведем на `int16`, т.к. максимальное значение столбца целое число 1499;"
   ]
  },
  {
   "cell_type": "code",
   "execution_count": 29,
   "id": "c2a02bdc",
   "metadata": {},
   "outputs": [
    {
     "data": {
      "text/html": [
       "<div>\n",
       "<style scoped>\n",
       "    .dataframe tbody tr th:only-of-type {\n",
       "        vertical-align: middle;\n",
       "    }\n",
       "\n",
       "    .dataframe tbody tr th {\n",
       "        vertical-align: top;\n",
       "    }\n",
       "\n",
       "    .dataframe thead th {\n",
       "        text-align: right;\n",
       "    }\n",
       "</style>\n",
       "<table border=\"1\" class=\"dataframe\">\n",
       "  <thead>\n",
       "    <tr style=\"text-align: right;\">\n",
       "      <th></th>\n",
       "      <th>id</th>\n",
       "      <th>message_date</th>\n",
       "      <th>user_id</th>\n",
       "    </tr>\n",
       "  </thead>\n",
       "  <tbody>\n",
       "    <tr>\n",
       "      <th>0</th>\n",
       "      <td>1000_0</td>\n",
       "      <td>2018-06-27</td>\n",
       "      <td>1000</td>\n",
       "    </tr>\n",
       "    <tr>\n",
       "      <th>1</th>\n",
       "      <td>1000_1</td>\n",
       "      <td>2018-10-08</td>\n",
       "      <td>1000</td>\n",
       "    </tr>\n",
       "    <tr>\n",
       "      <th>2</th>\n",
       "      <td>1000_2</td>\n",
       "      <td>2018-08-04</td>\n",
       "      <td>1000</td>\n",
       "    </tr>\n",
       "    <tr>\n",
       "      <th>3</th>\n",
       "      <td>1000_3</td>\n",
       "      <td>2018-06-16</td>\n",
       "      <td>1000</td>\n",
       "    </tr>\n",
       "    <tr>\n",
       "      <th>4</th>\n",
       "      <td>1000_4</td>\n",
       "      <td>2018-12-05</td>\n",
       "      <td>1000</td>\n",
       "    </tr>\n",
       "  </tbody>\n",
       "</table>\n",
       "</div>"
      ],
      "text/plain": [
       "       id message_date  user_id\n",
       "0  1000_0   2018-06-27     1000\n",
       "1  1000_1   2018-10-08     1000\n",
       "2  1000_2   2018-08-04     1000\n",
       "3  1000_3   2018-06-16     1000\n",
       "4  1000_4   2018-12-05     1000"
      ]
     },
     "execution_count": 29,
     "metadata": {},
     "output_type": "execute_result"
    }
   ],
   "source": [
    "df_messages.message_date = pd.to_datetime(df_messages.message_date, format='%Y-%m-%d')\n",
    "df_messages.head()"
   ]
  },
  {
   "cell_type": "markdown",
   "id": "890c8af3",
   "metadata": {},
   "source": [
    "С помощью метода `astype` выполним замену типа данных в столбце. "
   ]
  },
  {
   "cell_type": "code",
   "execution_count": 30,
   "id": "de38e3fa",
   "metadata": {},
   "outputs": [],
   "source": [
    "df_messages.user_id = df_messages.user_id.astype('int16') "
   ]
  },
  {
   "cell_type": "markdown",
   "id": "f21a7cfd",
   "metadata": {},
   "source": [
    "Посмотрим как изменились типы данных в столбцах в датасете `df_messages` и использование памяти."
   ]
  },
  {
   "cell_type": "code",
   "execution_count": 31,
   "id": "ccd0ba43",
   "metadata": {},
   "outputs": [
    {
     "name": "stdout",
     "output_type": "stream",
     "text": [
      "<class 'pandas.core.frame.DataFrame'>\n",
      "RangeIndex: 123036 entries, 0 to 123035\n",
      "Data columns (total 3 columns):\n",
      " #   Column        Non-Null Count   Dtype         \n",
      "---  ------        --------------   -----         \n",
      " 0   id            123036 non-null  object        \n",
      " 1   message_date  123036 non-null  datetime64[ns]\n",
      " 2   user_id       123036 non-null  int16         \n",
      "dtypes: datetime64[ns](1), int16(1), object(1)\n",
      "memory usage: 8.8 MB\n"
     ]
    }
   ],
   "source": [
    "df_messages.info(memory_usage='deep')"
   ]
  },
  {
   "cell_type": "markdown",
   "id": "3f6e2536",
   "metadata": {},
   "source": [
    "Использование памяти в датасете `df_messages`упало практически в два раза."
   ]
  },
  {
   "cell_type": "markdown",
   "id": "935253a4",
   "metadata": {},
   "source": [
    "Далее посмотрим использование памяти в датасете `internet` с помощью метода `info` в котором установим параметр `memory_usage` в значение `deep`."
   ]
  },
  {
   "cell_type": "code",
   "execution_count": 32,
   "id": "c645febc",
   "metadata": {},
   "outputs": [
    {
     "name": "stdout",
     "output_type": "stream",
     "text": [
      "<class 'pandas.core.frame.DataFrame'>\n",
      "RangeIndex: 149396 entries, 0 to 149395\n",
      "Data columns (total 5 columns):\n",
      " #   Column        Non-Null Count   Dtype  \n",
      "---  ------        --------------   -----  \n",
      " 0   Unnamed: 0    149396 non-null  int64  \n",
      " 1   id            149396 non-null  object \n",
      " 2   mb_used       149396 non-null  float64\n",
      " 3   session_date  149396 non-null  object \n",
      " 4   user_id       149396 non-null  int64  \n",
      "dtypes: float64(1), int64(2), object(2)\n",
      "memory usage: 22.2 MB\n"
     ]
    }
   ],
   "source": [
    "df_internet.info(memory_usage='deep')"
   ]
  },
  {
   "cell_type": "markdown",
   "id": "e3b7923f",
   "metadata": {},
   "source": [
    "Выведем максимальные и минимальные значения столбцов с помощью метода `agg()` для того, что понять в какой тип данных можно перевести столбцы."
   ]
  },
  {
   "cell_type": "code",
   "execution_count": 33,
   "id": "8df854ea",
   "metadata": {},
   "outputs": [
    {
     "data": {
      "text/html": [
       "<div>\n",
       "<style scoped>\n",
       "    .dataframe tbody tr th:only-of-type {\n",
       "        vertical-align: middle;\n",
       "    }\n",
       "\n",
       "    .dataframe tbody tr th {\n",
       "        vertical-align: top;\n",
       "    }\n",
       "\n",
       "    .dataframe thead th {\n",
       "        text-align: right;\n",
       "    }\n",
       "</style>\n",
       "<table border=\"1\" class=\"dataframe\">\n",
       "  <thead>\n",
       "    <tr style=\"text-align: right;\">\n",
       "      <th></th>\n",
       "      <th>Unnamed: 0</th>\n",
       "      <th>id</th>\n",
       "      <th>mb_used</th>\n",
       "      <th>session_date</th>\n",
       "      <th>user_id</th>\n",
       "    </tr>\n",
       "  </thead>\n",
       "  <tbody>\n",
       "    <tr>\n",
       "      <th>min</th>\n",
       "      <td>0</td>\n",
       "      <td>1000_0</td>\n",
       "      <td>0.00</td>\n",
       "      <td>2018-01-01</td>\n",
       "      <td>1000</td>\n",
       "    </tr>\n",
       "    <tr>\n",
       "      <th>max</th>\n",
       "      <td>149395</td>\n",
       "      <td>1499_99</td>\n",
       "      <td>1724.83</td>\n",
       "      <td>2018-12-31</td>\n",
       "      <td>1499</td>\n",
       "    </tr>\n",
       "  </tbody>\n",
       "</table>\n",
       "</div>"
      ],
      "text/plain": [
       "     Unnamed: 0       id  mb_used session_date  user_id\n",
       "min           0   1000_0     0.00   2018-01-01     1000\n",
       "max      149395  1499_99  1724.83   2018-12-31     1499"
      ]
     },
     "execution_count": 33,
     "metadata": {},
     "output_type": "execute_result"
    }
   ],
   "source": [
    "df_internet.agg(['min', 'max'])"
   ]
  },
  {
   "cell_type": "markdown",
   "id": "71c370ee",
   "metadata": {},
   "source": [
    "На этом этапе удалим ненужный нам столбец `Unnamed: 0` c помощью `del` и выведем первые 5 строк датасета `df_internet`."
   ]
  },
  {
   "cell_type": "code",
   "execution_count": 34,
   "id": "8ff2f0cd",
   "metadata": {},
   "outputs": [
    {
     "data": {
      "text/html": [
       "<div>\n",
       "<style scoped>\n",
       "    .dataframe tbody tr th:only-of-type {\n",
       "        vertical-align: middle;\n",
       "    }\n",
       "\n",
       "    .dataframe tbody tr th {\n",
       "        vertical-align: top;\n",
       "    }\n",
       "\n",
       "    .dataframe thead th {\n",
       "        text-align: right;\n",
       "    }\n",
       "</style>\n",
       "<table border=\"1\" class=\"dataframe\">\n",
       "  <thead>\n",
       "    <tr style=\"text-align: right;\">\n",
       "      <th></th>\n",
       "      <th>id</th>\n",
       "      <th>mb_used</th>\n",
       "      <th>session_date</th>\n",
       "      <th>user_id</th>\n",
       "    </tr>\n",
       "  </thead>\n",
       "  <tbody>\n",
       "    <tr>\n",
       "      <th>0</th>\n",
       "      <td>1000_0</td>\n",
       "      <td>112.95</td>\n",
       "      <td>2018-11-25</td>\n",
       "      <td>1000</td>\n",
       "    </tr>\n",
       "    <tr>\n",
       "      <th>1</th>\n",
       "      <td>1000_1</td>\n",
       "      <td>1052.81</td>\n",
       "      <td>2018-09-07</td>\n",
       "      <td>1000</td>\n",
       "    </tr>\n",
       "    <tr>\n",
       "      <th>2</th>\n",
       "      <td>1000_2</td>\n",
       "      <td>1197.26</td>\n",
       "      <td>2018-06-25</td>\n",
       "      <td>1000</td>\n",
       "    </tr>\n",
       "    <tr>\n",
       "      <th>3</th>\n",
       "      <td>1000_3</td>\n",
       "      <td>550.27</td>\n",
       "      <td>2018-08-22</td>\n",
       "      <td>1000</td>\n",
       "    </tr>\n",
       "    <tr>\n",
       "      <th>4</th>\n",
       "      <td>1000_4</td>\n",
       "      <td>302.56</td>\n",
       "      <td>2018-09-24</td>\n",
       "      <td>1000</td>\n",
       "    </tr>\n",
       "  </tbody>\n",
       "</table>\n",
       "</div>"
      ],
      "text/plain": [
       "       id  mb_used session_date  user_id\n",
       "0  1000_0   112.95   2018-11-25     1000\n",
       "1  1000_1  1052.81   2018-09-07     1000\n",
       "2  1000_2  1197.26   2018-06-25     1000\n",
       "3  1000_3   550.27   2018-08-22     1000\n",
       "4  1000_4   302.56   2018-09-24     1000"
      ]
     },
     "execution_count": 34,
     "metadata": {},
     "output_type": "execute_result"
    }
   ],
   "source": [
    "del df_internet['Unnamed: 0']\n",
    "df_internet.head()"
   ]
  },
  {
   "cell_type": "markdown",
   "id": "aee9c531",
   "metadata": {},
   "source": [
    "В некоторых столбцах заменим тип данных, это в том числе сэкономит использование памяти:\n",
    "- в столбце `session_date` тип данных переведем в объекты `datetime` на более удобный тип для даты;\n",
    "- в столбце `user_id` тип данных переведем на `int16`, т.к. максимальное значение столбца целое число 1499;\n",
    "- в столбце `mb_used` тип данных переведем на `float32`, т.к. максимальное значение столбца вещественное число 1724.83;"
   ]
  },
  {
   "cell_type": "code",
   "execution_count": 35,
   "id": "015cf8d2",
   "metadata": {},
   "outputs": [
    {
     "data": {
      "text/html": [
       "<div>\n",
       "<style scoped>\n",
       "    .dataframe tbody tr th:only-of-type {\n",
       "        vertical-align: middle;\n",
       "    }\n",
       "\n",
       "    .dataframe tbody tr th {\n",
       "        vertical-align: top;\n",
       "    }\n",
       "\n",
       "    .dataframe thead th {\n",
       "        text-align: right;\n",
       "    }\n",
       "</style>\n",
       "<table border=\"1\" class=\"dataframe\">\n",
       "  <thead>\n",
       "    <tr style=\"text-align: right;\">\n",
       "      <th></th>\n",
       "      <th>id</th>\n",
       "      <th>mb_used</th>\n",
       "      <th>session_date</th>\n",
       "      <th>user_id</th>\n",
       "    </tr>\n",
       "  </thead>\n",
       "  <tbody>\n",
       "    <tr>\n",
       "      <th>0</th>\n",
       "      <td>1000_0</td>\n",
       "      <td>112.95</td>\n",
       "      <td>2018-11-25</td>\n",
       "      <td>1000</td>\n",
       "    </tr>\n",
       "    <tr>\n",
       "      <th>1</th>\n",
       "      <td>1000_1</td>\n",
       "      <td>1052.81</td>\n",
       "      <td>2018-09-07</td>\n",
       "      <td>1000</td>\n",
       "    </tr>\n",
       "    <tr>\n",
       "      <th>2</th>\n",
       "      <td>1000_2</td>\n",
       "      <td>1197.26</td>\n",
       "      <td>2018-06-25</td>\n",
       "      <td>1000</td>\n",
       "    </tr>\n",
       "    <tr>\n",
       "      <th>3</th>\n",
       "      <td>1000_3</td>\n",
       "      <td>550.27</td>\n",
       "      <td>2018-08-22</td>\n",
       "      <td>1000</td>\n",
       "    </tr>\n",
       "    <tr>\n",
       "      <th>4</th>\n",
       "      <td>1000_4</td>\n",
       "      <td>302.56</td>\n",
       "      <td>2018-09-24</td>\n",
       "      <td>1000</td>\n",
       "    </tr>\n",
       "  </tbody>\n",
       "</table>\n",
       "</div>"
      ],
      "text/plain": [
       "       id  mb_used session_date  user_id\n",
       "0  1000_0   112.95   2018-11-25     1000\n",
       "1  1000_1  1052.81   2018-09-07     1000\n",
       "2  1000_2  1197.26   2018-06-25     1000\n",
       "3  1000_3   550.27   2018-08-22     1000\n",
       "4  1000_4   302.56   2018-09-24     1000"
      ]
     },
     "execution_count": 35,
     "metadata": {},
     "output_type": "execute_result"
    }
   ],
   "source": [
    "df_internet.session_date = pd.to_datetime(df_internet.session_date, format='%Y-%m-%d')\n",
    "df_internet.head()"
   ]
  },
  {
   "cell_type": "markdown",
   "id": "bf9cd09a",
   "metadata": {},
   "source": [
    "С помощью метода `astype` выполним замену типа данных в столбце. "
   ]
  },
  {
   "cell_type": "code",
   "execution_count": 36,
   "id": "1180ae88",
   "metadata": {},
   "outputs": [],
   "source": [
    "df_internet = df_internet.astype({'user_id':'int16',\n",
    "                    'mb_used':'float32'})  "
   ]
  },
  {
   "cell_type": "markdown",
   "id": "7b69714e",
   "metadata": {},
   "source": [
    "Посмотрим как изменились типы данных в столбцах в датасете `df_messages` и использование памяти."
   ]
  },
  {
   "cell_type": "code",
   "execution_count": 37,
   "id": "8df468e5",
   "metadata": {
    "scrolled": true
   },
   "outputs": [
    {
     "name": "stdout",
     "output_type": "stream",
     "text": [
      "<class 'pandas.core.frame.DataFrame'>\n",
      "RangeIndex: 149396 entries, 0 to 149395\n",
      "Data columns (total 4 columns):\n",
      " #   Column        Non-Null Count   Dtype         \n",
      "---  ------        --------------   -----         \n",
      " 0   id            149396 non-null  object        \n",
      " 1   mb_used       149396 non-null  float32       \n",
      " 2   session_date  149396 non-null  datetime64[ns]\n",
      " 3   user_id       149396 non-null  int16         \n",
      "dtypes: datetime64[ns](1), float32(1), int16(1), object(1)\n",
      "memory usage: 11.2 MB\n"
     ]
    }
   ],
   "source": [
    "df_internet.info(memory_usage='deep')"
   ]
  },
  {
   "cell_type": "markdown",
   "id": "9a42b7df",
   "metadata": {},
   "source": [
    "Использование памяти в датасете `df_internet`упало практически в два раза."
   ]
  },
  {
   "cell_type": "markdown",
   "id": "0aee24b8",
   "metadata": {},
   "source": [
    "Замена типов данных в столбцах датасета `df_tariffs` не требуется."
   ]
  },
  {
   "cell_type": "markdown",
   "id": "676e5ef2",
   "metadata": {},
   "source": [
    "**Вывод**"
   ]
  },
  {
   "cell_type": "markdown",
   "id": "9d9b0914",
   "metadata": {},
   "source": [
    "Для более удобных расчетов в наших исследованиях и для экономии памяти в некоторых датасетах мы изменили типы данных в столбцах.Для этого использовали методы `astype()` и `pd.to_datetime()`.В данном случае они хорошо подходят. Также мы снизили использование памяти почти в 2 раза. В датасете `df_internet` удалили ненужный столбец."
   ]
  },
  {
   "cell_type": "markdown",
   "id": "dfa60227",
   "metadata": {},
   "source": [
    "### 2.2 Обработка дубликатов                                                                                                       <a id='intro3'></a>"
   ]
  },
  {
   "cell_type": "markdown",
   "id": "3232d12c",
   "metadata": {},
   "source": [
    "Выведем первые 5 строк таблицы `df_users`"
   ]
  },
  {
   "cell_type": "code",
   "execution_count": 38,
   "id": "404e9ef5",
   "metadata": {},
   "outputs": [
    {
     "data": {
      "text/html": [
       "<div>\n",
       "<style scoped>\n",
       "    .dataframe tbody tr th:only-of-type {\n",
       "        vertical-align: middle;\n",
       "    }\n",
       "\n",
       "    .dataframe tbody tr th {\n",
       "        vertical-align: top;\n",
       "    }\n",
       "\n",
       "    .dataframe thead th {\n",
       "        text-align: right;\n",
       "    }\n",
       "</style>\n",
       "<table border=\"1\" class=\"dataframe\">\n",
       "  <thead>\n",
       "    <tr style=\"text-align: right;\">\n",
       "      <th></th>\n",
       "      <th>user_id</th>\n",
       "      <th>age</th>\n",
       "      <th>churn_date</th>\n",
       "      <th>city</th>\n",
       "      <th>first_name</th>\n",
       "      <th>last_name</th>\n",
       "      <th>reg_date</th>\n",
       "      <th>tariff</th>\n",
       "    </tr>\n",
       "  </thead>\n",
       "  <tbody>\n",
       "    <tr>\n",
       "      <th>0</th>\n",
       "      <td>1000</td>\n",
       "      <td>52</td>\n",
       "      <td>NaT</td>\n",
       "      <td>Краснодар</td>\n",
       "      <td>Рафаил</td>\n",
       "      <td>Верещагин</td>\n",
       "      <td>2018-05-25</td>\n",
       "      <td>ultra</td>\n",
       "    </tr>\n",
       "    <tr>\n",
       "      <th>1</th>\n",
       "      <td>1001</td>\n",
       "      <td>41</td>\n",
       "      <td>NaT</td>\n",
       "      <td>Москва</td>\n",
       "      <td>Иван</td>\n",
       "      <td>Ежов</td>\n",
       "      <td>2018-11-01</td>\n",
       "      <td>smart</td>\n",
       "    </tr>\n",
       "    <tr>\n",
       "      <th>2</th>\n",
       "      <td>1002</td>\n",
       "      <td>59</td>\n",
       "      <td>NaT</td>\n",
       "      <td>Стерлитамак</td>\n",
       "      <td>Евгений</td>\n",
       "      <td>Абрамович</td>\n",
       "      <td>2018-06-17</td>\n",
       "      <td>smart</td>\n",
       "    </tr>\n",
       "    <tr>\n",
       "      <th>3</th>\n",
       "      <td>1003</td>\n",
       "      <td>23</td>\n",
       "      <td>NaT</td>\n",
       "      <td>Москва</td>\n",
       "      <td>Белла</td>\n",
       "      <td>Белякова</td>\n",
       "      <td>2018-08-17</td>\n",
       "      <td>ultra</td>\n",
       "    </tr>\n",
       "    <tr>\n",
       "      <th>4</th>\n",
       "      <td>1004</td>\n",
       "      <td>68</td>\n",
       "      <td>NaT</td>\n",
       "      <td>Новокузнецк</td>\n",
       "      <td>Татьяна</td>\n",
       "      <td>Авдеенко</td>\n",
       "      <td>2018-05-14</td>\n",
       "      <td>ultra</td>\n",
       "    </tr>\n",
       "  </tbody>\n",
       "</table>\n",
       "</div>"
      ],
      "text/plain": [
       "   user_id  age churn_date         city first_name  last_name   reg_date  \\\n",
       "0     1000   52        NaT    Краснодар     Рафаил  Верещагин 2018-05-25   \n",
       "1     1001   41        NaT       Москва       Иван       Ежов 2018-11-01   \n",
       "2     1002   59        NaT  Стерлитамак    Евгений  Абрамович 2018-06-17   \n",
       "3     1003   23        NaT       Москва      Белла   Белякова 2018-08-17   \n",
       "4     1004   68        NaT  Новокузнецк    Татьяна   Авдеенко 2018-05-14   \n",
       "\n",
       "  tariff  \n",
       "0  ultra  \n",
       "1  smart  \n",
       "2  smart  \n",
       "3  ultra  \n",
       "4  ultra  "
      ]
     },
     "execution_count": 38,
     "metadata": {},
     "output_type": "execute_result"
    }
   ],
   "source": [
    "df_users.head()"
   ]
  },
  {
   "cell_type": "markdown",
   "id": "aaa609d0",
   "metadata": {},
   "source": [
    "Подсчитаем количество строк-дубликатов датасета `df_users`. "
   ]
  },
  {
   "cell_type": "code",
   "execution_count": 39,
   "id": "85405b3f",
   "metadata": {},
   "outputs": [
    {
     "data": {
      "text/plain": [
       "0"
      ]
     },
     "execution_count": 39,
     "metadata": {},
     "output_type": "execute_result"
    }
   ],
   "source": [
    "df_users.duplicated().sum()"
   ]
  },
  {
   "cell_type": "markdown",
   "id": "1bd75f2a",
   "metadata": {},
   "source": [
    "В столбце `city` с помощью метода `unique()` посмотрим уникальные значения, чтобы учесть все дубликаты."
   ]
  },
  {
   "cell_type": "code",
   "execution_count": 40,
   "id": "74c35582",
   "metadata": {},
   "outputs": [
    {
     "data": {
      "text/plain": [
       "array(['Архангельск', 'Астрахань', 'Балашиха', 'Барнаул', 'Белгород',\n",
       "       'Брянск', 'Владивосток', 'Владикавказ', 'Владимир', 'Волгоград',\n",
       "       'Волжский', 'Вологда', 'Воронеж', 'Грозный', 'Екатеринбург',\n",
       "       'Иваново', 'Ижевск', 'Иркутск', 'Казань', 'Калининград', 'Калуга',\n",
       "       'Кемерово', 'Киров', 'Кострома', 'Краснодар', 'Красноярск',\n",
       "       'Курган', 'Курск', 'Липецк', 'Магнитогорск', 'Махачкала', 'Москва',\n",
       "       'Мурманск', 'Набережные Челны', 'Нижневартовск', 'Нижний Новгород',\n",
       "       'Нижний Тагил', 'Новокузнецк', 'Новороссийск', 'Новосибирск',\n",
       "       'Омск', 'Оренбург', 'Орёл', 'Пенза', 'Пермь', 'Петрозаводск',\n",
       "       'Подольск', 'Ростов-на-Дону', 'Рязань', 'Самара',\n",
       "       'Санкт-Петербург', 'Саранск', 'Саратов', 'Севастополь', 'Смоленск',\n",
       "       'Сочи', 'Ставрополь', 'Стерлитамак', 'Сургут', 'Тамбов', 'Тверь',\n",
       "       'Тольятти', 'Томск', 'Тула', 'Тюмень', 'Улан-Удэ', 'Ульяновск',\n",
       "       'Уфа', 'Хабаровск', 'Химки', 'Чебоксары', 'Челябинск', 'Череповец',\n",
       "       'Чита', 'Якутск', 'Ярославль'], dtype=object)"
      ]
     },
     "execution_count": 40,
     "metadata": {},
     "output_type": "execute_result"
    }
   ],
   "source": [
    "df_users.city.sort_values().unique()"
   ]
  },
  {
   "cell_type": "markdown",
   "id": "7fb0e908",
   "metadata": {},
   "source": [
    "В остальных столбцах проверку на неявные дубликаты осуществлять не будем.  \n",
    "Итак, в датасете `df_users` дубликаты не обнаружены. "
   ]
  },
  {
   "cell_type": "markdown",
   "id": "aea68f89",
   "metadata": {},
   "source": [
    "Выведем первые 5 строк таблицы `df_calls`."
   ]
  },
  {
   "cell_type": "code",
   "execution_count": 41,
   "id": "677ff326",
   "metadata": {},
   "outputs": [
    {
     "data": {
      "text/html": [
       "<div>\n",
       "<style scoped>\n",
       "    .dataframe tbody tr th:only-of-type {\n",
       "        vertical-align: middle;\n",
       "    }\n",
       "\n",
       "    .dataframe tbody tr th {\n",
       "        vertical-align: top;\n",
       "    }\n",
       "\n",
       "    .dataframe thead th {\n",
       "        text-align: right;\n",
       "    }\n",
       "</style>\n",
       "<table border=\"1\" class=\"dataframe\">\n",
       "  <thead>\n",
       "    <tr style=\"text-align: right;\">\n",
       "      <th></th>\n",
       "      <th>id</th>\n",
       "      <th>call_date</th>\n",
       "      <th>duration</th>\n",
       "      <th>user_id</th>\n",
       "    </tr>\n",
       "  </thead>\n",
       "  <tbody>\n",
       "    <tr>\n",
       "      <th>0</th>\n",
       "      <td>1000_0</td>\n",
       "      <td>2018-07-25</td>\n",
       "      <td>0.00</td>\n",
       "      <td>1000</td>\n",
       "    </tr>\n",
       "    <tr>\n",
       "      <th>1</th>\n",
       "      <td>1000_1</td>\n",
       "      <td>2018-08-17</td>\n",
       "      <td>0.00</td>\n",
       "      <td>1000</td>\n",
       "    </tr>\n",
       "    <tr>\n",
       "      <th>2</th>\n",
       "      <td>1000_2</td>\n",
       "      <td>2018-06-11</td>\n",
       "      <td>2.85</td>\n",
       "      <td>1000</td>\n",
       "    </tr>\n",
       "    <tr>\n",
       "      <th>3</th>\n",
       "      <td>1000_3</td>\n",
       "      <td>2018-09-21</td>\n",
       "      <td>13.80</td>\n",
       "      <td>1000</td>\n",
       "    </tr>\n",
       "    <tr>\n",
       "      <th>4</th>\n",
       "      <td>1000_4</td>\n",
       "      <td>2018-12-15</td>\n",
       "      <td>5.18</td>\n",
       "      <td>1000</td>\n",
       "    </tr>\n",
       "  </tbody>\n",
       "</table>\n",
       "</div>"
      ],
      "text/plain": [
       "       id  call_date  duration  user_id\n",
       "0  1000_0 2018-07-25      0.00     1000\n",
       "1  1000_1 2018-08-17      0.00     1000\n",
       "2  1000_2 2018-06-11      2.85     1000\n",
       "3  1000_3 2018-09-21     13.80     1000\n",
       "4  1000_4 2018-12-15      5.18     1000"
      ]
     },
     "execution_count": 41,
     "metadata": {},
     "output_type": "execute_result"
    }
   ],
   "source": [
    "df_calls.head()"
   ]
  },
  {
   "cell_type": "markdown",
   "id": "4f94e62a",
   "metadata": {},
   "source": [
    "Подсчитаем количество строк-дубликатов датасета `df_calls`. "
   ]
  },
  {
   "cell_type": "code",
   "execution_count": 42,
   "id": "af17d272",
   "metadata": {},
   "outputs": [
    {
     "data": {
      "text/plain": [
       "0"
      ]
     },
     "execution_count": 42,
     "metadata": {},
     "output_type": "execute_result"
    }
   ],
   "source": [
    "df_calls.duplicated().sum()"
   ]
  },
  {
   "cell_type": "markdown",
   "id": "0a2d09e1",
   "metadata": {},
   "source": [
    " В датасете `df_calls` дубликаты не обнаружены."
   ]
  },
  {
   "cell_type": "markdown",
   "id": "24c77884",
   "metadata": {},
   "source": [
    "Выведем первые 5 строк таблицы `df_messages`."
   ]
  },
  {
   "cell_type": "code",
   "execution_count": 43,
   "id": "498d8742",
   "metadata": {},
   "outputs": [
    {
     "data": {
      "text/html": [
       "<div>\n",
       "<style scoped>\n",
       "    .dataframe tbody tr th:only-of-type {\n",
       "        vertical-align: middle;\n",
       "    }\n",
       "\n",
       "    .dataframe tbody tr th {\n",
       "        vertical-align: top;\n",
       "    }\n",
       "\n",
       "    .dataframe thead th {\n",
       "        text-align: right;\n",
       "    }\n",
       "</style>\n",
       "<table border=\"1\" class=\"dataframe\">\n",
       "  <thead>\n",
       "    <tr style=\"text-align: right;\">\n",
       "      <th></th>\n",
       "      <th>id</th>\n",
       "      <th>message_date</th>\n",
       "      <th>user_id</th>\n",
       "    </tr>\n",
       "  </thead>\n",
       "  <tbody>\n",
       "    <tr>\n",
       "      <th>0</th>\n",
       "      <td>1000_0</td>\n",
       "      <td>2018-06-27</td>\n",
       "      <td>1000</td>\n",
       "    </tr>\n",
       "    <tr>\n",
       "      <th>1</th>\n",
       "      <td>1000_1</td>\n",
       "      <td>2018-10-08</td>\n",
       "      <td>1000</td>\n",
       "    </tr>\n",
       "    <tr>\n",
       "      <th>2</th>\n",
       "      <td>1000_2</td>\n",
       "      <td>2018-08-04</td>\n",
       "      <td>1000</td>\n",
       "    </tr>\n",
       "    <tr>\n",
       "      <th>3</th>\n",
       "      <td>1000_3</td>\n",
       "      <td>2018-06-16</td>\n",
       "      <td>1000</td>\n",
       "    </tr>\n",
       "    <tr>\n",
       "      <th>4</th>\n",
       "      <td>1000_4</td>\n",
       "      <td>2018-12-05</td>\n",
       "      <td>1000</td>\n",
       "    </tr>\n",
       "  </tbody>\n",
       "</table>\n",
       "</div>"
      ],
      "text/plain": [
       "       id message_date  user_id\n",
       "0  1000_0   2018-06-27     1000\n",
       "1  1000_1   2018-10-08     1000\n",
       "2  1000_2   2018-08-04     1000\n",
       "3  1000_3   2018-06-16     1000\n",
       "4  1000_4   2018-12-05     1000"
      ]
     },
     "execution_count": 43,
     "metadata": {},
     "output_type": "execute_result"
    }
   ],
   "source": [
    "df_messages.head()"
   ]
  },
  {
   "cell_type": "markdown",
   "id": "d20a0e02",
   "metadata": {},
   "source": [
    "Подсчитаем количество строк-дубликатов датасета `df_messages`. "
   ]
  },
  {
   "cell_type": "code",
   "execution_count": 44,
   "id": "8d67e47f",
   "metadata": {},
   "outputs": [
    {
     "data": {
      "text/plain": [
       "0"
      ]
     },
     "execution_count": 44,
     "metadata": {},
     "output_type": "execute_result"
    }
   ],
   "source": [
    "df_messages.duplicated().sum()"
   ]
  },
  {
   "cell_type": "markdown",
   "id": "90f055a1",
   "metadata": {},
   "source": [
    " В датасете `df_messages` дубликаты не обнаружены."
   ]
  },
  {
   "cell_type": "markdown",
   "id": "5d728a8d",
   "metadata": {},
   "source": [
    "Выведем первые 5 строк таблицы `df_internet`."
   ]
  },
  {
   "cell_type": "code",
   "execution_count": 45,
   "id": "5a56d6db",
   "metadata": {},
   "outputs": [
    {
     "data": {
      "text/html": [
       "<div>\n",
       "<style scoped>\n",
       "    .dataframe tbody tr th:only-of-type {\n",
       "        vertical-align: middle;\n",
       "    }\n",
       "\n",
       "    .dataframe tbody tr th {\n",
       "        vertical-align: top;\n",
       "    }\n",
       "\n",
       "    .dataframe thead th {\n",
       "        text-align: right;\n",
       "    }\n",
       "</style>\n",
       "<table border=\"1\" class=\"dataframe\">\n",
       "  <thead>\n",
       "    <tr style=\"text-align: right;\">\n",
       "      <th></th>\n",
       "      <th>id</th>\n",
       "      <th>mb_used</th>\n",
       "      <th>session_date</th>\n",
       "      <th>user_id</th>\n",
       "    </tr>\n",
       "  </thead>\n",
       "  <tbody>\n",
       "    <tr>\n",
       "      <th>0</th>\n",
       "      <td>1000_0</td>\n",
       "      <td>112.949997</td>\n",
       "      <td>2018-11-25</td>\n",
       "      <td>1000</td>\n",
       "    </tr>\n",
       "    <tr>\n",
       "      <th>1</th>\n",
       "      <td>1000_1</td>\n",
       "      <td>1052.810059</td>\n",
       "      <td>2018-09-07</td>\n",
       "      <td>1000</td>\n",
       "    </tr>\n",
       "    <tr>\n",
       "      <th>2</th>\n",
       "      <td>1000_2</td>\n",
       "      <td>1197.260010</td>\n",
       "      <td>2018-06-25</td>\n",
       "      <td>1000</td>\n",
       "    </tr>\n",
       "    <tr>\n",
       "      <th>3</th>\n",
       "      <td>1000_3</td>\n",
       "      <td>550.270020</td>\n",
       "      <td>2018-08-22</td>\n",
       "      <td>1000</td>\n",
       "    </tr>\n",
       "    <tr>\n",
       "      <th>4</th>\n",
       "      <td>1000_4</td>\n",
       "      <td>302.559998</td>\n",
       "      <td>2018-09-24</td>\n",
       "      <td>1000</td>\n",
       "    </tr>\n",
       "  </tbody>\n",
       "</table>\n",
       "</div>"
      ],
      "text/plain": [
       "       id      mb_used session_date  user_id\n",
       "0  1000_0   112.949997   2018-11-25     1000\n",
       "1  1000_1  1052.810059   2018-09-07     1000\n",
       "2  1000_2  1197.260010   2018-06-25     1000\n",
       "3  1000_3   550.270020   2018-08-22     1000\n",
       "4  1000_4   302.559998   2018-09-24     1000"
      ]
     },
     "execution_count": 45,
     "metadata": {},
     "output_type": "execute_result"
    }
   ],
   "source": [
    "df_internet.head()"
   ]
  },
  {
   "cell_type": "markdown",
   "id": "ddc948ee",
   "metadata": {},
   "source": [
    "Подсчитаем количество строк-дубликатов датасета `df_internet`. "
   ]
  },
  {
   "cell_type": "code",
   "execution_count": 46,
   "id": "9ba6c366",
   "metadata": {},
   "outputs": [
    {
     "data": {
      "text/plain": [
       "0"
      ]
     },
     "execution_count": 46,
     "metadata": {},
     "output_type": "execute_result"
    }
   ],
   "source": [
    "df_internet.duplicated().sum()"
   ]
  },
  {
   "cell_type": "markdown",
   "id": "cda9f6f3",
   "metadata": {},
   "source": [
    " В датасете `df_internet` дубликаты не обнаружены."
   ]
  },
  {
   "cell_type": "markdown",
   "id": "581ad73e",
   "metadata": {},
   "source": [
    "**Вывод**"
   ]
  },
  {
   "cell_type": "markdown",
   "id": "49f0b3e5",
   "metadata": {},
   "source": [
    "Предобработка не обнаружила дубликаты."
   ]
  },
  {
   "cell_type": "markdown",
   "id": "bdaff8bd",
   "metadata": {},
   "source": [
    "## 3. Расчёты и добавление результатов в таблицы                                            <a id='intro4'></a>"
   ]
  },
  {
   "cell_type": "markdown",
   "id": "879f2d29",
   "metadata": {},
   "source": [
    "Посчитаем для каждого пользователя:\n",
    "- количество сделанных звонков и израсходованных минут разговора по месяцам;\n",
    "- количество отправленных сообщений по месяцам;\n",
    "- объем израсходованного интернет-трафика по месяцам;\n",
    "- помесячную выручку с каждого пользователя (вычтите бесплатный лимит из суммарного количества звонков, сообщений и интернет-трафика; остаток умножьте на значение из тарифного плана; прибавьте абонентскую плату, соответствующую тарифному плану)."
   ]
  },
  {
   "cell_type": "markdown",
   "id": "4a483fe8",
   "metadata": {},
   "source": [
    "Сначала с помощью функции к датасетам `df_calls`, `df_messages`, `df_internet` добавим столбец - месяц года."
   ]
  },
  {
   "cell_type": "code",
   "execution_count": 47,
   "id": "8a051225",
   "metadata": {},
   "outputs": [],
   "source": [
    "date_df = [df_calls, df_messages, df_internet]\n",
    " \n",
    "def month_column (df):\n",
    "    for column in df.columns:\n",
    "        if 'date' in column:\n",
    "            df['month'] = df[column].dt.month\n",
    "    return df\n",
    "\n",
    "    \n",
    "for i in date_df:\n",
    "    i = month_column(i)"
   ]
  },
  {
   "cell_type": "markdown",
   "id": "afb16831",
   "metadata": {},
   "source": [
    "Из примечания нам известно что «Мегалайн» всегда округляет секунды до минут, а мегабайты — до гигабайт. Каждый звонок округляется отдельно: даже если он длился всего 1 секунду, будет засчитан как 1 минута.\n",
    "Для веб-трафика отдельные сессии не считаются. Вместо этого общая сумма за месяц округляется в бо́льшую сторону. Если абонент использует 1025 мегабайт в этом месяце, с него возьмут плату за 2 гигабайта."
   ]
  },
  {
   "cell_type": "markdown",
   "id": "63c46540",
   "metadata": {},
   "source": [
    "Округлим израсходованные секунды до минут в датасете `df_calls` с помощью метода `ceil` из модуля `math` и посчитаем количество сделанных звонков и израсходованных минут разговора по месяцам."
   ]
  },
  {
   "cell_type": "code",
   "execution_count": 48,
   "id": "8c7e90ce",
   "metadata": {},
   "outputs": [
    {
     "data": {
      "text/html": [
       "<div>\n",
       "<style scoped>\n",
       "    .dataframe tbody tr th:only-of-type {\n",
       "        vertical-align: middle;\n",
       "    }\n",
       "\n",
       "    .dataframe tbody tr th {\n",
       "        vertical-align: top;\n",
       "    }\n",
       "\n",
       "    .dataframe thead th {\n",
       "        text-align: right;\n",
       "    }\n",
       "</style>\n",
       "<table border=\"1\" class=\"dataframe\">\n",
       "  <thead>\n",
       "    <tr style=\"text-align: right;\">\n",
       "      <th></th>\n",
       "      <th>id</th>\n",
       "      <th>call_date</th>\n",
       "      <th>duration</th>\n",
       "      <th>user_id</th>\n",
       "      <th>month</th>\n",
       "    </tr>\n",
       "  </thead>\n",
       "  <tbody>\n",
       "    <tr>\n",
       "      <th>0</th>\n",
       "      <td>1000_0</td>\n",
       "      <td>2018-07-25</td>\n",
       "      <td>0</td>\n",
       "      <td>1000</td>\n",
       "      <td>7</td>\n",
       "    </tr>\n",
       "    <tr>\n",
       "      <th>1</th>\n",
       "      <td>1000_1</td>\n",
       "      <td>2018-08-17</td>\n",
       "      <td>0</td>\n",
       "      <td>1000</td>\n",
       "      <td>8</td>\n",
       "    </tr>\n",
       "    <tr>\n",
       "      <th>2</th>\n",
       "      <td>1000_2</td>\n",
       "      <td>2018-06-11</td>\n",
       "      <td>3</td>\n",
       "      <td>1000</td>\n",
       "      <td>6</td>\n",
       "    </tr>\n",
       "    <tr>\n",
       "      <th>3</th>\n",
       "      <td>1000_3</td>\n",
       "      <td>2018-09-21</td>\n",
       "      <td>14</td>\n",
       "      <td>1000</td>\n",
       "      <td>9</td>\n",
       "    </tr>\n",
       "    <tr>\n",
       "      <th>4</th>\n",
       "      <td>1000_4</td>\n",
       "      <td>2018-12-15</td>\n",
       "      <td>6</td>\n",
       "      <td>1000</td>\n",
       "      <td>12</td>\n",
       "    </tr>\n",
       "  </tbody>\n",
       "</table>\n",
       "</div>"
      ],
      "text/plain": [
       "       id  call_date  duration  user_id  month\n",
       "0  1000_0 2018-07-25         0     1000      7\n",
       "1  1000_1 2018-08-17         0     1000      8\n",
       "2  1000_2 2018-06-11         3     1000      6\n",
       "3  1000_3 2018-09-21        14     1000      9\n",
       "4  1000_4 2018-12-15         6     1000     12"
      ]
     },
     "execution_count": 48,
     "metadata": {},
     "output_type": "execute_result"
    }
   ],
   "source": [
    "df_calls.duration = df_calls.duration.map(math.ceil)\n",
    "df_calls.head()\n"
   ]
  },
  {
   "cell_type": "markdown",
   "id": "b1260542",
   "metadata": {},
   "source": [
    "Сгруппируем таблицу по количеству звонков и минут по месяцам с помощью `pivot_table`, посчитаем сумму и количество звонков, сбросим индекс."
   ]
  },
  {
   "cell_type": "code",
   "execution_count": 49,
   "id": "2d3951ad",
   "metadata": {},
   "outputs": [],
   "source": [
    "df_calls_pivot = df_calls.pivot_table(index=['user_id','month'], values='duration', aggfunc=['sum', 'count']).reset_index()"
   ]
  },
  {
   "cell_type": "markdown",
   "id": "75c65193",
   "metadata": {},
   "source": [
    "Выведем таблицу `df_calls_pivot`."
   ]
  },
  {
   "cell_type": "code",
   "execution_count": 50,
   "id": "19d837ca",
   "metadata": {
    "scrolled": false
   },
   "outputs": [
    {
     "data": {
      "text/html": [
       "<div>\n",
       "<style scoped>\n",
       "    .dataframe tbody tr th:only-of-type {\n",
       "        vertical-align: middle;\n",
       "    }\n",
       "\n",
       "    .dataframe tbody tr th {\n",
       "        vertical-align: top;\n",
       "    }\n",
       "\n",
       "    .dataframe thead tr th {\n",
       "        text-align: left;\n",
       "    }\n",
       "</style>\n",
       "<table border=\"1\" class=\"dataframe\">\n",
       "  <thead>\n",
       "    <tr>\n",
       "      <th></th>\n",
       "      <th>user_id</th>\n",
       "      <th>month</th>\n",
       "      <th>sum</th>\n",
       "      <th>count</th>\n",
       "    </tr>\n",
       "    <tr>\n",
       "      <th></th>\n",
       "      <th></th>\n",
       "      <th></th>\n",
       "      <th>duration</th>\n",
       "      <th>duration</th>\n",
       "    </tr>\n",
       "  </thead>\n",
       "  <tbody>\n",
       "    <tr>\n",
       "      <th>0</th>\n",
       "      <td>1000</td>\n",
       "      <td>5</td>\n",
       "      <td>159</td>\n",
       "      <td>22</td>\n",
       "    </tr>\n",
       "    <tr>\n",
       "      <th>1</th>\n",
       "      <td>1000</td>\n",
       "      <td>6</td>\n",
       "      <td>172</td>\n",
       "      <td>43</td>\n",
       "    </tr>\n",
       "    <tr>\n",
       "      <th>2</th>\n",
       "      <td>1000</td>\n",
       "      <td>7</td>\n",
       "      <td>340</td>\n",
       "      <td>47</td>\n",
       "    </tr>\n",
       "    <tr>\n",
       "      <th>3</th>\n",
       "      <td>1000</td>\n",
       "      <td>8</td>\n",
       "      <td>408</td>\n",
       "      <td>52</td>\n",
       "    </tr>\n",
       "    <tr>\n",
       "      <th>4</th>\n",
       "      <td>1000</td>\n",
       "      <td>9</td>\n",
       "      <td>466</td>\n",
       "      <td>58</td>\n",
       "    </tr>\n",
       "    <tr>\n",
       "      <th>...</th>\n",
       "      <td>...</td>\n",
       "      <td>...</td>\n",
       "      <td>...</td>\n",
       "      <td>...</td>\n",
       "    </tr>\n",
       "    <tr>\n",
       "      <th>3169</th>\n",
       "      <td>1498</td>\n",
       "      <td>10</td>\n",
       "      <td>247</td>\n",
       "      <td>41</td>\n",
       "    </tr>\n",
       "    <tr>\n",
       "      <th>3170</th>\n",
       "      <td>1499</td>\n",
       "      <td>9</td>\n",
       "      <td>70</td>\n",
       "      <td>9</td>\n",
       "    </tr>\n",
       "    <tr>\n",
       "      <th>3171</th>\n",
       "      <td>1499</td>\n",
       "      <td>10</td>\n",
       "      <td>449</td>\n",
       "      <td>68</td>\n",
       "    </tr>\n",
       "    <tr>\n",
       "      <th>3172</th>\n",
       "      <td>1499</td>\n",
       "      <td>11</td>\n",
       "      <td>612</td>\n",
       "      <td>74</td>\n",
       "    </tr>\n",
       "    <tr>\n",
       "      <th>3173</th>\n",
       "      <td>1499</td>\n",
       "      <td>12</td>\n",
       "      <td>492</td>\n",
       "      <td>69</td>\n",
       "    </tr>\n",
       "  </tbody>\n",
       "</table>\n",
       "<p>3174 rows × 4 columns</p>\n",
       "</div>"
      ],
      "text/plain": [
       "     user_id month      sum    count\n",
       "                   duration duration\n",
       "0       1000     5      159       22\n",
       "1       1000     6      172       43\n",
       "2       1000     7      340       47\n",
       "3       1000     8      408       52\n",
       "4       1000     9      466       58\n",
       "...      ...   ...      ...      ...\n",
       "3169    1498    10      247       41\n",
       "3170    1499     9       70        9\n",
       "3171    1499    10      449       68\n",
       "3172    1499    11      612       74\n",
       "3173    1499    12      492       69\n",
       "\n",
       "[3174 rows x 4 columns]"
      ]
     },
     "execution_count": 50,
     "metadata": {},
     "output_type": "execute_result"
    }
   ],
   "source": [
    "df_calls_pivot"
   ]
  },
  {
   "cell_type": "markdown",
   "id": "70a1ab48",
   "metadata": {},
   "source": [
    "Переименуем двухэтажные столбцы.Выведем первые 5 строк таблицы."
   ]
  },
  {
   "cell_type": "code",
   "execution_count": 51,
   "id": "0ca01135",
   "metadata": {},
   "outputs": [
    {
     "data": {
      "text/html": [
       "<div>\n",
       "<style scoped>\n",
       "    .dataframe tbody tr th:only-of-type {\n",
       "        vertical-align: middle;\n",
       "    }\n",
       "\n",
       "    .dataframe tbody tr th {\n",
       "        vertical-align: top;\n",
       "    }\n",
       "\n",
       "    .dataframe thead th {\n",
       "        text-align: right;\n",
       "    }\n",
       "</style>\n",
       "<table border=\"1\" class=\"dataframe\">\n",
       "  <thead>\n",
       "    <tr style=\"text-align: right;\">\n",
       "      <th></th>\n",
       "      <th>user_id</th>\n",
       "      <th>month</th>\n",
       "      <th>duration</th>\n",
       "      <th>count_calls</th>\n",
       "    </tr>\n",
       "  </thead>\n",
       "  <tbody>\n",
       "    <tr>\n",
       "      <th>0</th>\n",
       "      <td>1000</td>\n",
       "      <td>5</td>\n",
       "      <td>159</td>\n",
       "      <td>22</td>\n",
       "    </tr>\n",
       "    <tr>\n",
       "      <th>1</th>\n",
       "      <td>1000</td>\n",
       "      <td>6</td>\n",
       "      <td>172</td>\n",
       "      <td>43</td>\n",
       "    </tr>\n",
       "    <tr>\n",
       "      <th>2</th>\n",
       "      <td>1000</td>\n",
       "      <td>7</td>\n",
       "      <td>340</td>\n",
       "      <td>47</td>\n",
       "    </tr>\n",
       "    <tr>\n",
       "      <th>3</th>\n",
       "      <td>1000</td>\n",
       "      <td>8</td>\n",
       "      <td>408</td>\n",
       "      <td>52</td>\n",
       "    </tr>\n",
       "    <tr>\n",
       "      <th>4</th>\n",
       "      <td>1000</td>\n",
       "      <td>9</td>\n",
       "      <td>466</td>\n",
       "      <td>58</td>\n",
       "    </tr>\n",
       "  </tbody>\n",
       "</table>\n",
       "</div>"
      ],
      "text/plain": [
       "   user_id  month  duration  count_calls\n",
       "0     1000      5       159           22\n",
       "1     1000      6       172           43\n",
       "2     1000      7       340           47\n",
       "3     1000      8       408           52\n",
       "4     1000      9       466           58"
      ]
     },
     "execution_count": 51,
     "metadata": {},
     "output_type": "execute_result"
    }
   ],
   "source": [
    "df_calls_pivot.columns = ['user_id', 'month', 'duration', 'count_calls']\n",
    "df_calls_pivot.head()"
   ]
  },
  {
   "cell_type": "markdown",
   "id": "77979f5c",
   "metadata": {},
   "source": [
    "Сгруппируем таблицу по количеству отправленных сообщений по месяцам с помощью `pivot_table`, посчитаем количество сообщений и сбросим индексы."
   ]
  },
  {
   "cell_type": "code",
   "execution_count": 52,
   "id": "ea9159cf",
   "metadata": {},
   "outputs": [],
   "source": [
    "df_messages_pivot = df_messages.pivot_table(index=['user_id','month'], values='id', aggfunc='count').reset_index()"
   ]
  },
  {
   "cell_type": "markdown",
   "id": "a5ddd5f8",
   "metadata": {},
   "source": [
    "Выведем таблицу `df_calls_pivot`."
   ]
  },
  {
   "cell_type": "code",
   "execution_count": 53,
   "id": "7c7306d9",
   "metadata": {},
   "outputs": [
    {
     "data": {
      "text/html": [
       "<div>\n",
       "<style scoped>\n",
       "    .dataframe tbody tr th:only-of-type {\n",
       "        vertical-align: middle;\n",
       "    }\n",
       "\n",
       "    .dataframe tbody tr th {\n",
       "        vertical-align: top;\n",
       "    }\n",
       "\n",
       "    .dataframe thead th {\n",
       "        text-align: right;\n",
       "    }\n",
       "</style>\n",
       "<table border=\"1\" class=\"dataframe\">\n",
       "  <thead>\n",
       "    <tr style=\"text-align: right;\">\n",
       "      <th></th>\n",
       "      <th>user_id</th>\n",
       "      <th>month</th>\n",
       "      <th>id</th>\n",
       "    </tr>\n",
       "  </thead>\n",
       "  <tbody>\n",
       "    <tr>\n",
       "      <th>0</th>\n",
       "      <td>1000</td>\n",
       "      <td>5</td>\n",
       "      <td>22</td>\n",
       "    </tr>\n",
       "    <tr>\n",
       "      <th>1</th>\n",
       "      <td>1000</td>\n",
       "      <td>6</td>\n",
       "      <td>60</td>\n",
       "    </tr>\n",
       "    <tr>\n",
       "      <th>2</th>\n",
       "      <td>1000</td>\n",
       "      <td>7</td>\n",
       "      <td>75</td>\n",
       "    </tr>\n",
       "    <tr>\n",
       "      <th>3</th>\n",
       "      <td>1000</td>\n",
       "      <td>8</td>\n",
       "      <td>81</td>\n",
       "    </tr>\n",
       "    <tr>\n",
       "      <th>4</th>\n",
       "      <td>1000</td>\n",
       "      <td>9</td>\n",
       "      <td>57</td>\n",
       "    </tr>\n",
       "  </tbody>\n",
       "</table>\n",
       "</div>"
      ],
      "text/plain": [
       "   user_id  month  id\n",
       "0     1000      5  22\n",
       "1     1000      6  60\n",
       "2     1000      7  75\n",
       "3     1000      8  81\n",
       "4     1000      9  57"
      ]
     },
     "execution_count": 53,
     "metadata": {},
     "output_type": "execute_result"
    }
   ],
   "source": [
    "df_messages_pivot.head()"
   ]
  },
  {
   "cell_type": "markdown",
   "id": "d0b763cd",
   "metadata": {},
   "source": [
    "Переименуем столбцы с помощью метода `rename()`. Выведем первые 5 строк таблицы."
   ]
  },
  {
   "cell_type": "code",
   "execution_count": 54,
   "id": "161d9f90",
   "metadata": {},
   "outputs": [
    {
     "data": {
      "text/html": [
       "<div>\n",
       "<style scoped>\n",
       "    .dataframe tbody tr th:only-of-type {\n",
       "        vertical-align: middle;\n",
       "    }\n",
       "\n",
       "    .dataframe tbody tr th {\n",
       "        vertical-align: top;\n",
       "    }\n",
       "\n",
       "    .dataframe thead th {\n",
       "        text-align: right;\n",
       "    }\n",
       "</style>\n",
       "<table border=\"1\" class=\"dataframe\">\n",
       "  <thead>\n",
       "    <tr style=\"text-align: right;\">\n",
       "      <th></th>\n",
       "      <th>user_id</th>\n",
       "      <th>month</th>\n",
       "      <th>message</th>\n",
       "    </tr>\n",
       "  </thead>\n",
       "  <tbody>\n",
       "    <tr>\n",
       "      <th>0</th>\n",
       "      <td>1000</td>\n",
       "      <td>5</td>\n",
       "      <td>22</td>\n",
       "    </tr>\n",
       "    <tr>\n",
       "      <th>1</th>\n",
       "      <td>1000</td>\n",
       "      <td>6</td>\n",
       "      <td>60</td>\n",
       "    </tr>\n",
       "    <tr>\n",
       "      <th>2</th>\n",
       "      <td>1000</td>\n",
       "      <td>7</td>\n",
       "      <td>75</td>\n",
       "    </tr>\n",
       "    <tr>\n",
       "      <th>3</th>\n",
       "      <td>1000</td>\n",
       "      <td>8</td>\n",
       "      <td>81</td>\n",
       "    </tr>\n",
       "    <tr>\n",
       "      <th>4</th>\n",
       "      <td>1000</td>\n",
       "      <td>9</td>\n",
       "      <td>57</td>\n",
       "    </tr>\n",
       "  </tbody>\n",
       "</table>\n",
       "</div>"
      ],
      "text/plain": [
       "   user_id  month  message\n",
       "0     1000      5       22\n",
       "1     1000      6       60\n",
       "2     1000      7       75\n",
       "3     1000      8       81\n",
       "4     1000      9       57"
      ]
     },
     "execution_count": 54,
     "metadata": {},
     "output_type": "execute_result"
    }
   ],
   "source": [
    "df_messages_pivot = df_messages_pivot.rename(columns={'id': 'message'})\n",
    "df_messages_pivot.head()"
   ]
  },
  {
   "cell_type": "markdown",
   "id": "aa5cb065",
   "metadata": {},
   "source": [
    "Сгруппируем датасет `df_internet` по месяцам, посчитаем сумму использованного трафика,округлим с помощью функции по правилам оператора, переведем в гигабайты и переименуем столбец с мегабайт на гигабайты."
   ]
  },
  {
   "cell_type": "code",
   "execution_count": 55,
   "id": "2a892599",
   "metadata": {},
   "outputs": [
    {
     "data": {
      "text/html": [
       "<div>\n",
       "<style scoped>\n",
       "    .dataframe tbody tr th:only-of-type {\n",
       "        vertical-align: middle;\n",
       "    }\n",
       "\n",
       "    .dataframe tbody tr th {\n",
       "        vertical-align: top;\n",
       "    }\n",
       "\n",
       "    .dataframe thead th {\n",
       "        text-align: right;\n",
       "    }\n",
       "</style>\n",
       "<table border=\"1\" class=\"dataframe\">\n",
       "  <thead>\n",
       "    <tr style=\"text-align: right;\">\n",
       "      <th></th>\n",
       "      <th>user_id</th>\n",
       "      <th>month</th>\n",
       "      <th>mb_used</th>\n",
       "    </tr>\n",
       "  </thead>\n",
       "  <tbody>\n",
       "    <tr>\n",
       "      <th>0</th>\n",
       "      <td>1000</td>\n",
       "      <td>5</td>\n",
       "      <td>2253.489990</td>\n",
       "    </tr>\n",
       "    <tr>\n",
       "      <th>1</th>\n",
       "      <td>1000</td>\n",
       "      <td>6</td>\n",
       "      <td>23233.769531</td>\n",
       "    </tr>\n",
       "    <tr>\n",
       "      <th>2</th>\n",
       "      <td>1000</td>\n",
       "      <td>7</td>\n",
       "      <td>14003.639648</td>\n",
       "    </tr>\n",
       "    <tr>\n",
       "      <th>3</th>\n",
       "      <td>1000</td>\n",
       "      <td>8</td>\n",
       "      <td>14055.929688</td>\n",
       "    </tr>\n",
       "    <tr>\n",
       "      <th>4</th>\n",
       "      <td>1000</td>\n",
       "      <td>9</td>\n",
       "      <td>14568.910156</td>\n",
       "    </tr>\n",
       "  </tbody>\n",
       "</table>\n",
       "</div>"
      ],
      "text/plain": [
       "   user_id  month       mb_used\n",
       "0     1000      5   2253.489990\n",
       "1     1000      6  23233.769531\n",
       "2     1000      7  14003.639648\n",
       "3     1000      8  14055.929688\n",
       "4     1000      9  14568.910156"
      ]
     },
     "execution_count": 55,
     "metadata": {},
     "output_type": "execute_result"
    }
   ],
   "source": [
    "df_internet_pivot = df_internet.pivot_table(index=['user_id','month'], values='mb_used', aggfunc='sum').reset_index()\n",
    "df_internet_pivot.head()"
   ]
  },
  {
   "cell_type": "code",
   "execution_count": 56,
   "id": "ad6c323c",
   "metadata": {},
   "outputs": [],
   "source": [
    "#создание столбца с трафиком в гигабайтах\n",
    "df_internet_pivot['gb_used'] = df_internet_pivot['mb_used'].map(lambda x: math.ceil(x/1024))"
   ]
  },
  {
   "cell_type": "markdown",
   "id": "70678521",
   "metadata": {},
   "source": [
    "Удалим ненужный нам столбец `mb_used`, выведем первые 5 строк таблицы."
   ]
  },
  {
   "cell_type": "code",
   "execution_count": 57,
   "id": "0ca77bf5",
   "metadata": {},
   "outputs": [
    {
     "data": {
      "text/html": [
       "<div>\n",
       "<style scoped>\n",
       "    .dataframe tbody tr th:only-of-type {\n",
       "        vertical-align: middle;\n",
       "    }\n",
       "\n",
       "    .dataframe tbody tr th {\n",
       "        vertical-align: top;\n",
       "    }\n",
       "\n",
       "    .dataframe thead th {\n",
       "        text-align: right;\n",
       "    }\n",
       "</style>\n",
       "<table border=\"1\" class=\"dataframe\">\n",
       "  <thead>\n",
       "    <tr style=\"text-align: right;\">\n",
       "      <th></th>\n",
       "      <th>user_id</th>\n",
       "      <th>month</th>\n",
       "      <th>gb_used</th>\n",
       "    </tr>\n",
       "  </thead>\n",
       "  <tbody>\n",
       "    <tr>\n",
       "      <th>0</th>\n",
       "      <td>1000</td>\n",
       "      <td>5</td>\n",
       "      <td>3</td>\n",
       "    </tr>\n",
       "    <tr>\n",
       "      <th>1</th>\n",
       "      <td>1000</td>\n",
       "      <td>6</td>\n",
       "      <td>23</td>\n",
       "    </tr>\n",
       "    <tr>\n",
       "      <th>2</th>\n",
       "      <td>1000</td>\n",
       "      <td>7</td>\n",
       "      <td>14</td>\n",
       "    </tr>\n",
       "    <tr>\n",
       "      <th>3</th>\n",
       "      <td>1000</td>\n",
       "      <td>8</td>\n",
       "      <td>14</td>\n",
       "    </tr>\n",
       "    <tr>\n",
       "      <th>4</th>\n",
       "      <td>1000</td>\n",
       "      <td>9</td>\n",
       "      <td>15</td>\n",
       "    </tr>\n",
       "  </tbody>\n",
       "</table>\n",
       "</div>"
      ],
      "text/plain": [
       "   user_id  month  gb_used\n",
       "0     1000      5        3\n",
       "1     1000      6       23\n",
       "2     1000      7       14\n",
       "3     1000      8       14\n",
       "4     1000      9       15"
      ]
     },
     "execution_count": 57,
     "metadata": {},
     "output_type": "execute_result"
    }
   ],
   "source": [
    "del df_internet_pivot['mb_used']\n",
    "df_internet_pivot.head()"
   ]
  },
  {
   "cell_type": "markdown",
   "id": "7a619e5b",
   "metadata": {},
   "source": [
    "Для дальнейших расчетов объединим три датасета `df_calls_pivot`, `df_messages_pivot`, `df_internet_pivot` с помощью `merge()`. Выведем первые 5 строк."
   ]
  },
  {
   "cell_type": "code",
   "execution_count": 58,
   "id": "7b90845f",
   "metadata": {},
   "outputs": [
    {
     "data": {
      "text/html": [
       "<div>\n",
       "<style scoped>\n",
       "    .dataframe tbody tr th:only-of-type {\n",
       "        vertical-align: middle;\n",
       "    }\n",
       "\n",
       "    .dataframe tbody tr th {\n",
       "        vertical-align: top;\n",
       "    }\n",
       "\n",
       "    .dataframe thead th {\n",
       "        text-align: right;\n",
       "    }\n",
       "</style>\n",
       "<table border=\"1\" class=\"dataframe\">\n",
       "  <thead>\n",
       "    <tr style=\"text-align: right;\">\n",
       "      <th></th>\n",
       "      <th>user_id</th>\n",
       "      <th>month</th>\n",
       "      <th>duration</th>\n",
       "      <th>count_calls</th>\n",
       "      <th>message</th>\n",
       "      <th>gb_used</th>\n",
       "    </tr>\n",
       "  </thead>\n",
       "  <tbody>\n",
       "    <tr>\n",
       "      <th>0</th>\n",
       "      <td>1000</td>\n",
       "      <td>5</td>\n",
       "      <td>159.0</td>\n",
       "      <td>22.0</td>\n",
       "      <td>22.0</td>\n",
       "      <td>3.0</td>\n",
       "    </tr>\n",
       "    <tr>\n",
       "      <th>1</th>\n",
       "      <td>1000</td>\n",
       "      <td>6</td>\n",
       "      <td>172.0</td>\n",
       "      <td>43.0</td>\n",
       "      <td>60.0</td>\n",
       "      <td>23.0</td>\n",
       "    </tr>\n",
       "    <tr>\n",
       "      <th>2</th>\n",
       "      <td>1000</td>\n",
       "      <td>7</td>\n",
       "      <td>340.0</td>\n",
       "      <td>47.0</td>\n",
       "      <td>75.0</td>\n",
       "      <td>14.0</td>\n",
       "    </tr>\n",
       "    <tr>\n",
       "      <th>3</th>\n",
       "      <td>1000</td>\n",
       "      <td>8</td>\n",
       "      <td>408.0</td>\n",
       "      <td>52.0</td>\n",
       "      <td>81.0</td>\n",
       "      <td>14.0</td>\n",
       "    </tr>\n",
       "    <tr>\n",
       "      <th>4</th>\n",
       "      <td>1000</td>\n",
       "      <td>9</td>\n",
       "      <td>466.0</td>\n",
       "      <td>58.0</td>\n",
       "      <td>57.0</td>\n",
       "      <td>15.0</td>\n",
       "    </tr>\n",
       "  </tbody>\n",
       "</table>\n",
       "</div>"
      ],
      "text/plain": [
       "   user_id  month  duration  count_calls  message  gb_used\n",
       "0     1000      5     159.0         22.0     22.0      3.0\n",
       "1     1000      6     172.0         43.0     60.0     23.0\n",
       "2     1000      7     340.0         47.0     75.0     14.0\n",
       "3     1000      8     408.0         52.0     81.0     14.0\n",
       "4     1000      9     466.0         58.0     57.0     15.0"
      ]
     },
     "execution_count": 58,
     "metadata": {},
     "output_type": "execute_result"
    }
   ],
   "source": [
    "df1_total = (df_calls_pivot.merge(df_messages_pivot, on=['user_id', 'month'], how='outer').\n",
    "     merge(df_internet_pivot, on=['user_id', 'month'], how='outer'))\n",
    "df1_total.head()"
   ]
  },
  {
   "cell_type": "markdown",
   "id": "dd7efb8e",
   "metadata": {},
   "source": [
    "Далее объединим полученный датасет с датасетом `df_users`. С датасета отберем столбцы, необходимые для исследования. Выведем первые 5 строк."
   ]
  },
  {
   "cell_type": "code",
   "execution_count": 59,
   "id": "9cedbb6d",
   "metadata": {},
   "outputs": [
    {
     "data": {
      "text/html": [
       "<div>\n",
       "<style scoped>\n",
       "    .dataframe tbody tr th:only-of-type {\n",
       "        vertical-align: middle;\n",
       "    }\n",
       "\n",
       "    .dataframe tbody tr th {\n",
       "        vertical-align: top;\n",
       "    }\n",
       "\n",
       "    .dataframe thead th {\n",
       "        text-align: right;\n",
       "    }\n",
       "</style>\n",
       "<table border=\"1\" class=\"dataframe\">\n",
       "  <thead>\n",
       "    <tr style=\"text-align: right;\">\n",
       "      <th></th>\n",
       "      <th>user_id</th>\n",
       "      <th>month</th>\n",
       "      <th>duration</th>\n",
       "      <th>count_calls</th>\n",
       "      <th>message</th>\n",
       "      <th>gb_used</th>\n",
       "      <th>tariff</th>\n",
       "      <th>city</th>\n",
       "    </tr>\n",
       "  </thead>\n",
       "  <tbody>\n",
       "    <tr>\n",
       "      <th>0</th>\n",
       "      <td>1000</td>\n",
       "      <td>5.0</td>\n",
       "      <td>159.0</td>\n",
       "      <td>22.0</td>\n",
       "      <td>22.0</td>\n",
       "      <td>3.0</td>\n",
       "      <td>ultra</td>\n",
       "      <td>Краснодар</td>\n",
       "    </tr>\n",
       "    <tr>\n",
       "      <th>1</th>\n",
       "      <td>1000</td>\n",
       "      <td>6.0</td>\n",
       "      <td>172.0</td>\n",
       "      <td>43.0</td>\n",
       "      <td>60.0</td>\n",
       "      <td>23.0</td>\n",
       "      <td>ultra</td>\n",
       "      <td>Краснодар</td>\n",
       "    </tr>\n",
       "    <tr>\n",
       "      <th>2</th>\n",
       "      <td>1000</td>\n",
       "      <td>7.0</td>\n",
       "      <td>340.0</td>\n",
       "      <td>47.0</td>\n",
       "      <td>75.0</td>\n",
       "      <td>14.0</td>\n",
       "      <td>ultra</td>\n",
       "      <td>Краснодар</td>\n",
       "    </tr>\n",
       "    <tr>\n",
       "      <th>3</th>\n",
       "      <td>1000</td>\n",
       "      <td>8.0</td>\n",
       "      <td>408.0</td>\n",
       "      <td>52.0</td>\n",
       "      <td>81.0</td>\n",
       "      <td>14.0</td>\n",
       "      <td>ultra</td>\n",
       "      <td>Краснодар</td>\n",
       "    </tr>\n",
       "    <tr>\n",
       "      <th>4</th>\n",
       "      <td>1000</td>\n",
       "      <td>9.0</td>\n",
       "      <td>466.0</td>\n",
       "      <td>58.0</td>\n",
       "      <td>57.0</td>\n",
       "      <td>15.0</td>\n",
       "      <td>ultra</td>\n",
       "      <td>Краснодар</td>\n",
       "    </tr>\n",
       "  </tbody>\n",
       "</table>\n",
       "</div>"
      ],
      "text/plain": [
       "   user_id  month  duration  count_calls  message  gb_used tariff       city\n",
       "0     1000    5.0     159.0         22.0     22.0      3.0  ultra  Краснодар\n",
       "1     1000    6.0     172.0         43.0     60.0     23.0  ultra  Краснодар\n",
       "2     1000    7.0     340.0         47.0     75.0     14.0  ultra  Краснодар\n",
       "3     1000    8.0     408.0         52.0     81.0     14.0  ultra  Краснодар\n",
       "4     1000    9.0     466.0         58.0     57.0     15.0  ultra  Краснодар"
      ]
     },
     "execution_count": 59,
     "metadata": {},
     "output_type": "execute_result"
    }
   ],
   "source": [
    "df2_total = df1_total.merge(df_users[['user_id','tariff','city']], on='user_id', how='outer')\n",
    "df2_total.head()"
   ]
  },
  {
   "cell_type": "markdown",
   "id": "bb6a3431",
   "metadata": {},
   "source": [
    "И наконец объединим полученный датасет с датасетом `df_tariffs`. Сперва для удобства дальнейших расчетов переведем столбец включенных в тариф количества мегабайт в гигабайты, переименуем столбец. Далее объединим таблицы. Выведем первые 5 строк."
   ]
  },
  {
   "cell_type": "code",
   "execution_count": 60,
   "id": "cd2f5940",
   "metadata": {},
   "outputs": [
    {
     "data": {
      "text/html": [
       "<div>\n",
       "<style scoped>\n",
       "    .dataframe tbody tr th:only-of-type {\n",
       "        vertical-align: middle;\n",
       "    }\n",
       "\n",
       "    .dataframe tbody tr th {\n",
       "        vertical-align: top;\n",
       "    }\n",
       "\n",
       "    .dataframe thead th {\n",
       "        text-align: right;\n",
       "    }\n",
       "</style>\n",
       "<table border=\"1\" class=\"dataframe\">\n",
       "  <thead>\n",
       "    <tr style=\"text-align: right;\">\n",
       "      <th></th>\n",
       "      <th>messages_included</th>\n",
       "      <th>gb_per_month_included</th>\n",
       "      <th>minutes_included</th>\n",
       "      <th>rub_monthly_fee</th>\n",
       "      <th>rub_per_gb</th>\n",
       "      <th>rub_per_message</th>\n",
       "      <th>rub_per_minute</th>\n",
       "      <th>tariff_name</th>\n",
       "    </tr>\n",
       "  </thead>\n",
       "  <tbody>\n",
       "    <tr>\n",
       "      <th>0</th>\n",
       "      <td>50</td>\n",
       "      <td>15</td>\n",
       "      <td>500</td>\n",
       "      <td>550</td>\n",
       "      <td>200</td>\n",
       "      <td>3</td>\n",
       "      <td>3</td>\n",
       "      <td>smart</td>\n",
       "    </tr>\n",
       "    <tr>\n",
       "      <th>1</th>\n",
       "      <td>1000</td>\n",
       "      <td>30</td>\n",
       "      <td>3000</td>\n",
       "      <td>1950</td>\n",
       "      <td>150</td>\n",
       "      <td>1</td>\n",
       "      <td>1</td>\n",
       "      <td>ultra</td>\n",
       "    </tr>\n",
       "  </tbody>\n",
       "</table>\n",
       "</div>"
      ],
      "text/plain": [
       "   messages_included  gb_per_month_included  minutes_included  \\\n",
       "0                 50                     15               500   \n",
       "1               1000                     30              3000   \n",
       "\n",
       "   rub_monthly_fee  rub_per_gb  rub_per_message  rub_per_minute tariff_name  \n",
       "0              550         200                3               3       smart  \n",
       "1             1950         150                1               1       ultra  "
      ]
     },
     "execution_count": 60,
     "metadata": {},
     "output_type": "execute_result"
    }
   ],
   "source": [
    "df_tariffs.mb_per_month_included = df_tariffs.mb_per_month_included / 1024\n",
    "df_tariffs = df_tariffs.rename(columns={'mb_per_month_included': 'gb_per_month_included'})\n",
    "df_tariffs.gb_per_month_included = df_tariffs.gb_per_month_included.astype('int')\n",
    "df_tariffs.head()"
   ]
  },
  {
   "cell_type": "code",
   "execution_count": 61,
   "id": "6ab311a2",
   "metadata": {},
   "outputs": [
    {
     "data": {
      "text/html": [
       "<div>\n",
       "<style scoped>\n",
       "    .dataframe tbody tr th:only-of-type {\n",
       "        vertical-align: middle;\n",
       "    }\n",
       "\n",
       "    .dataframe tbody tr th {\n",
       "        vertical-align: top;\n",
       "    }\n",
       "\n",
       "    .dataframe thead th {\n",
       "        text-align: right;\n",
       "    }\n",
       "</style>\n",
       "<table border=\"1\" class=\"dataframe\">\n",
       "  <thead>\n",
       "    <tr style=\"text-align: right;\">\n",
       "      <th></th>\n",
       "      <th>user_id</th>\n",
       "      <th>month</th>\n",
       "      <th>duration</th>\n",
       "      <th>count_calls</th>\n",
       "      <th>message</th>\n",
       "      <th>gb_used</th>\n",
       "      <th>tariff</th>\n",
       "      <th>city</th>\n",
       "      <th>messages_included</th>\n",
       "      <th>gb_per_month_included</th>\n",
       "      <th>minutes_included</th>\n",
       "      <th>rub_monthly_fee</th>\n",
       "      <th>rub_per_gb</th>\n",
       "      <th>rub_per_message</th>\n",
       "      <th>rub_per_minute</th>\n",
       "      <th>tariff_name</th>\n",
       "    </tr>\n",
       "  </thead>\n",
       "  <tbody>\n",
       "    <tr>\n",
       "      <th>0</th>\n",
       "      <td>1000</td>\n",
       "      <td>5.0</td>\n",
       "      <td>159.0</td>\n",
       "      <td>22.0</td>\n",
       "      <td>22.0</td>\n",
       "      <td>3.0</td>\n",
       "      <td>ultra</td>\n",
       "      <td>Краснодар</td>\n",
       "      <td>1000</td>\n",
       "      <td>30</td>\n",
       "      <td>3000</td>\n",
       "      <td>1950</td>\n",
       "      <td>150</td>\n",
       "      <td>1</td>\n",
       "      <td>1</td>\n",
       "      <td>ultra</td>\n",
       "    </tr>\n",
       "    <tr>\n",
       "      <th>1</th>\n",
       "      <td>1000</td>\n",
       "      <td>6.0</td>\n",
       "      <td>172.0</td>\n",
       "      <td>43.0</td>\n",
       "      <td>60.0</td>\n",
       "      <td>23.0</td>\n",
       "      <td>ultra</td>\n",
       "      <td>Краснодар</td>\n",
       "      <td>1000</td>\n",
       "      <td>30</td>\n",
       "      <td>3000</td>\n",
       "      <td>1950</td>\n",
       "      <td>150</td>\n",
       "      <td>1</td>\n",
       "      <td>1</td>\n",
       "      <td>ultra</td>\n",
       "    </tr>\n",
       "    <tr>\n",
       "      <th>2</th>\n",
       "      <td>1000</td>\n",
       "      <td>7.0</td>\n",
       "      <td>340.0</td>\n",
       "      <td>47.0</td>\n",
       "      <td>75.0</td>\n",
       "      <td>14.0</td>\n",
       "      <td>ultra</td>\n",
       "      <td>Краснодар</td>\n",
       "      <td>1000</td>\n",
       "      <td>30</td>\n",
       "      <td>3000</td>\n",
       "      <td>1950</td>\n",
       "      <td>150</td>\n",
       "      <td>1</td>\n",
       "      <td>1</td>\n",
       "      <td>ultra</td>\n",
       "    </tr>\n",
       "    <tr>\n",
       "      <th>3</th>\n",
       "      <td>1000</td>\n",
       "      <td>8.0</td>\n",
       "      <td>408.0</td>\n",
       "      <td>52.0</td>\n",
       "      <td>81.0</td>\n",
       "      <td>14.0</td>\n",
       "      <td>ultra</td>\n",
       "      <td>Краснодар</td>\n",
       "      <td>1000</td>\n",
       "      <td>30</td>\n",
       "      <td>3000</td>\n",
       "      <td>1950</td>\n",
       "      <td>150</td>\n",
       "      <td>1</td>\n",
       "      <td>1</td>\n",
       "      <td>ultra</td>\n",
       "    </tr>\n",
       "    <tr>\n",
       "      <th>4</th>\n",
       "      <td>1000</td>\n",
       "      <td>9.0</td>\n",
       "      <td>466.0</td>\n",
       "      <td>58.0</td>\n",
       "      <td>57.0</td>\n",
       "      <td>15.0</td>\n",
       "      <td>ultra</td>\n",
       "      <td>Краснодар</td>\n",
       "      <td>1000</td>\n",
       "      <td>30</td>\n",
       "      <td>3000</td>\n",
       "      <td>1950</td>\n",
       "      <td>150</td>\n",
       "      <td>1</td>\n",
       "      <td>1</td>\n",
       "      <td>ultra</td>\n",
       "    </tr>\n",
       "  </tbody>\n",
       "</table>\n",
       "</div>"
      ],
      "text/plain": [
       "   user_id  month  duration  count_calls  message  gb_used tariff       city  \\\n",
       "0     1000    5.0     159.0         22.0     22.0      3.0  ultra  Краснодар   \n",
       "1     1000    6.0     172.0         43.0     60.0     23.0  ultra  Краснодар   \n",
       "2     1000    7.0     340.0         47.0     75.0     14.0  ultra  Краснодар   \n",
       "3     1000    8.0     408.0         52.0     81.0     14.0  ultra  Краснодар   \n",
       "4     1000    9.0     466.0         58.0     57.0     15.0  ultra  Краснодар   \n",
       "\n",
       "   messages_included  gb_per_month_included  minutes_included  \\\n",
       "0               1000                     30              3000   \n",
       "1               1000                     30              3000   \n",
       "2               1000                     30              3000   \n",
       "3               1000                     30              3000   \n",
       "4               1000                     30              3000   \n",
       "\n",
       "   rub_monthly_fee  rub_per_gb  rub_per_message  rub_per_minute tariff_name  \n",
       "0             1950         150                1               1       ultra  \n",
       "1             1950         150                1               1       ultra  \n",
       "2             1950         150                1               1       ultra  \n",
       "3             1950         150                1               1       ultra  \n",
       "4             1950         150                1               1       ultra  "
      ]
     },
     "execution_count": 61,
     "metadata": {},
     "output_type": "execute_result"
    }
   ],
   "source": [
    "df_total = df2_total.merge(df_tariffs, how='outer', left_on='tariff', right_on='tariff_name')\n",
    "pd.set_option('display.max_columns', None)  # команда для полного отображения таблицы\n",
    "df_total.head()"
   ]
  },
  {
   "cell_type": "markdown",
   "id": "ae15cea9",
   "metadata": {},
   "source": [
    "Теперь посчитаем помесячную выручку с каждого пользователя. Для этого создадим функцию, которая будет вычитать бесплатный лимит из суммарного количества звонков, сообщений и интернет-трафика; остаток умножать на значение из тарифного плана; прибавлять абонентскую плату, соответствующую тарифному плану."
   ]
  },
  {
   "cell_type": "code",
   "execution_count": 62,
   "id": "517c924b",
   "metadata": {},
   "outputs": [],
   "source": [
    "def revenue_users(row):\n",
    "    revenue = row['rub_monthly_fee']\n",
    "    if row['duration'] > row['minutes_included']:\n",
    "        revenue += (row['duration'] - row['minutes_included']) * row['rub_per_minute']\n",
    "    if row['message'] > row['messages_included']:\n",
    "        revenue += (row['message'] - row['messages_included']) * row['rub_per_message']\n",
    "    if row['gb_used'] > row['gb_per_month_included']:\n",
    "        revenue += (row['gb_used'] - row['gb_per_month_included']) * row['rub_per_gb']\n",
    "    return revenue\n",
    "    "
   ]
  },
  {
   "cell_type": "markdown",
   "id": "018d20fb",
   "metadata": {},
   "source": [
    "С помощью созданной функции `revenue_users()` и метода `apply()` создадим столбец с помесячной выручкой каждого пользователя. Выведем первые 5 строк таблицы."
   ]
  },
  {
   "cell_type": "code",
   "execution_count": 63,
   "id": "b452fa46",
   "metadata": {},
   "outputs": [
    {
     "data": {
      "text/html": [
       "<div>\n",
       "<style scoped>\n",
       "    .dataframe tbody tr th:only-of-type {\n",
       "        vertical-align: middle;\n",
       "    }\n",
       "\n",
       "    .dataframe tbody tr th {\n",
       "        vertical-align: top;\n",
       "    }\n",
       "\n",
       "    .dataframe thead th {\n",
       "        text-align: right;\n",
       "    }\n",
       "</style>\n",
       "<table border=\"1\" class=\"dataframe\">\n",
       "  <thead>\n",
       "    <tr style=\"text-align: right;\">\n",
       "      <th></th>\n",
       "      <th>user_id</th>\n",
       "      <th>month</th>\n",
       "      <th>duration</th>\n",
       "      <th>count_calls</th>\n",
       "      <th>message</th>\n",
       "      <th>gb_used</th>\n",
       "      <th>tariff</th>\n",
       "      <th>city</th>\n",
       "      <th>messages_included</th>\n",
       "      <th>gb_per_month_included</th>\n",
       "      <th>minutes_included</th>\n",
       "      <th>rub_monthly_fee</th>\n",
       "      <th>rub_per_gb</th>\n",
       "      <th>rub_per_message</th>\n",
       "      <th>rub_per_minute</th>\n",
       "      <th>tariff_name</th>\n",
       "      <th>revenue_users</th>\n",
       "    </tr>\n",
       "  </thead>\n",
       "  <tbody>\n",
       "    <tr>\n",
       "      <th>0</th>\n",
       "      <td>1000</td>\n",
       "      <td>5.0</td>\n",
       "      <td>159.0</td>\n",
       "      <td>22.0</td>\n",
       "      <td>22.0</td>\n",
       "      <td>3.0</td>\n",
       "      <td>ultra</td>\n",
       "      <td>Краснодар</td>\n",
       "      <td>1000</td>\n",
       "      <td>30</td>\n",
       "      <td>3000</td>\n",
       "      <td>1950</td>\n",
       "      <td>150</td>\n",
       "      <td>1</td>\n",
       "      <td>1</td>\n",
       "      <td>ultra</td>\n",
       "      <td>1950.0</td>\n",
       "    </tr>\n",
       "    <tr>\n",
       "      <th>1</th>\n",
       "      <td>1000</td>\n",
       "      <td>6.0</td>\n",
       "      <td>172.0</td>\n",
       "      <td>43.0</td>\n",
       "      <td>60.0</td>\n",
       "      <td>23.0</td>\n",
       "      <td>ultra</td>\n",
       "      <td>Краснодар</td>\n",
       "      <td>1000</td>\n",
       "      <td>30</td>\n",
       "      <td>3000</td>\n",
       "      <td>1950</td>\n",
       "      <td>150</td>\n",
       "      <td>1</td>\n",
       "      <td>1</td>\n",
       "      <td>ultra</td>\n",
       "      <td>1950.0</td>\n",
       "    </tr>\n",
       "    <tr>\n",
       "      <th>2</th>\n",
       "      <td>1000</td>\n",
       "      <td>7.0</td>\n",
       "      <td>340.0</td>\n",
       "      <td>47.0</td>\n",
       "      <td>75.0</td>\n",
       "      <td>14.0</td>\n",
       "      <td>ultra</td>\n",
       "      <td>Краснодар</td>\n",
       "      <td>1000</td>\n",
       "      <td>30</td>\n",
       "      <td>3000</td>\n",
       "      <td>1950</td>\n",
       "      <td>150</td>\n",
       "      <td>1</td>\n",
       "      <td>1</td>\n",
       "      <td>ultra</td>\n",
       "      <td>1950.0</td>\n",
       "    </tr>\n",
       "    <tr>\n",
       "      <th>3</th>\n",
       "      <td>1000</td>\n",
       "      <td>8.0</td>\n",
       "      <td>408.0</td>\n",
       "      <td>52.0</td>\n",
       "      <td>81.0</td>\n",
       "      <td>14.0</td>\n",
       "      <td>ultra</td>\n",
       "      <td>Краснодар</td>\n",
       "      <td>1000</td>\n",
       "      <td>30</td>\n",
       "      <td>3000</td>\n",
       "      <td>1950</td>\n",
       "      <td>150</td>\n",
       "      <td>1</td>\n",
       "      <td>1</td>\n",
       "      <td>ultra</td>\n",
       "      <td>1950.0</td>\n",
       "    </tr>\n",
       "    <tr>\n",
       "      <th>4</th>\n",
       "      <td>1000</td>\n",
       "      <td>9.0</td>\n",
       "      <td>466.0</td>\n",
       "      <td>58.0</td>\n",
       "      <td>57.0</td>\n",
       "      <td>15.0</td>\n",
       "      <td>ultra</td>\n",
       "      <td>Краснодар</td>\n",
       "      <td>1000</td>\n",
       "      <td>30</td>\n",
       "      <td>3000</td>\n",
       "      <td>1950</td>\n",
       "      <td>150</td>\n",
       "      <td>1</td>\n",
       "      <td>1</td>\n",
       "      <td>ultra</td>\n",
       "      <td>1950.0</td>\n",
       "    </tr>\n",
       "  </tbody>\n",
       "</table>\n",
       "</div>"
      ],
      "text/plain": [
       "   user_id  month  duration  count_calls  message  gb_used tariff       city  \\\n",
       "0     1000    5.0     159.0         22.0     22.0      3.0  ultra  Краснодар   \n",
       "1     1000    6.0     172.0         43.0     60.0     23.0  ultra  Краснодар   \n",
       "2     1000    7.0     340.0         47.0     75.0     14.0  ultra  Краснодар   \n",
       "3     1000    8.0     408.0         52.0     81.0     14.0  ultra  Краснодар   \n",
       "4     1000    9.0     466.0         58.0     57.0     15.0  ultra  Краснодар   \n",
       "\n",
       "   messages_included  gb_per_month_included  minutes_included  \\\n",
       "0               1000                     30              3000   \n",
       "1               1000                     30              3000   \n",
       "2               1000                     30              3000   \n",
       "3               1000                     30              3000   \n",
       "4               1000                     30              3000   \n",
       "\n",
       "   rub_monthly_fee  rub_per_gb  rub_per_message  rub_per_minute tariff_name  \\\n",
       "0             1950         150                1               1       ultra   \n",
       "1             1950         150                1               1       ultra   \n",
       "2             1950         150                1               1       ultra   \n",
       "3             1950         150                1               1       ultra   \n",
       "4             1950         150                1               1       ultra   \n",
       "\n",
       "   revenue_users  \n",
       "0         1950.0  \n",
       "1         1950.0  \n",
       "2         1950.0  \n",
       "3         1950.0  \n",
       "4         1950.0  "
      ]
     },
     "execution_count": 63,
     "metadata": {},
     "output_type": "execute_result"
    }
   ],
   "source": [
    "df_total['revenue_users'] = df_total.apply(revenue_users, axis=1)\n",
    "df_total.head()"
   ]
  },
  {
   "cell_type": "markdown",
   "id": "14e3c81f",
   "metadata": {},
   "source": [
    "**Вывод**"
   ]
  },
  {
   "cell_type": "markdown",
   "id": "4f9dccdb",
   "metadata": {},
   "source": [
    "Для каждого пользователя мы подсчитали:\n",
    "- количество сделанных звонков и израсходованных минут разговора по месяцам;\n",
    "- количество отправленных сообщений по месяцам;\n",
    "- объем израсходованного интернет-трафика по месяцам;\n",
    "- помесячную выручку\n",
    "\n",
    "Объединили датасеты звонков, сообщений, интернет-трафика и тарифов в один датасет."
   ]
  },
  {
   "cell_type": "markdown",
   "id": "13700c4e",
   "metadata": {},
   "source": [
    "## 4. Анализ данных                                               <a id='intro5'></a>"
   ]
  },
  {
   "cell_type": "markdown",
   "id": "d5e6e4f0",
   "metadata": {},
   "source": [
    "Посмотрим поведение клиентов по двум тарифам исходя из выборки. Будем рассматривать такие показатели как - длительность разговоров в минутах, количество сообщений, объем интернет трафика по месяцам, количество пользователей каждого тарифа, количество совершенных звонков по тарифам и итоговая выручка. "
   ]
  },
  {
   "cell_type": "markdown",
   "id": "55b4f749",
   "metadata": {},
   "source": [
    "Сначала создадим два среза данных пользователей тарифов `Cмарт` и `Ультра`, последовательно будем анализировать все показатели сравнивая их по тарифам."
   ]
  },
  {
   "cell_type": "code",
   "execution_count": 64,
   "id": "d5db7766",
   "metadata": {},
   "outputs": [],
   "source": [
    "df_smart = df_total.query('tariff == \"smart\"')\n",
    "df_ultra = df_total.query('tariff == \"ultra\"')\n"
   ]
  },
  {
   "cell_type": "markdown",
   "id": "47273e55",
   "metadata": {},
   "source": [
    "Создадим два пустых датасета с тарифами в которым соберем все показатели, затем объединим их в один и сравним."
   ]
  },
  {
   "cell_type": "code",
   "execution_count": 65,
   "id": "d72377df",
   "metadata": {},
   "outputs": [],
   "source": [
    "df_smart_stat = pd.DataFrame({'tariff': ['smart']})\n",
    "df_ultra_stat = pd.DataFrame({'tariff': ['ultra']})"
   ]
  },
  {
   "cell_type": "markdown",
   "id": "a09a38ff",
   "metadata": {},
   "source": [
    "Напишем функцию, которая будет считать среднее, медиану, дисперсию и стандартное отклонение для длительности разговоров в минутах, количества сообщений и объема интернет трафика. Также с помощью функции рассчитаем итоговую выручку, количество пользователей каждого тарифа и количество совершенных звонков по тарифам. С помощью этой фунции создадим столбцы с данными в датасетах с тарифами, созданными выше."
   ]
  },
  {
   "cell_type": "code",
   "execution_count": 66,
   "id": "11e25b7a",
   "metadata": {},
   "outputs": [],
   "source": [
    "def stat(df1, df2):\n",
    "    df1['revenue_total'] = df2['revenue_users'].sum()\n",
    "    df1['count_calls'] = df2['count_calls'].count()\n",
    "    df1['users_number'] = df2.user_id.nunique()\n",
    "    for column in ['duration', 'message', 'gb_used']:\n",
    "        df1[f'mean_{column}'] = df2[column].mean()\n",
    "        df1[f'median_{column}'] = df2[column].median()\n",
    "        df1[f'var_{column}'] = np.var(df2[column], ddof=1)\n",
    "        df1[f'std_{column}'] = np.std(df2[column], ddof=1)\n",
    "\n",
    "stat(df_smart_stat, df_smart)\n",
    "stat(df_ultra_stat, df_ultra)\n"
   ]
  },
  {
   "cell_type": "markdown",
   "id": "4e6b0c31",
   "metadata": {},
   "source": [
    "Вывод датасета со статистикой тарифа `Смарт`."
   ]
  },
  {
   "cell_type": "code",
   "execution_count": 67,
   "id": "bb65781d",
   "metadata": {
    "scrolled": true
   },
   "outputs": [
    {
     "data": {
      "text/html": [
       "<div>\n",
       "<style scoped>\n",
       "    .dataframe tbody tr th:only-of-type {\n",
       "        vertical-align: middle;\n",
       "    }\n",
       "\n",
       "    .dataframe tbody tr th {\n",
       "        vertical-align: top;\n",
       "    }\n",
       "\n",
       "    .dataframe thead th {\n",
       "        text-align: right;\n",
       "    }\n",
       "</style>\n",
       "<table border=\"1\" class=\"dataframe\">\n",
       "  <thead>\n",
       "    <tr style=\"text-align: right;\">\n",
       "      <th></th>\n",
       "      <th>tariff</th>\n",
       "      <th>revenue_total</th>\n",
       "      <th>count_calls</th>\n",
       "      <th>users_number</th>\n",
       "      <th>mean_duration</th>\n",
       "      <th>median_duration</th>\n",
       "      <th>var_duration</th>\n",
       "      <th>std_duration</th>\n",
       "      <th>mean_message</th>\n",
       "      <th>median_message</th>\n",
       "      <th>var_message</th>\n",
       "      <th>std_message</th>\n",
       "      <th>mean_gb_used</th>\n",
       "      <th>median_gb_used</th>\n",
       "      <th>var_gb_used</th>\n",
       "      <th>std_gb_used</th>\n",
       "    </tr>\n",
       "  </thead>\n",
       "  <tbody>\n",
       "    <tr>\n",
       "      <th>0</th>\n",
       "      <td>smart</td>\n",
       "      <td>2875901.0</td>\n",
       "      <td>2223</td>\n",
       "      <td>351</td>\n",
       "      <td>419.062978</td>\n",
       "      <td>423.0</td>\n",
       "      <td>35844.189551</td>\n",
       "      <td>189.325618</td>\n",
       "      <td>38.716441</td>\n",
       "      <td>34.0</td>\n",
       "      <td>717.594201</td>\n",
       "      <td>26.787949</td>\n",
       "      <td>16.336176</td>\n",
       "      <td>17.0</td>\n",
       "      <td>32.923756</td>\n",
       "      <td>5.737923</td>\n",
       "    </tr>\n",
       "  </tbody>\n",
       "</table>\n",
       "</div>"
      ],
      "text/plain": [
       "  tariff  revenue_total  count_calls  users_number  mean_duration  \\\n",
       "0  smart      2875901.0         2223           351     419.062978   \n",
       "\n",
       "   median_duration  var_duration  std_duration  mean_message  median_message  \\\n",
       "0            423.0  35844.189551    189.325618     38.716441            34.0   \n",
       "\n",
       "   var_message  std_message  mean_gb_used  median_gb_used  var_gb_used  \\\n",
       "0   717.594201    26.787949     16.336176            17.0    32.923756   \n",
       "\n",
       "   std_gb_used  \n",
       "0     5.737923  "
      ]
     },
     "execution_count": 67,
     "metadata": {},
     "output_type": "execute_result"
    }
   ],
   "source": [
    "df_smart_stat"
   ]
  },
  {
   "cell_type": "markdown",
   "id": "7ceccbec",
   "metadata": {},
   "source": [
    "Вывод датасета со статистикой тарифа `Ультра`."
   ]
  },
  {
   "cell_type": "code",
   "execution_count": 68,
   "id": "df6e9559",
   "metadata": {},
   "outputs": [
    {
     "data": {
      "text/html": [
       "<div>\n",
       "<style scoped>\n",
       "    .dataframe tbody tr th:only-of-type {\n",
       "        vertical-align: middle;\n",
       "    }\n",
       "\n",
       "    .dataframe tbody tr th {\n",
       "        vertical-align: top;\n",
       "    }\n",
       "\n",
       "    .dataframe thead th {\n",
       "        text-align: right;\n",
       "    }\n",
       "</style>\n",
       "<table border=\"1\" class=\"dataframe\">\n",
       "  <thead>\n",
       "    <tr style=\"text-align: right;\">\n",
       "      <th></th>\n",
       "      <th>tariff</th>\n",
       "      <th>revenue_total</th>\n",
       "      <th>count_calls</th>\n",
       "      <th>users_number</th>\n",
       "      <th>mean_duration</th>\n",
       "      <th>median_duration</th>\n",
       "      <th>var_duration</th>\n",
       "      <th>std_duration</th>\n",
       "      <th>mean_message</th>\n",
       "      <th>median_message</th>\n",
       "      <th>var_message</th>\n",
       "      <th>std_message</th>\n",
       "      <th>mean_gb_used</th>\n",
       "      <th>median_gb_used</th>\n",
       "      <th>var_gb_used</th>\n",
       "      <th>std_gb_used</th>\n",
       "    </tr>\n",
       "  </thead>\n",
       "  <tbody>\n",
       "    <tr>\n",
       "      <th>0</th>\n",
       "      <td>ultra</td>\n",
       "      <td>2041050.0</td>\n",
       "      <td>951</td>\n",
       "      <td>149</td>\n",
       "      <td>545.451104</td>\n",
       "      <td>528.0</td>\n",
       "      <td>94203.418396</td>\n",
       "      <td>306.925754</td>\n",
       "      <td>61.161006</td>\n",
       "      <td>51.0</td>\n",
       "      <td>2109.659183</td>\n",
       "      <td>45.931026</td>\n",
       "      <td>19.694359</td>\n",
       "      <td>19.0</td>\n",
       "      <td>94.146734</td>\n",
       "      <td>9.702924</td>\n",
       "    </tr>\n",
       "  </tbody>\n",
       "</table>\n",
       "</div>"
      ],
      "text/plain": [
       "  tariff  revenue_total  count_calls  users_number  mean_duration  \\\n",
       "0  ultra      2041050.0          951           149     545.451104   \n",
       "\n",
       "   median_duration  var_duration  std_duration  mean_message  median_message  \\\n",
       "0            528.0  94203.418396    306.925754     61.161006            51.0   \n",
       "\n",
       "   var_message  std_message  mean_gb_used  median_gb_used  var_gb_used  \\\n",
       "0  2109.659183    45.931026     19.694359            19.0    94.146734   \n",
       "\n",
       "   std_gb_used  \n",
       "0     9.702924  "
      ]
     },
     "execution_count": 68,
     "metadata": {},
     "output_type": "execute_result"
    }
   ],
   "source": [
    "df_ultra_stat"
   ]
  },
  {
   "cell_type": "markdown",
   "id": "6c6922ba",
   "metadata": {},
   "source": [
    "Объединим полученные датасеты `df_smart_stat` и `df_ultra_stat` в один датасет с помощью `append()`. Транспонируем и выведем полученную таблицу."
   ]
  },
  {
   "cell_type": "code",
   "execution_count": 69,
   "id": "c67d5a80",
   "metadata": {},
   "outputs": [
    {
     "data": {
      "text/html": [
       "<div>\n",
       "<style scoped>\n",
       "    .dataframe tbody tr th:only-of-type {\n",
       "        vertical-align: middle;\n",
       "    }\n",
       "\n",
       "    .dataframe tbody tr th {\n",
       "        vertical-align: top;\n",
       "    }\n",
       "\n",
       "    .dataframe thead th {\n",
       "        text-align: right;\n",
       "    }\n",
       "</style>\n",
       "<table border=\"1\" class=\"dataframe\">\n",
       "  <thead>\n",
       "    <tr style=\"text-align: right;\">\n",
       "      <th></th>\n",
       "      <th>0</th>\n",
       "      <th>1</th>\n",
       "    </tr>\n",
       "  </thead>\n",
       "  <tbody>\n",
       "    <tr>\n",
       "      <th>tariff</th>\n",
       "      <td>smart</td>\n",
       "      <td>ultra</td>\n",
       "    </tr>\n",
       "    <tr>\n",
       "      <th>revenue_total</th>\n",
       "      <td>2875901.0</td>\n",
       "      <td>2041050.0</td>\n",
       "    </tr>\n",
       "    <tr>\n",
       "      <th>count_calls</th>\n",
       "      <td>2223</td>\n",
       "      <td>951</td>\n",
       "    </tr>\n",
       "    <tr>\n",
       "      <th>users_number</th>\n",
       "      <td>351</td>\n",
       "      <td>149</td>\n",
       "    </tr>\n",
       "    <tr>\n",
       "      <th>mean_duration</th>\n",
       "      <td>419.1</td>\n",
       "      <td>545.5</td>\n",
       "    </tr>\n",
       "    <tr>\n",
       "      <th>median_duration</th>\n",
       "      <td>423.0</td>\n",
       "      <td>528.0</td>\n",
       "    </tr>\n",
       "    <tr>\n",
       "      <th>var_duration</th>\n",
       "      <td>35844.2</td>\n",
       "      <td>94203.4</td>\n",
       "    </tr>\n",
       "    <tr>\n",
       "      <th>std_duration</th>\n",
       "      <td>189.3</td>\n",
       "      <td>306.9</td>\n",
       "    </tr>\n",
       "    <tr>\n",
       "      <th>mean_message</th>\n",
       "      <td>38.7</td>\n",
       "      <td>61.2</td>\n",
       "    </tr>\n",
       "    <tr>\n",
       "      <th>median_message</th>\n",
       "      <td>34.0</td>\n",
       "      <td>51.0</td>\n",
       "    </tr>\n",
       "    <tr>\n",
       "      <th>var_message</th>\n",
       "      <td>717.6</td>\n",
       "      <td>2109.7</td>\n",
       "    </tr>\n",
       "    <tr>\n",
       "      <th>std_message</th>\n",
       "      <td>26.8</td>\n",
       "      <td>45.9</td>\n",
       "    </tr>\n",
       "    <tr>\n",
       "      <th>mean_gb_used</th>\n",
       "      <td>16.3</td>\n",
       "      <td>19.7</td>\n",
       "    </tr>\n",
       "    <tr>\n",
       "      <th>median_gb_used</th>\n",
       "      <td>17.0</td>\n",
       "      <td>19.0</td>\n",
       "    </tr>\n",
       "    <tr>\n",
       "      <th>var_gb_used</th>\n",
       "      <td>32.9</td>\n",
       "      <td>94.1</td>\n",
       "    </tr>\n",
       "    <tr>\n",
       "      <th>std_gb_used</th>\n",
       "      <td>5.7</td>\n",
       "      <td>9.7</td>\n",
       "    </tr>\n",
       "  </tbody>\n",
       "</table>\n",
       "</div>"
      ],
      "text/plain": [
       "                        0         1\n",
       "tariff              smart     ultra\n",
       "revenue_total   2875901.0 2041050.0\n",
       "count_calls          2223       951\n",
       "users_number          351       149\n",
       "mean_duration       419.1     545.5\n",
       "median_duration     423.0     528.0\n",
       "var_duration      35844.2   94203.4\n",
       "std_duration        189.3     306.9\n",
       "mean_message         38.7      61.2\n",
       "median_message       34.0      51.0\n",
       "var_message         717.6    2109.7\n",
       "std_message          26.8      45.9\n",
       "mean_gb_used         16.3      19.7\n",
       "median_gb_used       17.0      19.0\n",
       "var_gb_used          32.9      94.1\n",
       "std_gb_used           5.7       9.7"
      ]
     },
     "execution_count": 69,
     "metadata": {},
     "output_type": "execute_result"
    }
   ],
   "source": [
    "df_tarif_stat = df_smart_stat.append(df_ultra_stat, ignore_index=True)\n",
    "pd.options.display.float_format ='{:.1f}'.format # округлим все значения до целых чисел\n",
    "df_tarif_stat.T\n"
   ]
  },
  {
   "cell_type": "markdown",
   "id": "34d005b2",
   "metadata": {},
   "source": [
    "Судя по полученной нами таблице видим:\n",
    "- общая выручка на тарифе `Смарт` - 2875901 рублей, что существенно превышает общую выручку с тарифа `Ультра` - 2041050 рублей.\n",
    "- общее количество звонков, совершенное пользователями на тарифе `Смарт` составляет примерно `2/3` от всех звонков - `2223`, `951` звонок на тарифе `Ультра`\n",
    "- также примерно `2/3` пользователей из `500` используют тариф `Смарт` - `351`, `1/3` тариф `Ультра` - `149`.  \n",
    "- cредняя длительность звонков в месяц на тарифе `Ультра` составляет `545.5` минут, это прилично больше средней длительности на тарифе `Смарт` - `419.1` минут.\n",
    "- дисперсия и стандартное отклонение длительности звонков тарифа `Ультра` соответственно `94203.4` и `306.9` гораздо больше дисперсии и стандартного отклонения длительности звонков на тарифе `Смарт`- `35844.2` и `189.3`. Это говорит о более широком разбросе значений от среднего на тарифе `Ультра`\n",
    "- среднее количество сообщений, отправленных пользователями тарифа `Ультра` - `61.2` прилично превышает среднее количество сообщений тарифа `Смарт` - `38.7`\n",
    "- дисперсия и стандартное отклонение количества сообщений на тарифе `Ультра` соответственно `2109.7` и `45.9` гораздо больше дисперсии и стандартного отклонения количества сообщений на тарифе `Смарт`- `717.6` и `26.8`. Это также как и с распределением длительности звонков говорит о более широком разбросе значений от среднего на тарифе `Ультра`\n",
    "- средний объем интернет-трафика, используемый пользователями тарифа `Ультра` - `19.7` Gb достаточно близок к среднему объему трафика на тарифе `Смарт` - `16.3` Gb\n",
    "- дисперсия и стандартное отклонение объема интернет-трафика на тарифе `Ультра` соответственно `94.1` и `9.7` как и в случаях с длительностью звонков и количеством сообщений гораздо больше дисперсии и стандартного отклонения объема интернет-трафика на тарифе `Смарт`- `32.9` и `5.7`. И это говорит о более широком разбросе значений от среднего на тарифе `Ультра` по сравнению с тарифом `Смарт`."
   ]
  },
  {
   "cell_type": "markdown",
   "id": "cceb76a3",
   "metadata": {},
   "source": [
    "С помощью цикла построим гистрограммы распределения длительности разговоров, количества сообщений и объема интернет-трафика по тарифам `Cмарт` и `Ультра` и посмотрим распределения на них."
   ]
  },
  {
   "cell_type": "code",
   "execution_count": 70,
   "id": "de15f604",
   "metadata": {
    "scrolled": false
   },
   "outputs": [
    {
     "data": {
      "image/png": "[encoded data removed]",
      "text/plain": [
       "<Figure size 504x504 with 1 Axes>"
      ]
     },
     "metadata": {
      "needs_background": "light"
     },
     "output_type": "display_data"
    },
    {
     "data": {
      "image/png": "[encoded data removed]",
      "text/plain": [
       "<Figure size 504x504 with 1 Axes>"
      ]
     },
     "metadata": {
      "needs_background": "light"
     },
     "output_type": "display_data"
    },
    {
     "data": {
      "image/png": "[encoded data removed]",
      "text/plain": [
       "<Figure size 504x504 with 1 Axes>"
      ]
     },
     "metadata": {
      "needs_background": "light"
     },
     "output_type": "display_data"
    }
   ],
   "source": [
    "for column in ['duration', 'message', 'gb_used']:\n",
    "    hist1 = df_smart[column]\n",
    "    hist2 = df_ultra[column]\n",
    "    fig, ax = plt.subplots(figsize=(7,7))\n",
    "    ax.hist(hist1, alpha=0.5, label='smart')\n",
    "    ax.hist(hist2, alpha=0.6, label='ultra')\n",
    "    ax.legend()\n",
    "    plt.title(f'hist_{column}', fontsize=14)\n",
    "    plt.xlabel(column, fontsize=14)   \n",
    "    plt.ylabel('frequency(шт)', fontsize=14);"
   ]
  },
  {
   "cell_type": "markdown",
   "id": "015a8712",
   "metadata": {},
   "source": [
    "На гистограммах длительности звонков и объема интернет-трафика обоих тарифов видим в целом нормальное распределение. Длительность звонков тарифа `Ультра` немного скошена вправо, это понятно и потому, что среднее немного, но больше медианы. Распределение количества сообщений на обоих тарифах прилично скошено вправо. Здесь среднее больше медианы. Все гистограммы тарифа `Ультра` также как и полученные выше дисперсии говорят нам о более широком разбросе значений по используемым средней длительности звонков, среднего количества сообщений и среднего объема интернет-трафика, иначе говоря пользователи более свободно пользуются услугами, в использовании услуг они отличаются от пользователей тарифа `Смарт`, где объем услуг в рамках абонентской платы существенно меньше. "
   ]
  },
  {
   "cell_type": "markdown",
   "id": "9cfeb803",
   "metadata": {},
   "source": [
    "**Вывод**"
   ]
  },
  {
   "cell_type": "markdown",
   "id": "419c25d8",
   "metadata": {},
   "source": [
    "Мы провели анализ поведения пользователей по двум тарифам исходя из выборки.  \n",
    "По полученным данным выяснили, что количество клиентов использующих тариф `Смарт` более чем в два раза превышает количество клиентов, использующих тариф `Ультра`, 351 против 149.  \n",
    "Общая выручка на тарифе `Смарт` -  2875901 рублей существенно превышает общую выручку от тарифа `Ультра` - 2041050 рублей, большинство пользователей использует тариф `Смарт`, это объяснимо, его абонентская плата 550 рублей за месяц  существенно ниже платы за месяц на тарифе `Ультра` 1950 рублей.   \n",
    "Также мы видим что в среднем на тарифе `Смарт` пользователи укладываются в лимиты звонков(средняя длительность звонков - 419.1 мин), сообщений(среднее количество - 38.7) и интернет-трафика(средний объем - 16.3 Гб). Но в то же время существенной доли пользователей объемов услуг не хватает и они пользуются услагами сверх лимита. Какие то пользователи кому не хватает бесплатных лимитов тарифа `Смарт`, используют тариф `Ультра`. По полученным данным можно увидеть что в среднем они больше пользуются услугами связи: средняя длительность звонков - 545.5 мин; среднее количество сообщений - 61.2; средний объем интернет-трафика - 19.7 Гб. Возможности этого тарифа гораздо шире и разброс значений длительности звонков, количества сообщений и объема интернет-трафика здесь шире чем на тарифе `Смарт`. Также можно заметить, что клиенты тарифа `Ультра` в среднем используют объем звонков и сообщений существенно меньше верхней границы лимита, а вот объема интернет-трафика определенной доли клиентов не хватает. "
   ]
  },
  {
   "cell_type": "markdown",
   "id": "a50b4943",
   "metadata": {},
   "source": [
    "## 5. Проверка гипотез                                               <a id='intro6'></a>"
   ]
  },
  {
   "cell_type": "markdown",
   "id": "8b3ab91b",
   "metadata": {},
   "source": [
    "1. Проверим гипотезу что средняя выручка пользователей тарифов `Ультра` и `Смарт` различается."
   ]
  },
  {
   "cell_type": "markdown",
   "id": "f8db20d3",
   "metadata": {},
   "source": [
    "Выше мы уже создали два среза данных с выборками пользователей тарифа `Ультра` - `df_ultra` и тарифа `Смарт` - `df_smart`. Для того чтобы уточнить критерий проверки гипотез с помощью графиков посмотрим на распределение данных."
   ]
  },
  {
   "cell_type": "code",
   "execution_count": 71,
   "id": "bb79c61b",
   "metadata": {},
   "outputs": [
    {
     "data": {
      "image/png": "[encoded data removed]",
      "text/plain": [
       "<Figure size 864x576 with 2 Axes>"
      ]
     },
     "metadata": {
      "needs_background": "light"
     },
     "output_type": "display_data"
    }
   ],
   "source": [
    "plt.figure(figsize=(12,8))\n",
    "plt.subplot(2,2,1)\n",
    "st.probplot(df_ultra['revenue_users'], dist=\"norm\", plot=plt)\n",
    "plt.subplot(2,2,2)\n",
    "st.probplot(df_smart['revenue_users'], dist=\"norm\", plot=plt)\n",
    "plt.show()"
   ]
  },
  {
   "cell_type": "markdown",
   "id": "9b1904e5",
   "metadata": {},
   "source": [
    "Графики показывают ненормальное распределение и на первый взгляд нам не подходит параметрический критерий Стьюдента. Но согласно ЦПТ, если в выборке много наблюдений, распределение будет стремится к нормальному. Значит мы можем использовать критерий Стьюдента. "
   ]
  },
  {
   "cell_type": "markdown",
   "id": "5e201922",
   "metadata": {},
   "source": [
    "<p>Введем основную и альтернативные гипотезы:</p>\n",
    "\n",
    "H₀ сформулируем так, чтобы использовать знак равенства. Другими словами, чтобы все данные лежали в районе изначально предполагаемого значения.Исходя из H₀ сформулируем альтернативную гипотезу H₁. Это утверждение, которое принимается верным, если отбрасывается H₀.\n",
    "\n",
    "\n",
    "$\\begin{equation*}\n",
    " \\begin{cases}\n",
    "   H_0 :\\text{Средние выручки пользователей тарифов 'Ультра' и 'Смарт' равны}\\\\\n",
    "   H_1 :\\text{Средние выручки пользователей тарифов 'Ультра' и 'Смарт' отличаются}\n",
    " \\end{cases}\n",
    "\\end{equation*}$\n",
    "\n",
    "Уровень значимости: $\\alpha = 0.05$\n",
    "\n",
    "Посчитаем `p-value`, используя `ttest` из библиотеки `scipy` для сравнения средних двух выборок.\n",
    "\n",
    "Если `p-value` будет меньше выбранного уровня значимости $\\alpha = 0.05$, то нулевую гипотезу о равенстве средних отвергнем. Иначе сделаем вывод, что данные не позволили нам отвергнуть нулевую гипотезу."
   ]
  },
  {
   "cell_type": "markdown",
   "id": "4d3f1642",
   "metadata": {},
   "source": [
    "Применим метод `ttest_ind` к выручкам тарифов `Ультра` и `Смарт` для независимых выборок."
   ]
  },
  {
   "cell_type": "code",
   "execution_count": 72,
   "id": "df999361",
   "metadata": {},
   "outputs": [
    {
     "name": "stdout",
     "output_type": "stream",
     "text": [
      "p-значение:  1.927011394420941e-250\n",
      "Отвергаем нулевую гипотезу\n"
     ]
    }
   ],
   "source": [
    "results = st.ttest_ind(df_ultra['revenue_users'], df_smart['revenue_users'], equal_var=False)\n",
    "print('p-значение: ', results.pvalue)\n",
    "alpha = .05 # критический уровень статистической значимости\n",
    "# если p-value окажется меньше него - отвергаем гипотезу\n",
    "\n",
    "\n",
    "if (results.pvalue < alpha):\n",
    "    print(\"Отвергаем нулевую гипотезу\")\n",
    "else:\n",
    "    print(\"Не получилось отвергнуть нулевую гипотезу\")"
   ]
  },
  {
   "cell_type": "code",
   "execution_count": 73,
   "id": "622f67e5",
   "metadata": {},
   "outputs": [
    {
     "name": "stdout",
     "output_type": "stream",
     "text": [
      "Средняя выручка пользователей тарифа \"Ультра\": 2070.030425963489\n",
      "Средняя выручка пользователей тарифа \"Смарт\": 1289.6417040358745\n"
     ]
    }
   ],
   "source": [
    "print(f'Средняя выручка пользователей тарифа \"Ультра\": {df_ultra.revenue_users.mean()}')\n",
    "print(f'Средняя выручка пользователей тарифа \"Смарт\": {df_smart.revenue_users.mean()}')\n"
   ]
  },
  {
   "cell_type": "markdown",
   "id": "a7e45999",
   "metadata": {},
   "source": [
    "Итак, `p-value` получилось меньше выбранного уровня $\\alpha = 0.05$. Отвергаем нулевую гипотезу - средние выручки пользователей тарифов 'Ультра' и 'Смарт' отличаются."
   ]
  },
  {
   "cell_type": "markdown",
   "id": "30b7f6f6",
   "metadata": {},
   "source": [
    "2. Проверим гипотезу что средняя выручка пользователей из Москвы отличается от выручки пользователей из других регионов."
   ]
  },
  {
   "cell_type": "markdown",
   "id": "9daf98b0",
   "metadata": {},
   "source": [
    "Создадим срезы данных с пользователями из Москвы и с пользователями из других регионов с помощью `query`."
   ]
  },
  {
   "cell_type": "code",
   "execution_count": 74,
   "id": "ebae4e66",
   "metadata": {},
   "outputs": [],
   "source": [
    "df_moskow = df_total.query('city == \"Москва\"')\n",
    "df_regions = df_total.query('city != \"Москва\"')"
   ]
  },
  {
   "cell_type": "markdown",
   "id": "87c8bb73",
   "metadata": {},
   "source": [
    "Для того чтобы уточнить критерий проверки гипотез с помощью графиков посмотрим на распределение данных в датасетах с пользователями из Москвы `df_moskow` и датасетом со пользователями из других регионов `df_regions`."
   ]
  },
  {
   "cell_type": "code",
   "execution_count": 75,
   "id": "08468f66",
   "metadata": {},
   "outputs": [
    {
     "data": {
      "image/png": "[encoded data removed]",
      "text/plain": [
       "<Figure size 864x576 with 2 Axes>"
      ]
     },
     "metadata": {
      "needs_background": "light"
     },
     "output_type": "display_data"
    }
   ],
   "source": [
    "plt.figure(figsize=(12,8))\n",
    "plt.subplot(2,2,1)\n",
    "st.probplot(df_moskow['revenue_users'], dist=\"norm\", plot=plt)\n",
    "plt.subplot(2,2,2)\n",
    "st.probplot(df_regions['revenue_users'], dist=\"norm\", plot=plt);"
   ]
  },
  {
   "cell_type": "markdown",
   "id": "8f1170d5",
   "metadata": {},
   "source": [
    "Графики показывают ненормальное распределение, нам не подходит параметрический критерий Стьюдента. Но согласно ЦПТ, если в выборке много наблюдений, распределение будет стремится к нормальному. Значит мы можем использовать критерий Стьюдента. "
   ]
  },
  {
   "cell_type": "markdown",
   "id": "a868df20",
   "metadata": {},
   "source": [
    "<p>Введем основную и альтернативные гипотезы:</p>\n",
    "\n",
    "H₀ сформулируем так, чтобы использовать знак равенства. Другими словами, чтобы все данные лежали в районе изначально предполагаемого значения.Исходя из H₀ сформулируем альтернативную гипотезу H₁. Это утверждение, которое принимается верным, если отбрасывается H₀.\n",
    "\n",
    "\n",
    "$\\begin{equation*}\n",
    " \\begin{cases}\n",
    "   H_0 :\\text{Средние выручки пользователей из Москвы и пользователей из других регионов равны}\\\\\n",
    "   H_1 :\\text{Средние выручки пользователей из Москвы и пользователей из других регионов отличаются}\n",
    " \\end{cases}\n",
    "\\end{equation*}$\n",
    "\n",
    "Уровень значимости: $\\alpha = 0.05$\n",
    "\n",
    "Посчитаем `p-value`, используя `ttest` из библиотеки `scipy` для сравнения средних двух выборок.\n",
    "\n",
    "Если `p-value` будет меньше выбранного уровня значимости $\\alpha = 0.05$, то нулевую гипотезу о равенстве средних отвергнем. Иначе сделаем вывод, что данные не позволили нам отвергнуть нулевую гипотезу."
   ]
  },
  {
   "cell_type": "markdown",
   "id": "dd911aa3",
   "metadata": {},
   "source": [
    "Выполним расчет для выручек пользователей из Москвы и всех пользователей.\n",
    "Здесь точно также применим метод `scipy.stats.ttest_ind()` для независимых выборок."
   ]
  },
  {
   "cell_type": "code",
   "execution_count": 76,
   "id": "f4484052",
   "metadata": {},
   "outputs": [
    {
     "name": "stdout",
     "output_type": "stream",
     "text": [
      "p-значение:  0.5216952110000278\n",
      "Не получилось отвергнуть нулевую гипотезу\n"
     ]
    }
   ],
   "source": [
    "results = st.ttest_ind(df_moskow['revenue_users'], df_regions['revenue_users'], equal_var=False)\n",
    "print('p-значение: ', results.pvalue)\n",
    "alpha = .05 # критический уровень статистической значимости\n",
    "# если p-value окажется меньше него - отвергаем гипотезу\n",
    "\n",
    "\n",
    "if (results.pvalue < alpha):\n",
    "    print(\"Отвергаем нулевую гипотезу\")\n",
    "else:\n",
    "    print(\"Не получилось отвергнуть нулевую гипотезу\")"
   ]
  },
  {
   "cell_type": "code",
   "execution_count": 77,
   "id": "2535890f",
   "metadata": {},
   "outputs": [
    {
     "name": "stdout",
     "output_type": "stream",
     "text": [
      "Средняя выручка пользователей из Москвы: 1546.7135842880523\n",
      "Средняя выручка пользователей не из Москвы: 1524.7251439539348\n"
     ]
    }
   ],
   "source": [
    "print(f'Средняя выручка пользователей из Москвы: {df_moskow.revenue_users.mean()}')\n",
    "print(f'Средняя выручка пользователей не из Москвы: {df_regions.revenue_users.mean()}')\n"
   ]
  },
  {
   "cell_type": "markdown",
   "id": "2f5c1fc9",
   "metadata": {},
   "source": [
    "Итак, `p-value` получилось больше выбранного уровня $\\alpha = 0.05$. Данные не позволили нам отвергнуть нулевую гипотезу - средние выручки пользователей из Москвы и пользователей из других регионов равны."
   ]
  },
  {
   "cell_type": "markdown",
   "id": "e41c7713",
   "metadata": {},
   "source": [
    "**Вывод**"
   ]
  },
  {
   "cell_type": "markdown",
   "id": "42907ee1",
   "metadata": {},
   "source": [
    "Мы проверили две гипотезы:\n",
    "- отвергнули нулевую гипотезу - средние выручки пользователей тарифов 'Ультра' и 'Смарт' отличаются (2070.03 против 1289.64), т.к. `p-value` получилось меньше выбранного уровня 0.05\n",
    "- данные не позволили нам отвергнуть нулевую гипотезу - средние выручки пользователей из Москвы и пользователей из других регионов равны (1546.7 и 1524.7), т.к. `p-value` получилось больше выбранного уровня 0.05"
   ]
  },
  {
   "cell_type": "markdown",
   "id": "64161d92",
   "metadata": {},
   "source": [
    "## Общий вывод                                                                                    <a id='intro7'></a>"
   ]
  },
  {
   "cell_type": "markdown",
   "id": "e82deb86",
   "metadata": {},
   "source": [
    "На основании полученных данных о пользователях двух тарифов «Смарт» и «Ультра» оператора сотовой связи мы изучили общую информацию о данных.  \n",
    "В данных была произведена предобработка: \n",
    "- произведена замена типа данных для более удобного анализа и экономии памяти;\n",
    "- поиск дубликатов в строках;\n",
    "\n",
    "Рассчитали и добавили в таблицу несколько новых столбцов с параметрами, необходимыми для анализа.\n",
    "\n",
    "Провели анализ поведения пользователей:\n",
    "- Общая выручка на тарифе `Смарт` -  2875901 рублей существенно превышает общую выручку от тарифа `Ультра` - 2041050 рублей, большинство пользователей - 351 человек использует тариф `Смарт`, его абонентская плата 550 рублей за месяц  существенно ниже платы за месяц на тарифе `Ультра` 1950 рублей, который использует 149 человек.  Также мы узнали, что в среднем на тарифе `Смарт` пользователи укладываются в лимиты звонков(средняя длительность звонков - 419.1 мин), сообщений(среднее количество - 38.7) и интернет-трафика(средний объем - 16.3 Гб). Но существует большая доля пользователей, которым объема услуг не хватает и они используют услуги сверх лимита. Расчет средней выручки показал что клиенты тарифа `Смарт` переплачивают в среднем 740 рублей за услуги.  \n",
    "- Клиенты использующие тариф `Ультра` в среднем больше пользуются услугами связи: средняя длительность звонков - 545.5 мин; среднее количество сообщений - 61.2; средний объем интернет-трафика - 19.7 Гб. Абсолютному большинству клиентов этого тарифа не требуется количество минут и сообщений, которое присутствует в пакете, а вот объема интернет-трафика некоторой доли пользователей не хватает. Возможно тариф стоит переработать в сторону уменьшения порогов количества минут и сообщений и увеличения объема интернет-трафика. Это может привлечь дополнительных клиентов.\n",
    "\n",
    "Проверили две гипотезы:\n",
    "- отвергнули нулевую гипотезу - средние выручки пользователей тарифов 'Ультра' и 'Смарт' отличаются(2070.03 против 1289.64), т.к. `p-value` получилось меньше выбранного уровня 0.05\n",
    "- данные не позволили нам отвергнуть нулевую гипотезу - средние выручки пользователей из Москвы и пользователей из других регионов равны(1546.7 и 1524.7), т.к. `p-value` получилось больше выбранного уровня 0.05\n",
    "\n",
    "В итоге, данные нам говорят о том, что тариф `Ультра` более прибыльный для компании чем тариф `Смарт`, несмотря на то что исходя из выборки его выбирает мешьшее количество клиентов прибыль от одного клиента с этого тарифа заметно выше. Плюс у этого тарифа есть потенциал для изменения и расширения услуг."
   ]
  }
 ],
 "metadata": {
  "ExecuteTimeLog": [
   {
    "duration": 1868,
    "start_time": "2022-02-03T17:04:05.569Z"
   },
   {
    "duration": 34,
    "start_time": "2022-02-03T17:04:07.440Z"
   },
   {
    "duration": 20,
    "start_time": "2022-02-03T17:04:07.483Z"
   },
   {
    "duration": 9,
    "start_time": "2022-02-03T17:04:07.506Z"
   },
   {
    "duration": 58,
    "start_time": "2022-02-03T17:04:07.518Z"
   },
   {
    "duration": 225,
    "start_time": "2022-02-03T17:04:07.578Z"
   },
   {
    "duration": 13,
    "start_time": "2022-02-03T17:04:07.806Z"
   },
   {
    "duration": 55,
    "start_time": "2022-02-03T17:04:07.824Z"
   },
   {
    "duration": 37,
    "start_time": "2022-02-03T17:04:07.882Z"
   },
   {
    "duration": 139,
    "start_time": "2022-02-03T17:04:07.921Z"
   },
   {
    "duration": 12,
    "start_time": "2022-02-03T17:04:08.062Z"
   },
   {
    "duration": 25,
    "start_time": "2022-02-03T17:04:08.077Z"
   },
   {
    "duration": 55,
    "start_time": "2022-02-03T17:04:08.106Z"
   },
   {
    "duration": 242,
    "start_time": "2022-02-03T17:04:08.164Z"
   },
   {
    "duration": 15,
    "start_time": "2022-02-03T17:04:08.409Z"
   },
   {
    "duration": 40,
    "start_time": "2022-02-03T17:04:08.429Z"
   },
   {
    "duration": 37,
    "start_time": "2022-02-03T17:04:08.471Z"
   },
   {
    "duration": 18,
    "start_time": "2022-02-03T17:04:08.510Z"
   },
   {
    "duration": 38,
    "start_time": "2022-02-03T17:04:08.531Z"
   },
   {
    "duration": 15,
    "start_time": "2022-02-03T17:04:08.572Z"
   },
   {
    "duration": 24,
    "start_time": "2022-02-03T17:04:08.589Z"
   },
   {
    "duration": 378,
    "start_time": "2022-02-03T17:04:08.615Z"
   },
   {
    "duration": 109,
    "start_time": "2022-02-03T17:04:09.001Z"
   },
   {
    "duration": 75,
    "start_time": "2022-02-03T17:04:09.114Z"
   },
   {
    "duration": 19,
    "start_time": "2022-02-03T17:04:09.192Z"
   },
   {
    "duration": 218,
    "start_time": "2022-02-03T17:04:09.214Z"
   },
   {
    "duration": 216,
    "start_time": "2022-02-03T17:04:09.435Z"
   },
   {
    "duration": 91,
    "start_time": "2022-02-03T17:04:09.654Z"
   },
   {
    "duration": 49,
    "start_time": "2022-02-03T17:04:09.760Z"
   },
   {
    "duration": 6,
    "start_time": "2022-02-03T17:04:09.812Z"
   },
   {
    "duration": 143,
    "start_time": "2022-02-03T17:04:09.820Z"
   },
   {
    "duration": 387,
    "start_time": "2022-02-03T17:04:09.966Z"
   },
   {
    "duration": 125,
    "start_time": "2022-02-03T17:04:10.356Z"
   },
   {
    "duration": 15,
    "start_time": "2022-02-03T17:04:10.484Z"
   },
   {
    "duration": 77,
    "start_time": "2022-02-03T17:04:10.502Z"
   },
   {
    "duration": 16,
    "start_time": "2022-02-03T17:04:10.582Z"
   },
   {
    "duration": 147,
    "start_time": "2022-02-03T17:04:10.601Z"
   },
   {
    "duration": 21,
    "start_time": "2022-02-03T17:04:10.751Z"
   },
   {
    "duration": 12,
    "start_time": "2022-02-03T17:04:10.775Z"
   },
   {
    "duration": 10,
    "start_time": "2022-02-03T17:04:10.789Z"
   },
   {
    "duration": 59,
    "start_time": "2022-02-03T17:04:10.802Z"
   },
   {
    "duration": 146,
    "start_time": "2022-02-03T17:04:10.864Z"
   },
   {
    "duration": 15,
    "start_time": "2022-02-03T17:04:11.013Z"
   },
   {
    "duration": 73,
    "start_time": "2022-02-03T17:04:11.031Z"
   },
   {
    "duration": 12,
    "start_time": "2022-02-03T17:04:11.106Z"
   },
   {
    "duration": 81,
    "start_time": "2022-02-03T17:04:11.121Z"
   },
   {
    "duration": 86,
    "start_time": "2022-02-03T17:04:11.204Z"
   },
   {
    "duration": 107,
    "start_time": "2022-02-03T17:04:11.292Z"
   },
   {
    "duration": 81,
    "start_time": "2022-02-03T17:04:11.401Z"
   },
   {
    "duration": 15,
    "start_time": "2022-02-03T17:04:11.484Z"
   },
   {
    "duration": 10,
    "start_time": "2022-02-03T17:04:11.502Z"
   },
   {
    "duration": 62,
    "start_time": "2022-02-03T17:04:11.514Z"
   },
   {
    "duration": 9,
    "start_time": "2022-02-03T17:04:11.578Z"
   },
   {
    "duration": 11,
    "start_time": "2022-02-03T17:04:11.589Z"
   },
   {
    "duration": 58,
    "start_time": "2022-02-03T17:04:11.602Z"
   },
   {
    "duration": 9,
    "start_time": "2022-02-03T17:04:11.663Z"
   },
   {
    "duration": 17,
    "start_time": "2022-02-03T17:04:11.674Z"
   },
   {
    "duration": 23,
    "start_time": "2022-02-03T17:04:11.693Z"
   },
   {
    "duration": 56,
    "start_time": "2022-02-03T17:04:11.719Z"
   },
   {
    "duration": 21,
    "start_time": "2022-02-03T17:04:11.777Z"
   },
   {
    "duration": 31,
    "start_time": "2022-02-03T17:04:11.800Z"
   },
   {
    "duration": 47,
    "start_time": "2022-02-03T17:04:11.833Z"
   },
   {
    "duration": 5,
    "start_time": "2022-02-03T17:04:11.882Z"
   },
   {
    "duration": 362,
    "start_time": "2022-02-03T17:04:11.890Z"
   },
   {
    "duration": 12,
    "start_time": "2022-02-03T17:04:12.259Z"
   },
   {
    "duration": 7,
    "start_time": "2022-02-03T17:04:12.273Z"
   },
   {
    "duration": 41,
    "start_time": "2022-02-03T17:04:12.282Z"
   },
   {
    "duration": 36,
    "start_time": "2022-02-03T17:04:12.330Z"
   },
   {
    "duration": 28,
    "start_time": "2022-02-03T17:04:12.369Z"
   },
   {
    "duration": 22,
    "start_time": "2022-02-03T17:04:12.400Z"
   },
   {
    "duration": 2137,
    "start_time": "2022-02-03T17:04:12.425Z"
   },
   {
    "duration": 1031,
    "start_time": "2022-02-03T17:04:14.565Z"
   },
   {
    "duration": 8,
    "start_time": "2022-02-03T17:04:15.599Z"
   },
   {
    "duration": 8,
    "start_time": "2022-02-03T17:04:15.610Z"
   },
   {
    "duration": 47,
    "start_time": "2022-02-03T17:04:15.620Z"
   },
   {
    "duration": 1130,
    "start_time": "2022-02-03T17:04:15.669Z"
   },
   {
    "duration": 9,
    "start_time": "2022-02-03T17:04:16.802Z"
   },
   {
    "duration": 10,
    "start_time": "2022-02-03T17:04:16.814Z"
   },
   {
    "duration": 6567,
    "start_time": "2022-02-03T17:10:17.199Z"
   },
   {
    "duration": 7,
    "start_time": "2022-02-03T17:10:25.258Z"
   },
   {
    "duration": 9,
    "start_time": "2022-02-03T17:10:34.437Z"
   },
   {
    "duration": 269,
    "start_time": "2022-02-03T17:10:38.336Z"
   },
   {
    "duration": 10,
    "start_time": "2022-02-03T17:10:58.760Z"
   },
   {
    "duration": 10,
    "start_time": "2022-02-03T17:11:02.860Z"
   },
   {
    "duration": 10,
    "start_time": "2022-02-03T17:11:05.183Z"
   },
   {
    "duration": 10,
    "start_time": "2022-02-03T17:11:16.173Z"
   },
   {
    "duration": 9,
    "start_time": "2022-02-03T17:11:18.885Z"
   },
   {
    "duration": 11,
    "start_time": "2022-02-03T17:11:21.157Z"
   },
   {
    "duration": 19,
    "start_time": "2022-02-03T17:15:23.081Z"
   },
   {
    "duration": 9,
    "start_time": "2022-02-03T17:20:56.470Z"
   },
   {
    "duration": 19,
    "start_time": "2022-02-03T17:24:12.483Z"
   },
   {
    "duration": 36,
    "start_time": "2022-02-03T17:24:19.056Z"
   },
   {
    "duration": 1191,
    "start_time": "2022-02-05T06:57:43.921Z"
   },
   {
    "duration": 30,
    "start_time": "2022-02-05T06:57:45.115Z"
   },
   {
    "duration": 14,
    "start_time": "2022-02-05T06:57:45.147Z"
   },
   {
    "duration": 7,
    "start_time": "2022-02-05T06:57:45.164Z"
   },
   {
    "duration": 20,
    "start_time": "2022-02-05T06:57:45.173Z"
   },
   {
    "duration": 160,
    "start_time": "2022-02-05T06:57:45.194Z"
   },
   {
    "duration": 8,
    "start_time": "2022-02-05T06:57:45.356Z"
   },
   {
    "duration": 23,
    "start_time": "2022-02-05T06:57:45.366Z"
   },
   {
    "duration": 31,
    "start_time": "2022-02-05T06:57:45.407Z"
   },
   {
    "duration": 99,
    "start_time": "2022-02-05T06:57:45.439Z"
   },
   {
    "duration": 7,
    "start_time": "2022-02-05T06:57:45.540Z"
   },
   {
    "duration": 18,
    "start_time": "2022-02-05T06:57:45.549Z"
   },
   {
    "duration": 14,
    "start_time": "2022-02-05T06:57:45.569Z"
   },
   {
    "duration": 149,
    "start_time": "2022-02-05T06:57:45.585Z"
   },
   {
    "duration": 8,
    "start_time": "2022-02-05T06:57:45.736Z"
   },
   {
    "duration": 20,
    "start_time": "2022-02-05T06:57:45.746Z"
   },
   {
    "duration": 57,
    "start_time": "2022-02-05T06:57:45.768Z"
   },
   {
    "duration": 17,
    "start_time": "2022-02-05T06:57:45.827Z"
   },
   {
    "duration": 15,
    "start_time": "2022-02-05T06:57:45.846Z"
   },
   {
    "duration": 9,
    "start_time": "2022-02-05T06:57:45.862Z"
   },
   {
    "duration": 20,
    "start_time": "2022-02-05T06:57:45.872Z"
   },
   {
    "duration": 203,
    "start_time": "2022-02-05T06:57:45.894Z"
   },
   {
    "duration": 71,
    "start_time": "2022-02-05T06:57:46.112Z"
   },
   {
    "duration": 53,
    "start_time": "2022-02-05T06:57:46.186Z"
   },
   {
    "duration": 14,
    "start_time": "2022-02-05T06:57:46.241Z"
   },
   {
    "duration": 118,
    "start_time": "2022-02-05T06:57:46.257Z"
   },
   {
    "duration": 131,
    "start_time": "2022-02-05T06:57:46.378Z"
   },
   {
    "duration": 44,
    "start_time": "2022-02-05T06:57:46.511Z"
   },
   {
    "duration": 25,
    "start_time": "2022-02-05T06:57:46.557Z"
   },
   {
    "duration": 25,
    "start_time": "2022-02-05T06:57:46.584Z"
   },
   {
    "duration": 62,
    "start_time": "2022-02-05T06:57:46.611Z"
   },
   {
    "duration": 160,
    "start_time": "2022-02-05T06:57:46.675Z"
   },
   {
    "duration": 70,
    "start_time": "2022-02-05T06:57:46.837Z"
   },
   {
    "duration": 10,
    "start_time": "2022-02-05T06:57:46.909Z"
   },
   {
    "duration": 35,
    "start_time": "2022-02-05T06:57:46.920Z"
   },
   {
    "duration": 12,
    "start_time": "2022-02-05T06:57:46.957Z"
   },
   {
    "duration": 109,
    "start_time": "2022-02-05T06:57:46.971Z"
   },
   {
    "duration": 61,
    "start_time": "2022-02-05T06:57:47.082Z"
   },
   {
    "duration": 93,
    "start_time": "2022-02-05T06:57:47.152Z"
   },
   {
    "duration": 103,
    "start_time": "2022-02-05T06:57:47.247Z"
   },
   {
    "duration": 55,
    "start_time": "2022-02-05T06:57:47.352Z"
   },
   {
    "duration": 104,
    "start_time": "2022-02-05T06:57:47.409Z"
   },
   {
    "duration": 8,
    "start_time": "2022-02-05T06:57:47.515Z"
   },
   {
    "duration": 48,
    "start_time": "2022-02-05T06:57:47.524Z"
   },
   {
    "duration": 9,
    "start_time": "2022-02-05T06:57:47.574Z"
   },
   {
    "duration": 39,
    "start_time": "2022-02-05T06:57:47.608Z"
   },
   {
    "duration": 71,
    "start_time": "2022-02-05T06:57:47.649Z"
   },
   {
    "duration": 75,
    "start_time": "2022-02-05T06:57:47.722Z"
   },
   {
    "duration": 55,
    "start_time": "2022-02-05T06:57:47.808Z"
   },
   {
    "duration": 13,
    "start_time": "2022-02-05T06:57:47.865Z"
   },
   {
    "duration": 31,
    "start_time": "2022-02-05T06:57:47.880Z"
   },
   {
    "duration": 35,
    "start_time": "2022-02-05T06:57:47.913Z"
   },
   {
    "duration": 7,
    "start_time": "2022-02-05T06:57:47.950Z"
   },
   {
    "duration": 15,
    "start_time": "2022-02-05T06:57:47.959Z"
   },
   {
    "duration": 46,
    "start_time": "2022-02-05T06:57:47.976Z"
   },
   {
    "duration": 6,
    "start_time": "2022-02-05T06:57:48.024Z"
   },
   {
    "duration": 11,
    "start_time": "2022-02-05T06:57:48.032Z"
   },
   {
    "duration": 24,
    "start_time": "2022-02-05T06:57:48.045Z"
   },
   {
    "duration": 38,
    "start_time": "2022-02-05T06:57:48.071Z"
   },
   {
    "duration": 16,
    "start_time": "2022-02-05T06:57:48.111Z"
   },
   {
    "duration": 19,
    "start_time": "2022-02-05T06:57:48.129Z"
   },
   {
    "duration": 4,
    "start_time": "2022-02-05T06:57:48.149Z"
   },
   {
    "duration": 239,
    "start_time": "2022-02-05T06:57:48.155Z"
   },
   {
    "duration": 17,
    "start_time": "2022-02-05T06:57:48.396Z"
   },
   {
    "duration": 5,
    "start_time": "2022-02-05T06:57:48.414Z"
   },
   {
    "duration": 25,
    "start_time": "2022-02-05T06:57:48.420Z"
   },
   {
    "duration": 13,
    "start_time": "2022-02-05T06:57:48.447Z"
   },
   {
    "duration": 42,
    "start_time": "2022-02-05T06:57:48.465Z"
   },
   {
    "duration": 12,
    "start_time": "2022-02-05T06:57:48.510Z"
   },
   {
    "duration": 1301,
    "start_time": "2022-02-05T06:57:48.524Z"
   },
   {
    "duration": 685,
    "start_time": "2022-02-05T06:57:49.827Z"
   },
   {
    "duration": 6,
    "start_time": "2022-02-05T06:57:50.514Z"
   },
   {
    "duration": 10,
    "start_time": "2022-02-05T06:57:50.521Z"
   },
   {
    "duration": 10,
    "start_time": "2022-02-05T06:57:50.533Z"
   },
   {
    "duration": 694,
    "start_time": "2022-02-05T06:57:50.545Z"
   },
   {
    "duration": 7,
    "start_time": "2022-02-05T06:57:51.241Z"
   },
   {
    "duration": 23,
    "start_time": "2022-02-05T06:57:51.250Z"
   }
  ],
  "kernelspec": {
   "display_name": "Python 3",
   "language": "python",
   "name": "python3"
  },
  "language_info": {
   "codemirror_mode": {
    "name": "ipython",
    "version": 3
   },
   "file_extension": ".py",
   "mimetype": "text/x-python",
   "name": "python",
   "nbconvert_exporter": "python",
   "pygments_lexer": "ipython3",
   "version": "3.8.8"
  },
  "toc": {
   "base_numbering": 1,
   "nav_menu": {},
   "number_sections": true,
   "sideBar": true,
   "skip_h1_title": true,
   "title_cell": "Table of Contents",
   "title_sidebar": "Contents",
   "toc_cell": false,
   "toc_position": {},
   "toc_section_display": true,
   "toc_window_display": false
  }
 },
 "nbformat": 4,
 "nbformat_minor": 5
}
